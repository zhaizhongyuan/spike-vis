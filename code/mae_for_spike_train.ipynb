{
 "cells": [
  {
   "cell_type": "code",
   "execution_count": 1,
   "metadata": {},
   "outputs": [],
   "source": [
    "import os, sys\n",
    "import numpy as np\n",
    "import torch\n",
    "from torch.utils.data import DataLoader\n",
    "from torch.nn.parallel import DistributedDataParallel\n",
    "import argparse\n",
    "import time\n",
    "import timm.optim.optim_factory as optim_factory\n",
    "import datetime\n",
    "import matplotlib.pyplot as plt\n",
    "import wandb\n",
    "import copy\n",
    "\n",
    "from config import Config_MBM_fMRI\n",
    "from dataset import hcp_dataset\n",
    "from sc_mbm.mae_for_spike_train import MAEforSPIKE\n",
    "from sc_mbm.trainer import train_one_epoch\n",
    "from sc_mbm.trainer import NativeScalerWithGradNormCount as NativeScaler\n",
    "from sc_mbm.utils import save_model"
   ]
  },
  {
   "cell_type": "code",
   "execution_count": 2,
   "metadata": {},
   "outputs": [],
   "source": [
    "config = Config_MBM_fMRI()"
   ]
  },
  {
   "cell_type": "code",
   "execution_count": 3,
   "metadata": {},
   "outputs": [],
   "source": [
    "img_size = 256\n",
    "model = MAEforSPIKE(img_size=img_size, patch_size=config.patch_size, embed_dim=config.embed_dim,\n",
    "                decoder_embed_dim=config.decoder_embed_dim, depth=config.depth, \n",
    "                num_heads=config.num_heads, decoder_num_heads=config.decoder_num_heads, mlp_ratio=config.mlp_ratio,\n",
    "                focus_range=config.focus_range, focus_rate=config.focus_rate, \n",
    "                img_recon_weight=config.img_recon_weight, use_nature_img_loss=config.use_nature_img_loss)   "
   ]
  },
  {
   "cell_type": "code",
   "execution_count": 4,
   "metadata": {},
   "outputs": [
    {
     "data": {
      "text/plain": [
       "(tensor(1.3977, grad_fn=<DivBackward0>),\n",
       " tensor([[[-0.4932,  1.0020,  1.2352,  ..., -1.7808, -0.8354,  1.3208],\n",
       "          [-0.2488,  1.3524,  0.5713,  ..., -1.4481, -1.9327,  2.5502],\n",
       "          [-0.6857,  1.2362,  0.7120,  ..., -1.7042, -0.5881,  1.5393],\n",
       "          ...,\n",
       "          [ 0.0126,  2.4812,  0.5324,  ..., -1.3076, -1.5454,  2.3111],\n",
       "          [ 0.0196,  2.5036,  0.6580,  ..., -1.1654, -1.7286,  2.2324],\n",
       "          [ 0.0081,  2.4196,  0.8417,  ..., -1.0599, -1.7259,  2.1585]]],\n",
       "        grad_fn=<SliceBackward0>),\n",
       " tensor([[0., 1., 0., 0., 0., 1., 1., 1., 1., 0., 1., 0., 0., 1., 1., 1., 1., 0.,\n",
       "          1., 1., 1., 1., 1., 1., 1., 1., 0., 1., 1., 1., 1., 0., 1., 1., 0., 1.,\n",
       "          1., 1., 1., 1., 1., 1., 1., 1., 1., 1., 1., 1., 1., 1., 1., 1., 1., 1.,\n",
       "          1., 1., 0., 1., 0., 0., 1., 1., 1., 1., 1., 0., 1., 1., 1., 1., 1., 1.,\n",
       "          1., 1., 1., 1., 0., 1., 1., 1., 0., 0., 1., 1., 1., 0., 1., 1., 1., 0.,\n",
       "          1., 1., 1., 1., 1., 1., 1., 0., 1., 1., 1., 1., 1., 1., 0., 1., 1., 1.,\n",
       "          1., 1., 1., 0., 1., 0., 1., 1., 0., 1., 1., 0., 1., 1., 0., 0., 1., 1.,\n",
       "          1., 0., 1., 1., 0., 1., 1., 1., 1., 1., 1., 1., 1., 1., 1., 0., 0., 0.,\n",
       "          0., 1., 1., 0., 1., 0., 0., 1., 1., 1., 0., 1., 0., 1., 1., 1., 1., 0.,\n",
       "          1., 1., 1., 1., 1., 0., 0., 1., 0., 1., 1., 1., 1., 1., 0., 1., 0., 1.,\n",
       "          1., 1., 1., 1., 0., 0., 1., 0., 1., 1., 1., 1., 1., 0., 1., 1., 0., 1.,\n",
       "          0., 1., 0., 1., 1., 0., 1., 1., 1., 1., 1., 1., 0., 1., 1., 0., 1., 1.,\n",
       "          0., 1., 1., 1., 1., 1., 1., 1., 1., 1., 0., 1., 1., 1., 1., 1., 1., 1.,\n",
       "          1., 0., 0., 0., 1., 1., 0., 1., 0., 1., 1., 1., 0., 1., 1., 0., 1., 1.,\n",
       "          1., 1., 1., 1.]]))"
      ]
     },
     "execution_count": 4,
     "metadata": {},
     "output_type": "execute_result"
    }
   ],
   "source": [
    "model(torch.rand(1, 1, 256, 256))"
   ]
  },
  {
   "cell_type": "code",
   "execution_count": null,
   "metadata": {},
   "outputs": [],
   "source": []
  }
 ],
 "metadata": {
  "kernelspec": {
   "display_name": "nsp",
   "language": "python",
   "name": "python3"
  },
  "language_info": {
   "codemirror_mode": {
    "name": "ipython",
    "version": 3
   },
   "file_extension": ".py",
   "mimetype": "text/x-python",
   "name": "python",
   "nbconvert_exporter": "python",
   "pygments_lexer": "ipython3",
   "version": "3.10.13"
  },
  "orig_nbformat": 4
 },
 "nbformat": 4,
 "nbformat_minor": 2
}
