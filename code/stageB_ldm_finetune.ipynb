{
 "cells": [
  {
   "cell_type": "code",
   "execution_count": 1,
   "metadata": {},
   "outputs": [],
   "source": [
    "import os, sys\n",
    "import numpy as np\n",
    "import matplotlib.pyplot as plt\n",
    "import torch\n",
    "from torch.utils.data import random_split\n",
    "import argparse\n",
    "import datetime\n",
    "import wandb\n",
    "import torchvision.transforms as transforms\n",
    "from einops import rearrange\n",
    "from PIL import Image\n",
    "import pytorch_lightning as pl\n",
    "\n",
    "import torch.distributed as dist\n",
    "from lightning_utilities.core.rank_zero import rank_zero_only\n",
    "\n",
    "if dist.is_initialized():\n",
    "    rank = dist.get_rank()\n",
    "    rank_zero_only.rank = rank == 0\n",
    "else:\n",
    "    rank_zero_only.rank = True\n",
    "\n",
    "from pytorch_lightning.loggers import WandbLogger\n",
    "import copy\n",
    "\n",
    "# own code\n",
    "from config import Config_Generative_Model\n",
    "from dataset import create_Kamitani_dataset, create_BOLD5000_dataset, create_allen_dataset\n",
    "# from dc_ldm.ldm_for_spike import sLDM\n",
    "from dc_ldm.ldm_for_fmri import fLDM\n",
    "from eval_metrics import get_similarity_metric"
   ]
  },
  {
   "cell_type": "code",
   "execution_count": 2,
   "metadata": {},
   "outputs": [],
   "source": [
    "os.environ['RANK'] = '0'\n",
    "os.environ['LOCAL_RANK'] = '0'"
   ]
  },
  {
   "cell_type": "code",
   "execution_count": 3,
   "metadata": {},
   "outputs": [
    {
     "data": {
      "text/plain": [
       "'1.6.5'"
      ]
     },
     "execution_count": 3,
     "metadata": {},
     "output_type": "execute_result"
    }
   ],
   "source": [
    "pl.__version__"
   ]
  },
  {
   "cell_type": "code",
   "execution_count": 4,
   "metadata": {},
   "outputs": [
    {
     "data": {
      "text/plain": [
       "torch.FloatTensor"
      ]
     },
     "execution_count": 4,
     "metadata": {},
     "output_type": "execute_result"
    }
   ],
   "source": [
    "torch.FloatTensor"
   ]
  },
  {
   "cell_type": "code",
   "execution_count": 5,
   "metadata": {},
   "outputs": [],
   "source": [
    "def wandb_init(config, output_path):\n",
    "    wandb.init( project='mind-vis',\n",
    "                group=\"stageB_dc-ldm\",\n",
    "                anonymous=\"allow\",\n",
    "                config=config,\n",
    "                reinit=True)\n",
    "    create_readme(config, output_path)\n",
    "\n",
    "def wandb_finish():\n",
    "    wandb.finish()"
   ]
  },
  {
   "cell_type": "code",
   "execution_count": 6,
   "metadata": {},
   "outputs": [],
   "source": [
    "def to_image(img):\n",
    "    if img.shape[-1] != 3:\n",
    "        img = rearrange(img, 'c h w -> h w c')\n",
    "    img = 255. * img\n",
    "    return Image.fromarray(img.astype(np.uint8))\n",
    "\n",
    "def channel_last(img):\n",
    "        if img.shape[-1] == 3:\n",
    "            return img\n",
    "        return rearrange(img, 'c h w -> h w c')\n",
    "\n",
    "def get_eval_metric(samples, avg=True):\n",
    "    metric_list = ['mse', 'pcc', 'ssim', 'psm']\n",
    "    res_list = []\n",
    "    \n",
    "    gt_images = [img[0] for img in samples]\n",
    "    gt_images = rearrange(np.stack(gt_images), 'n c h w -> n h w c')\n",
    "    samples_to_run = np.arange(1, len(samples[0])) if avg else [1]\n",
    "    for m in metric_list:\n",
    "        res_part = []\n",
    "        for s in samples_to_run:\n",
    "            pred_images = [img[s] for img in samples]\n",
    "            pred_images = rearrange(np.stack(pred_images), 'n c h w -> n h w c')\n",
    "            res = get_similarity_metric(pred_images, gt_images, method='pair-wise', metric_name=m)\n",
    "            res_part.append(np.mean(res))\n",
    "        res_list.append(np.mean(res_part))     \n",
    "    res_part = []\n",
    "    for s in samples_to_run:\n",
    "        pred_images = [img[s] for img in samples]\n",
    "        pred_images = rearrange(np.stack(pred_images), 'n c h w -> n h w c')\n",
    "        res = get_similarity_metric(pred_images, gt_images, 'class', None, \n",
    "                        n_way=50, num_trials=50, top_k=1, device='cuda')\n",
    "        res_part.append(np.mean(res))\n",
    "    res_list.append(np.mean(res_part))\n",
    "    res_list.append(np.max(res_part))\n",
    "    metric_list.append('top-1-class')\n",
    "    metric_list.append('top-1-class (max)')\n",
    "    return res_list, metric_list"
   ]
  },
  {
   "cell_type": "code",
   "execution_count": 11,
   "metadata": {},
   "outputs": [],
   "source": [
    "def generate_images(generative_model, fmri_latents_dataset_train, fmri_latents_dataset_test, config):\n",
    "    grid, _ = generative_model.generate(fmri_latents_dataset_train, config.num_samples, \n",
    "                config.ddim_steps, config.HW, 10) # generate 10 instances\n",
    "    grid_imgs = Image.fromarray(grid.astype(np.uint8))\n",
    "    grid_imgs.save(os.path.join(config.output_path, 'samples_train.png'))\n",
    "    wandb.log({'summary/samples_train': wandb.Image(grid_imgs)})\n",
    "\n",
    "    grid, samples = generative_model.generate(fmri_latents_dataset_test, config.num_samples, \n",
    "                config.ddim_steps, config.HW)\n",
    "    grid_imgs = Image.fromarray(grid.astype(np.uint8))\n",
    "    grid_imgs.save(os.path.join(config.output_path,f'./samples_test.png'))\n",
    "    for sp_idx, imgs in enumerate(samples):\n",
    "        for copy_idx, img in enumerate(imgs[1:]):\n",
    "            img = rearrange(img, 'c h w -> h w c')\n",
    "            Image.fromarray(img).save(os.path.join(config.output_path, \n",
    "                            f'./test{sp_idx}-{copy_idx}.png'))\n",
    "\n",
    "    wandb.log({f'summary/samples_test': wandb.Image(grid_imgs)})\n",
    "\n",
    "    # metric, metric_list = get_eval_metric(samples, avg=config.eval_avg)\n",
    "    # metric_dict = {f'summary/pair-wise_{k}':v for k, v in zip(metric_list[:-2], metric[:-2])}\n",
    "    # metric_dict[f'summary/{metric_list[-2]}'] = metric[-2]\n",
    "    # metric_dict[f'summary/{metric_list[-1]}'] = metric[-1]\n",
    "    # wandb.log(metric_dict)"
   ]
  },
  {
   "cell_type": "code",
   "execution_count": 12,
   "metadata": {},
   "outputs": [],
   "source": [
    "def normalize(img):\n",
    "    if img.shape[-1] == 3:\n",
    "        img = rearrange(img, 'h w c -> c h w')\n",
    "    img = torch.tensor(img)\n",
    "    img = img * 2.0 - 1.0 # to -1 ~ 1\n",
    "    return img\n",
    "\n",
    "class random_crop:\n",
    "    def __init__(self, size, p):\n",
    "        self.size = size\n",
    "        self.p = p\n",
    "    def __call__(self, img):\n",
    "        if torch.rand(1) < self.p:\n",
    "            return transforms.RandomCrop(size=(self.size, self.size))(img)\n",
    "        return img"
   ]
  },
  {
   "cell_type": "code",
   "execution_count": 13,
   "metadata": {},
   "outputs": [],
   "source": [
    "def fmri_transform(x, sparse_rate=0.2):\n",
    "    # x: 1, num_voxels\n",
    "    x_aug = copy.deepcopy(x)\n",
    "    idx = np.random.choice(x.shape[0], int(x.shape[0]*sparse_rate), replace=False)\n",
    "    x_aug[idx] = 0\n",
    "    return torch.FloatTensor(x_aug)"
   ]
  },
  {
   "cell_type": "code",
   "execution_count": 14,
   "metadata": {},
   "outputs": [],
   "source": [
    "def update_config(args, config):\n",
    "    for attr in config.__dict__:\n",
    "        if hasattr(args, attr):\n",
    "            if getattr(args, attr) != None:\n",
    "                setattr(config, attr, getattr(args, attr))\n",
    "    return config\n",
    "\n",
    "def create_readme(config, path):\n",
    "    print(config.__dict__)\n",
    "    with open(os.path.join(path, 'README.md'), 'w+') as f:\n",
    "        print(config.__dict__, file=f)\n",
    "\n",
    "\n",
    "def create_trainer(num_epoch, precision=32, accumulate_grad_batches=2,logger=None, check_val_every_n_epoch=0):\n",
    "    acc = 'gpu' if torch.cuda.is_available() else 'cpu'\n",
    "    return pl.Trainer(accelerator=acc, max_epochs=num_epoch, logger=logger, \n",
    "            precision=precision, accumulate_grad_batches=accumulate_grad_batches,\n",
    "            enable_checkpointing=False, enable_model_summary=False, gradient_clip_val=0.5,\n",
    "            check_val_every_n_epoch=check_val_every_n_epoch, devices=1, strategy=None)"
   ]
  },
  {
   "cell_type": "code",
   "execution_count": 15,
   "metadata": {},
   "outputs": [],
   "source": [
    "config = Config_Generative_Model()\n",
    "\n",
    "if config.checkpoint_path is not None:\n",
    "    model_meta = torch.load(config.checkpoint_path, map_location='cpu')\n",
    "    ckp = config.checkpoint_path\n",
    "    config = model_meta['config']\n",
    "    config.checkpoint_path = ckp\n",
    "    print('Resuming from checkpoint: {}'.format(config.checkpoint_path))\n",
    "\n",
    "output_path = os.path.join(config.root_path, 'results', 'generation',  '%s'%(datetime.datetime.now().strftime(\"%d-%m-%Y-%H-%M-%S\")))\n",
    "config.output_path = output_path\n",
    "os.makedirs(output_path, exist_ok=True)"
   ]
  },
  {
   "cell_type": "code",
   "execution_count": 16,
   "metadata": {},
   "outputs": [],
   "source": [
    "config.num_epoch = 10"
   ]
  },
  {
   "cell_type": "code",
   "execution_count": 17,
   "metadata": {},
   "outputs": [
    {
     "data": {
      "text/plain": [
       "'ALLEN'"
      ]
     },
     "execution_count": 17,
     "metadata": {},
     "output_type": "execute_result"
    }
   ],
   "source": [
    "config.dataset"
   ]
  },
  {
   "cell_type": "code",
   "execution_count": 18,
   "metadata": {},
   "outputs": [
    {
     "name": "stderr",
     "output_type": "stream",
     "text": [
      "Failed to detect the name of this notebook, you can set it manually with the WANDB_NOTEBOOK_NAME environment variable to enable code saving.\n",
      "\u001b[34m\u001b[1mwandb\u001b[0m: Currently logged in as: \u001b[33mzhaizhongyuan\u001b[0m (\u001b[33m11785-bhiksha\u001b[0m). Use \u001b[1m`wandb login --relogin`\u001b[0m to force relogin\n"
     ]
    },
    {
     "data": {
      "text/html": [
       "wandb version 0.19.0 is available!  To upgrade, please run:\n",
       " $ pip install wandb --upgrade"
      ],
      "text/plain": [
       "<IPython.core.display.HTML object>"
      ]
     },
     "metadata": {},
     "output_type": "display_data"
    },
    {
     "data": {
      "text/html": [
       "Tracking run with wandb version 0.12.21"
      ],
      "text/plain": [
       "<IPython.core.display.HTML object>"
      ]
     },
     "metadata": {},
     "output_type": "display_data"
    },
    {
     "data": {
      "text/html": [
       "Run data is saved locally in <code>/storage/ice1/1/7/zzhai37/nsp/mind-vis/code/wandb/run-20241204_213953-86dw2uit</code>"
      ],
      "text/plain": [
       "<IPython.core.display.HTML object>"
      ]
     },
     "metadata": {},
     "output_type": "display_data"
    },
    {
     "data": {
      "text/html": [
       "Syncing run <strong><a href=\"https://wandb.ai/11785-bhiksha/mind-vis/runs/86dw2uit\" target=\"_blank\">neat-glade-134</a></strong> to <a href=\"https://wandb.ai/11785-bhiksha/mind-vis\" target=\"_blank\">Weights & Biases</a> (<a href=\"https://wandb.me/run\" target=\"_blank\">docs</a>)<br/>"
      ],
      "text/plain": [
       "<IPython.core.display.HTML object>"
      ]
     },
     "metadata": {},
     "output_type": "display_data"
    },
    {
     "name": "stdout",
     "output_type": "stream",
     "text": [
      "{'seed': 2022, 'root_path': '../', 'kam_path': '../data/Kamitani/npz', 'bold5000_path': '../data/BOLD5000', 'allen_path': '../data/ALLEN', 'roi': 'VC', 'patch_size': 8, 'pretrain_gm_path': '../pretrains/ldm/label2img', 'dataset': 'ALLEN', 'kam_subs': ['sbj_3'], 'bold5000_subs': ['CSI1'], 'pretrain_mbm_path': '../pretrains/ALLEN/fmri_encoder.pth', 'img_size': 256, 'batch_size': 25, 'lr': 5.3e-05, 'num_epoch': 10, 'precision': 32, 'accumulate_grad': 1, 'crop_ratio': 0.2, 'global_pool': False, 'use_time_cond': True, 'eval_avg': True, 'num_samples': 5, 'ddim_steps': 250, 'HW': None, 'model_meta': None, 'checkpoint_path': None, 'output_path': '../results/generation/04-12-2024-21-39-37'}\n"
     ]
    },
    {
     "name": "stderr",
     "output_type": "stream",
     "text": [
      "/home/hice1/zzhai37/.conda/envs/mind-vis/lib/python3.8/site-packages/pytorch_lightning/loggers/wandb.py:347: UserWarning: There is a wandb run already in progress and newly created instances of `WandbLogger` will reuse this run. If this is not desired, call `wandb.finish()` before instantiating `WandbLogger`.\n",
      "  rank_zero_warn(\n"
     ]
    }
   ],
   "source": [
    "from pytorch_lightning.utilities import rank_zero_only\n",
    "rank_zero_only.rank = 0\n",
    "\n",
    "wandb_init(config, output_path)\n",
    "logger = WandbLogger()\n",
    "config.logger = logger\n",
    "\n",
    "# project setup\n",
    "device = torch.device('cuda') if torch.cuda.is_available() else torch.device('cpu')\n",
    "torch.manual_seed(config.seed)\n",
    "np.random.seed(config.seed)\n",
    "\n",
    "crop_pix = int(config.crop_ratio*config.img_size)\n",
    "img_transform_train = transforms.Compose([\n",
    "    normalize,\n",
    "    random_crop(config.img_size-crop_pix, p=0.5),\n",
    "    transforms.Resize((256, 256)), \n",
    "    channel_last\n",
    "])\n",
    "img_transform_test = transforms.Compose([\n",
    "    normalize, transforms.Resize((256, 256)), \n",
    "    channel_last\n",
    "])\n",
    "if config.dataset == 'GOD':\n",
    "    fmri_latents_dataset_train, fmri_latents_dataset_test = create_Kamitani_dataset(config.kam_path, config.roi, config.patch_size, \n",
    "            fmri_transform=fmri_transform, image_transform=[img_transform_train, img_transform_test], \n",
    "            subjects=config.kam_subs)\n",
    "    num_voxels = fmri_latents_dataset_train.num_voxels\n",
    "elif config.dataset == 'BOLD5000':\n",
    "    fmri_latents_dataset_train, fmri_latents_dataset_test = create_BOLD5000_dataset(config.bold5000_path, config.patch_size, \n",
    "            fmri_transform=fmri_transform, image_transform=[img_transform_train, img_transform_test], \n",
    "            subjects=config.bold5000_subs)\n",
    "    num_voxels = fmri_latents_dataset_train.num_voxels\n",
    "elif config.dataset == 'ALLEN':\n",
    "    fmri_latents_dataset_train, fmri_latents_dataset_test = create_allen_dataset(fmri_transform=fmri_transform, image_transform=[img_transform_train, img_transform_test])\n",
    "    \n",
    "    num_voxels = fmri_latents_dataset_train.n_neurons\n",
    "else:\n",
    "    raise NotImplementedError"
   ]
  },
  {
   "cell_type": "code",
   "execution_count": 19,
   "metadata": {},
   "outputs": [
    {
     "name": "stderr",
     "output_type": "stream",
     "text": [
      "/scratch/1012665/ipykernel_2099985/2336139990.py:4: UserWarning: To copy construct from a tensor, it is recommended to use sourceTensor.clone().detach() or sourceTensor.clone().detach().requires_grad_(True), rather than torch.tensor(sourceTensor).\n",
      "  img = torch.tensor(img)\n"
     ]
    },
    {
     "data": {
      "text/plain": [
       "torch.Size([1, 896])"
      ]
     },
     "execution_count": 19,
     "metadata": {},
     "output_type": "execute_result"
    }
   ],
   "source": [
    "fmri_latents_dataset_train[0]['fmri'].shape"
   ]
  },
  {
   "cell_type": "code",
   "execution_count": 20,
   "metadata": {},
   "outputs": [
    {
     "name": "stderr",
     "output_type": "stream",
     "text": [
      "/scratch/1012665/ipykernel_2099985/2336139990.py:4: UserWarning: To copy construct from a tensor, it is recommended to use sourceTensor.clone().detach() or sourceTensor.clone().detach().requires_grad_(True), rather than torch.tensor(sourceTensor).\n",
      "  img = torch.tensor(img)\n"
     ]
    },
    {
     "data": {
      "text/plain": [
       "torch.Size([256, 256, 3])"
      ]
     },
     "execution_count": 20,
     "metadata": {},
     "output_type": "execute_result"
    }
   ],
   "source": [
    "fmri_latents_dataset_train[0]['image'].shape"
   ]
  },
  {
   "cell_type": "code",
   "execution_count": 21,
   "metadata": {},
   "outputs": [
    {
     "name": "stderr",
     "output_type": "stream",
     "text": [
      "/scratch/1012665/ipykernel_2099985/2336139990.py:4: UserWarning: To copy construct from a tensor, it is recommended to use sourceTensor.clone().detach() or sourceTensor.clone().detach().requires_grad_(True), rather than torch.tensor(sourceTensor).\n",
      "  img = torch.tensor(img)\n",
      "Clipping input data to the valid range for imshow with RGB data ([0..1] for floats or [0..255] for integers).\n"
     ]
    },
    {
     "data": {
      "text/plain": [
       "<matplotlib.image.AxesImage at 0x1554865360d0>"
      ]
     },
     "execution_count": 21,
     "metadata": {},
     "output_type": "execute_result"
    },
    {
     "data": {
      "image/png": "[encoded data removed]",
      "text/plain": [
       "<Figure size 640x480 with 1 Axes>"
      ]
     },
     "metadata": {},
     "output_type": "display_data"
    }
   ],
   "source": [
    "plt.imshow(fmri_latents_dataset_train[0]['image'].numpy())"
   ]
  },
  {
   "cell_type": "code",
   "execution_count": 22,
   "metadata": {},
   "outputs": [
    {
     "name": "stdout",
     "output_type": "stream",
     "text": [
      "LatentDiffusion: Running in eps-prediction mode\n",
      "DiffusionWrapper has 401.32 M params.\n",
      "making attention of type 'vanilla' with 512 in_channels\n",
      "Working with z of shape (1, 3, 64, 64) = 12288 dimensions.\n",
      "making attention of type 'vanilla' with 512 in_channels\n",
      "missing keys: []\n",
      "unexpected keys: ['mask_token']\n"
     ]
    }
   ],
   "source": [
    "# prepare pretrained mbm \n",
    "# pretrain_mbm_metafile = torch.load(config.pretrain_mbm_path, map_location='cpu', weights_only=False)\n",
    "pretrain_mbm_metafile = torch.load(config.pretrain_mbm_path, map_location='cpu')\n",
    "# create generateive model\n",
    "generative_model = fLDM(pretrain_mbm_metafile, num_voxels,\n",
    "            device=device, pretrain_root=config.pretrain_gm_path, logger=config.logger, \n",
    "            ddim_steps=config.ddim_steps, global_pool=config.global_pool, use_time_cond=config.use_time_cond)\n",
    "\n",
    "# # resume training if applicable\n",
    "if config.checkpoint_path is not None:\n",
    "    model_meta = torch.load(config.checkpoint_path, map_location='cpu')\n",
    "    generative_model.model.load_state_dict(model_meta['model_state_dict'])\n",
    "    print('model resumed')"
   ]
  },
  {
   "cell_type": "code",
   "execution_count": 23,
   "metadata": {},
   "outputs": [
    {
     "data": {
      "text/plain": [
       "25"
      ]
     },
     "execution_count": 23,
     "metadata": {},
     "output_type": "execute_result"
    }
   ],
   "source": [
    "config.batch_size"
   ]
  },
  {
   "cell_type": "code",
   "execution_count": 24,
   "metadata": {},
   "outputs": [
    {
     "name": "stderr",
     "output_type": "stream",
     "text": [
      "GPU available: True, used: True\n",
      "TPU available: False, using: 0 TPU cores\n",
      "IPU available: False, using: 0 IPUs\n",
      "HPU available: False, using: 0 HPUs\n",
      "/home/hice1/zzhai37/.conda/envs/mind-vis/lib/python3.8/site-packages/pytorch_lightning/trainer/configuration_validator.py:326: LightningDeprecationWarning: Base `LightningModule.on_train_batch_start` hook signature has changed in v1.5. The `dataloader_idx` argument will be removed in v1.7.\n",
      "  rank_zero_deprecation(\n"
     ]
    },
    {
     "name": "stdout",
     "output_type": "stream",
     "text": [
      "\n",
      "##### Stage One: only optimize conditional encoders #####\n"
     ]
    },
    {
     "name": "stderr",
     "output_type": "stream",
     "text": [
      "LOCAL_RANK: 0 - CUDA_VISIBLE_DEVICES: [0]\n"
     ]
    },
    {
     "name": "stdout",
     "output_type": "stream",
     "text": [
      "LatentDiffusion: Only optimizing conditioner params!\n"
     ]
    },
    {
     "name": "stderr",
     "output_type": "stream",
     "text": [
      "/home/hice1/zzhai37/.conda/envs/mind-vis/lib/python3.8/site-packages/torch/optim/adamw.py:91: UserWarning: optimizer contains a parameter group with duplicate parameters; in future, this will cause an error; see github.com/pytorch/pytorch/issues/40967 for more information\n",
      "  super(AdamW, self).__init__(params, defaults)\n"
     ]
    },
    {
     "data": {
      "application/json": {
       "ascii": false,
       "bar_format": null,
       "colour": null,
       "elapsed": 0.003912210464477539,
       "initial": 0,
       "n": 0,
       "ncols": null,
       "nrows": null,
       "postfix": null,
       "prefix": "Sanity Checking",
       "rate": null,
       "total": null,
       "unit": "it",
       "unit_divisor": 1000,
       "unit_scale": false
      },
      "application/vnd.jupyter.widget-view+json": {
       "model_id": "5c352c99bcc24178a712eec549be52f6",
       "version_major": 2,
       "version_minor": 0
      },
      "text/plain": [
       "Sanity Checking: 0it [00:00, ?it/s]"
      ]
     },
     "metadata": {},
     "output_type": "display_data"
    },
    {
     "name": "stderr",
     "output_type": "stream",
     "text": [
      "/home/hice1/zzhai37/.conda/envs/mind-vis/lib/python3.8/site-packages/pytorch_lightning/trainer/connectors/data_connector.py:240: PossibleUserWarning: The dataloader, val_dataloader 0, does not have many workers which may be a bottleneck. Consider increasing the value of the `num_workers` argument` (try 64 which is the number of cpus on this machine) in the `DataLoader` init to improve performance.\n",
      "  rank_zero_warn(\n",
      "/scratch/1012665/ipykernel_2099985/2336139990.py:4: UserWarning: To copy construct from a tensor, it is recommended to use sourceTensor.clone().detach() or sourceTensor.clone().detach().requires_grad_(True), rather than torch.tensor(sourceTensor).\n",
      "  img = torch.tensor(img)\n"
     ]
    },
    {
     "name": "stdout",
     "output_type": "stream",
     "text": [
      "rendering 3 examples in 250 steps.\n",
      "Data shape for PLMS sampling is (3, 3, 64, 64)\n",
      "Running PLMS Sampling with 250 timesteps\n"
     ]
    },
    {
     "name": "stderr",
     "output_type": "stream",
     "text": [
      "PLMS Sampler: 100%|██████████| 250/250 [00:17<00:00, 14.06it/s]\n"
     ]
    },
    {
     "name": "stdout",
     "output_type": "stream",
     "text": [
      "rendering 3 examples in 250 steps.\n",
      "Data shape for PLMS sampling is (3, 3, 64, 64)\n",
      "Running PLMS Sampling with 250 timesteps\n"
     ]
    },
    {
     "name": "stderr",
     "output_type": "stream",
     "text": [
      "PLMS Sampler: 100%|██████████| 250/250 [00:15<00:00, 15.93it/s]\n"
     ]
    },
    {
     "name": "stdout",
     "output_type": "stream",
     "text": [
      "rendering 3 examples in 250 steps.\n",
      "Data shape for PLMS sampling is (3, 3, 64, 64)\n",
      "Running PLMS Sampling with 250 timesteps\n"
     ]
    },
    {
     "name": "stderr",
     "output_type": "stream",
     "text": [
      "PLMS Sampler: 100%|██████████| 250/250 [00:15<00:00, 15.93it/s]\n"
     ]
    },
    {
     "name": "stdout",
     "output_type": "stream",
     "text": [
      "rendering 3 examples in 250 steps.\n",
      "Data shape for PLMS sampling is (3, 3, 64, 64)\n",
      "Running PLMS Sampling with 250 timesteps\n"
     ]
    },
    {
     "name": "stderr",
     "output_type": "stream",
     "text": [
      "PLMS Sampler: 100%|██████████| 250/250 [00:15<00:00, 15.93it/s]\n"
     ]
    },
    {
     "name": "stdout",
     "output_type": "stream",
     "text": [
      "rendering 3 examples in 250 steps.\n",
      "Data shape for PLMS sampling is (3, 3, 64, 64)\n",
      "Running PLMS Sampling with 250 timesteps\n"
     ]
    },
    {
     "name": "stderr",
     "output_type": "stream",
     "text": [
      "PLMS Sampler: 100%|██████████| 250/250 [00:15<00:00, 15.94it/s]\n",
      "/home/hice1/zzhai37/.conda/envs/mind-vis/lib/python3.8/site-packages/torchvision/models/_utils.py:208: UserWarning: The parameter 'pretrained' is deprecated since 0.13 and will be removed in 0.15, please use 'weights' instead.\n",
      "  warnings.warn(\n",
      "/home/hice1/zzhai37/.conda/envs/mind-vis/lib/python3.8/site-packages/torchvision/models/_utils.py:223: UserWarning: Arguments other than a weight enum or `None` for 'weights' are deprecated since 0.13 and will be removed in 0.15. The current behavior is equivalent to passing `weights=AlexNet_Weights.IMAGENET1K_V1`. You can also use `weights=AlexNet_Weights.DEFAULT` to get the most up-to-date weights.\n",
      "  warnings.warn(msg)\n",
      "/home/hice1/zzhai37/.conda/envs/mind-vis/lib/python3.8/site-packages/pytorch_lightning/trainer/connectors/data_connector.py:240: PossibleUserWarning: The dataloader, train_dataloader, does not have many workers which may be a bottleneck. Consider increasing the value of the `num_workers` argument` (try 64 which is the number of cpus on this machine) in the `DataLoader` init to improve performance.\n",
      "  rank_zero_warn(\n"
     ]
    },
    {
     "data": {
      "application/json": {
       "ascii": false,
       "bar_format": null,
       "colour": null,
       "elapsed": 0.0036907196044921875,
       "initial": 0,
       "n": 0,
       "ncols": null,
       "nrows": null,
       "postfix": null,
       "prefix": "Training",
       "rate": null,
       "total": null,
       "unit": "it",
       "unit_divisor": 1000,
       "unit_scale": false
      },
      "application/vnd.jupyter.widget-view+json": {
       "model_id": "e694752fa7e946f38a0c3d5f2a2997a1",
       "version_major": 2,
       "version_minor": 0
      },
      "text/plain": [
       "Training: 0it [00:00, ?it/s]"
      ]
     },
     "metadata": {},
     "output_type": "display_data"
    },
    {
     "data": {
      "application/json": {
       "ascii": false,
       "bar_format": null,
       "colour": null,
       "elapsed": 0.003759622573852539,
       "initial": 0,
       "n": 0,
       "ncols": null,
       "nrows": null,
       "postfix": null,
       "prefix": "Validation",
       "rate": null,
       "total": null,
       "unit": "it",
       "unit_divisor": 1000,
       "unit_scale": false
      },
      "application/vnd.jupyter.widget-view+json": {
       "model_id": "43b628812bb34ed5a9bbf765e409651f",
       "version_major": 2,
       "version_minor": 0
      },
      "text/plain": [
       "Validation: 0it [00:00, ?it/s]"
      ]
     },
     "metadata": {},
     "output_type": "display_data"
    },
    {
     "name": "stdout",
     "output_type": "stream",
     "text": [
      "rendering 3 examples in 250 steps.\n",
      "Data shape for PLMS sampling is (3, 3, 64, 64)\n",
      "Running PLMS Sampling with 250 timesteps\n"
     ]
    },
    {
     "name": "stderr",
     "output_type": "stream",
     "text": [
      "\n",
      "\u001b[A\n",
      "\u001b[A\n",
      "\u001b[A\n",
      "\u001b[A\n",
      "\u001b[A\n",
      "\u001b[A\n",
      "\u001b[A\n",
      "\u001b[A\n",
      "\u001b[A\n",
      "\u001b[A\n",
      "\u001b[A\n",
      "\u001b[A\n",
      "\u001b[A\n",
      "\u001b[A\n",
      "\u001b[A\n",
      "\u001b[A\n",
      "\u001b[A\n",
      "\u001b[A\n",
      "\u001b[A\n",
      "\u001b[A\n",
      "\u001b[A\n",
      "\u001b[A\n",
      "\u001b[A\n",
      "\u001b[A\n",
      "\u001b[A\n",
      "\u001b[A\n",
      "\u001b[A\n",
      "\u001b[A\n",
      "\u001b[A\n",
      "\u001b[A\n",
      "\u001b[A\n",
      "\u001b[A\n",
      "\u001b[A\n",
      "\u001b[A\n",
      "\u001b[A\n",
      "\u001b[A\n",
      "\u001b[A\n",
      "\u001b[A\n",
      "\u001b[A\n",
      "\u001b[A\n",
      "\u001b[A\n",
      "\u001b[A\n",
      "\u001b[A\n",
      "\u001b[A\n",
      "\u001b[A\n",
      "\u001b[A\n",
      "\u001b[A\n",
      "\u001b[A\n",
      "\u001b[A\n",
      "\u001b[A\n",
      "\u001b[A\n",
      "\u001b[A\n",
      "\u001b[A\n",
      "\u001b[A\n",
      "\u001b[A\n",
      "\u001b[A\n",
      "\u001b[A\n",
      "\u001b[A\n",
      "\u001b[A\n",
      "\u001b[A\n",
      "\u001b[A\n",
      "\u001b[A\n",
      "\u001b[A\n",
      "\u001b[A\n",
      "\u001b[A\n",
      "\u001b[A\n",
      "\u001b[A\n",
      "\u001b[A\n",
      "\u001b[A\n",
      "\u001b[A\n",
      "\u001b[A\n",
      "\u001b[A\n",
      "\u001b[A\n",
      "\u001b[A\n",
      "\u001b[A\n",
      "\u001b[A\n",
      "\u001b[A\n",
      "\u001b[A\n",
      "\u001b[A\n",
      "\u001b[A\n",
      "\u001b[A\n",
      "\u001b[A\n",
      "\u001b[A\n",
      "\u001b[A\n",
      "\u001b[A\n",
      "\u001b[A\n",
      "\u001b[A\n",
      "\u001b[A\n",
      "\u001b[A\n",
      "\u001b[A\n",
      "\u001b[A\n",
      "\u001b[A\n",
      "\u001b[A\n",
      "\u001b[A\n",
      "\u001b[A\n",
      "\u001b[A\n",
      "\u001b[A\n",
      "\u001b[A\n",
      "\u001b[A\n",
      "\u001b[A\n",
      "\u001b[A\n",
      "\u001b[A\n",
      "\u001b[A\n",
      "\u001b[A\n",
      "\u001b[A\n",
      "\u001b[A\n",
      "\u001b[A\n",
      "\u001b[A\n",
      "\u001b[A\n",
      "\u001b[A\n",
      "\u001b[A\n",
      "\u001b[A\n",
      "\u001b[A\n",
      "\u001b[A\n",
      "\u001b[A\n",
      "\u001b[A\n",
      "\u001b[A\n",
      "\u001b[A\n",
      "\u001b[A\n",
      "\u001b[A\n",
      "\u001b[A\n",
      "\u001b[A\n",
      "\u001b[A\n",
      "\u001b[A\n",
      "\u001b[A\n",
      "PLMS Sampler: 100%|██████████| 250/250 [00:16<00:00, 14.83it/s]\n"
     ]
    },
    {
     "name": "stdout",
     "output_type": "stream",
     "text": [
      "rendering 3 examples in 250 steps.\n",
      "Data shape for PLMS sampling is (3, 3, 64, 64)\n",
      "Running PLMS Sampling with 250 timesteps\n"
     ]
    },
    {
     "name": "stderr",
     "output_type": "stream",
     "text": [
      "\n",
      "\u001b[A\n",
      "\u001b[A\n",
      "\u001b[A\n",
      "\u001b[A\n",
      "\u001b[A\n",
      "\u001b[A\n",
      "\u001b[A\n",
      "\u001b[A\n",
      "\u001b[A\n",
      "\u001b[A\n",
      "\u001b[A\n",
      "\u001b[A\n",
      "\u001b[A\n",
      "\u001b[A\n",
      "\u001b[A\n",
      "\u001b[A\n",
      "\u001b[A\n",
      "\u001b[A\n",
      "\u001b[A\n",
      "\u001b[A\n",
      "\u001b[A\n",
      "\u001b[A\n",
      "\u001b[A\n",
      "\u001b[A\n",
      "\u001b[A\n",
      "\u001b[A\n",
      "\u001b[A\n",
      "\u001b[A\n",
      "\u001b[A\n",
      "\u001b[A\n",
      "\u001b[A\n",
      "\u001b[A\n",
      "\u001b[A\n",
      "\u001b[A\n",
      "\u001b[A\n",
      "\u001b[A\n",
      "\u001b[A\n",
      "\u001b[A\n",
      "\u001b[A\n",
      "\u001b[A\n",
      "\u001b[A\n",
      "\u001b[A\n",
      "\u001b[A\n",
      "\u001b[A\n",
      "\u001b[A\n",
      "\u001b[A\n",
      "\u001b[A\n",
      "\u001b[A\n",
      "\u001b[A\n",
      "\u001b[A\n",
      "\u001b[A\n",
      "\u001b[A\n",
      "\u001b[A\n",
      "\u001b[A\n",
      "\u001b[A\n",
      "\u001b[A\n",
      "\u001b[A\n",
      "\u001b[A\n",
      "\u001b[A\n",
      "\u001b[A\n",
      "\u001b[A\n",
      "\u001b[A\n",
      "\u001b[A\n",
      "\u001b[A\n",
      "\u001b[A\n",
      "\u001b[A\n",
      "\u001b[A\n",
      "\u001b[A\n",
      "\u001b[A\n",
      "\u001b[A\n",
      "\u001b[A\n",
      "\u001b[A\n",
      "\u001b[A\n",
      "\u001b[A\n",
      "\u001b[A\n",
      "\u001b[A\n",
      "\u001b[A\n",
      "\u001b[A\n",
      "\u001b[A\n",
      "\u001b[A\n",
      "\u001b[A\n",
      "\u001b[A\n",
      "\u001b[A\n",
      "\u001b[A\n",
      "\u001b[A\n",
      "\u001b[A\n",
      "\u001b[A\n",
      "\u001b[A\n",
      "\u001b[A\n",
      "\u001b[A\n",
      "\u001b[A\n",
      "\u001b[A\n",
      "\u001b[A\n",
      "\u001b[A\n",
      "\u001b[A\n",
      "\u001b[A\n",
      "\u001b[A\n",
      "\u001b[A\n",
      "\u001b[A\n",
      "\u001b[A\n",
      "\u001b[A\n",
      "\u001b[A\n",
      "\u001b[A\n",
      "\u001b[A\n",
      "\u001b[A\n",
      "\u001b[A\n",
      "\u001b[A\n",
      "\u001b[A\n",
      "\u001b[A\n",
      "\u001b[A\n",
      "\u001b[A\n",
      "\u001b[A\n",
      "\u001b[A\n",
      "\u001b[A\n",
      "\u001b[A\n",
      "\u001b[A\n",
      "\u001b[A\n",
      "\u001b[A\n",
      "\u001b[A\n",
      "\u001b[A\n",
      "\u001b[A\n",
      "\u001b[A\n",
      "\u001b[A\n",
      "\u001b[A\n",
      "\u001b[A\n",
      "PLMS Sampler: 100%|██████████| 250/250 [00:15<00:00, 15.91it/s]\n"
     ]
    },
    {
     "name": "stdout",
     "output_type": "stream",
     "text": [
      "rendering 3 examples in 250 steps.\n",
      "Data shape for PLMS sampling is (3, 3, 64, 64)\n",
      "Running PLMS Sampling with 250 timesteps\n"
     ]
    },
    {
     "name": "stderr",
     "output_type": "stream",
     "text": [
      "\n",
      "\u001b[A\n",
      "\u001b[A\n",
      "\u001b[A\n",
      "\u001b[A\n",
      "\u001b[A\n",
      "\u001b[A\n",
      "\u001b[A\n",
      "\u001b[A\n",
      "\u001b[A\n",
      "\u001b[A\n",
      "\u001b[A\n",
      "\u001b[A\n",
      "\u001b[A\n",
      "\u001b[A\n",
      "\u001b[A\n",
      "\u001b[A\n",
      "\u001b[A\n",
      "\u001b[A\n",
      "\u001b[A\n",
      "\u001b[A\n",
      "\u001b[A\n",
      "\u001b[A\n",
      "\u001b[A\n",
      "\u001b[A\n",
      "\u001b[A\n",
      "\u001b[A\n",
      "\u001b[A\n",
      "\u001b[A\n",
      "\u001b[A\n",
      "\u001b[A\n",
      "\u001b[A\n",
      "\u001b[A\n",
      "\u001b[A\n",
      "\u001b[A\n",
      "\u001b[A\n",
      "\u001b[A\n",
      "\u001b[A\n",
      "\u001b[A\n",
      "\u001b[A\n",
      "\u001b[A\n",
      "\u001b[A\n",
      "\u001b[A\n",
      "\u001b[A\n",
      "\u001b[A\n",
      "\u001b[A\n",
      "\u001b[A\n",
      "\u001b[A\n",
      "\u001b[A\n",
      "\u001b[A\n",
      "\u001b[A\n",
      "\u001b[A\n",
      "\u001b[A\n",
      "\u001b[A\n",
      "\u001b[A\n",
      "\u001b[A\n",
      "\u001b[A\n",
      "\u001b[A\n",
      "\u001b[A\n",
      "\u001b[A\n",
      "\u001b[A\n",
      "\u001b[A\n",
      "\u001b[A\n",
      "\u001b[A\n",
      "\u001b[A\n",
      "\u001b[A\n",
      "\u001b[A\n",
      "\u001b[A\n",
      "\u001b[A\n",
      "\u001b[A\n",
      "\u001b[A\n",
      "\u001b[A\n",
      "\u001b[A\n",
      "\u001b[A\n",
      "\u001b[A\n",
      "\u001b[A\n",
      "\u001b[A\n",
      "\u001b[A\n",
      "\u001b[A\n",
      "\u001b[A\n",
      "\u001b[A\n",
      "\u001b[A\n",
      "\u001b[A\n",
      "\u001b[A\n",
      "\u001b[A\n",
      "\u001b[A\n",
      "\u001b[A\n",
      "\u001b[A\n",
      "\u001b[A\n",
      "\u001b[A\n",
      "\u001b[A\n",
      "\u001b[A\n",
      "\u001b[A\n",
      "\u001b[A\n",
      "\u001b[A\n",
      "\u001b[A\n",
      "\u001b[A\n",
      "\u001b[A\n",
      "\u001b[A\n",
      "\u001b[A\n",
      "\u001b[A\n",
      "\u001b[A\n",
      "\u001b[A\n",
      "\u001b[A\n",
      "\u001b[A\n",
      "\u001b[A\n",
      "\u001b[A\n",
      "\u001b[A\n",
      "\u001b[A\n",
      "\u001b[A\n",
      "\u001b[A\n",
      "\u001b[A\n",
      "\u001b[A\n",
      "\u001b[A\n",
      "\u001b[A\n",
      "\u001b[A\n",
      "\u001b[A\n",
      "\u001b[A\n",
      "\u001b[A\n",
      "\u001b[A\n",
      "\u001b[A\n",
      "\u001b[A\n",
      "\u001b[A\n",
      "\u001b[A\n",
      "\u001b[A\n",
      "\u001b[A\n",
      "PLMS Sampler: 100%|██████████| 250/250 [00:15<00:00, 15.87it/s]\n"
     ]
    },
    {
     "name": "stdout",
     "output_type": "stream",
     "text": [
      "rendering 3 examples in 250 steps.\n",
      "Data shape for PLMS sampling is (3, 3, 64, 64)\n",
      "Running PLMS Sampling with 250 timesteps\n"
     ]
    },
    {
     "name": "stderr",
     "output_type": "stream",
     "text": [
      "\n",
      "\u001b[A\n",
      "\u001b[A\n",
      "\u001b[A\n",
      "\u001b[A\n",
      "\u001b[A\n",
      "\u001b[A\n",
      "\u001b[A\n",
      "\u001b[A\n",
      "\u001b[A\n",
      "\u001b[A\n",
      "\u001b[A\n",
      "\u001b[A\n",
      "\u001b[A\n",
      "\u001b[A\n",
      "\u001b[A\n",
      "\u001b[A\n",
      "\u001b[A\n",
      "\u001b[A\n",
      "\u001b[A\n",
      "\u001b[A\n",
      "\u001b[A\n",
      "\u001b[A\n",
      "\u001b[A\n",
      "\u001b[A\n",
      "\u001b[A\n",
      "\u001b[A\n",
      "\u001b[A\n",
      "\u001b[A\n",
      "\u001b[A\n",
      "\u001b[A\n",
      "\u001b[A\n",
      "\u001b[A\n",
      "\u001b[A\n",
      "\u001b[A\n",
      "\u001b[A\n",
      "\u001b[A\n",
      "\u001b[A\n",
      "\u001b[A\n",
      "\u001b[A\n",
      "\u001b[A\n",
      "\u001b[A\n",
      "\u001b[A\n",
      "\u001b[A\n",
      "\u001b[A\n",
      "\u001b[A\n",
      "\u001b[A\n",
      "\u001b[A\n",
      "\u001b[A\n",
      "\u001b[A\n",
      "\u001b[A\n",
      "\u001b[A\n",
      "\u001b[A\n",
      "\u001b[A\n",
      "\u001b[A\n",
      "\u001b[A\n",
      "\u001b[A\n",
      "\u001b[A\n",
      "\u001b[A\n",
      "\u001b[A\n",
      "\u001b[A\n",
      "\u001b[A\n",
      "\u001b[A\n",
      "\u001b[A\n",
      "\u001b[A\n",
      "\u001b[A\n",
      "\u001b[A\n",
      "\u001b[A\n",
      "\u001b[A\n",
      "\u001b[A\n",
      "\u001b[A\n",
      "\u001b[A\n",
      "\u001b[A\n",
      "\u001b[A\n",
      "\u001b[A\n",
      "\u001b[A\n",
      "\u001b[A\n",
      "\u001b[A\n",
      "\u001b[A\n",
      "\u001b[A\n",
      "\u001b[A\n",
      "\u001b[A\n",
      "\u001b[A\n",
      "\u001b[A\n",
      "\u001b[A\n",
      "\u001b[A\n",
      "\u001b[A\n",
      "\u001b[A\n",
      "\u001b[A\n",
      "\u001b[A\n",
      "\u001b[A\n",
      "\u001b[A\n",
      "\u001b[A\n",
      "\u001b[A\n",
      "\u001b[A\n",
      "\u001b[A\n",
      "\u001b[A\n",
      "\u001b[A\n",
      "\u001b[A\n",
      "\u001b[A\n",
      "\u001b[A\n",
      "\u001b[A\n",
      "\u001b[A\n",
      "\u001b[A\n",
      "\u001b[A\n",
      "\u001b[A\n",
      "\u001b[A\n",
      "\u001b[A\n",
      "\u001b[A\n",
      "\u001b[A\n",
      "\u001b[A\n",
      "\u001b[A\n",
      "\u001b[A\n",
      "\u001b[A\n",
      "\u001b[A\n",
      "\u001b[A\n",
      "\u001b[A\n",
      "\u001b[A\n",
      "\u001b[A\n",
      "\u001b[A\n",
      "\u001b[A\n",
      "\u001b[A\n",
      "\u001b[A\n",
      "\u001b[A\n",
      "\u001b[A\n",
      "\u001b[A\n",
      "PLMS Sampler: 100%|██████████| 250/250 [00:15<00:00, 15.72it/s]\n"
     ]
    },
    {
     "name": "stdout",
     "output_type": "stream",
     "text": [
      "rendering 3 examples in 250 steps.\n",
      "Data shape for PLMS sampling is (3, 3, 64, 64)\n",
      "Running PLMS Sampling with 250 timesteps\n"
     ]
    },
    {
     "name": "stderr",
     "output_type": "stream",
     "text": [
      "\n",
      "\u001b[A\n",
      "\u001b[A\n",
      "\u001b[A\n",
      "\u001b[A\n",
      "\u001b[A\n",
      "\u001b[A\n",
      "\u001b[A\n",
      "\u001b[A\n",
      "\u001b[A\n",
      "\u001b[A\n",
      "\u001b[A\n",
      "\u001b[A\n",
      "\u001b[A\n",
      "\u001b[A\n",
      "\u001b[A\n",
      "\u001b[A\n",
      "\u001b[A\n",
      "\u001b[A\n",
      "\u001b[A\n",
      "\u001b[A\n",
      "\u001b[A\n",
      "\u001b[A\n",
      "\u001b[A\n",
      "\u001b[A\n",
      "\u001b[A\n",
      "\u001b[A\n",
      "\u001b[A\n",
      "\u001b[A\n",
      "\u001b[A\n",
      "\u001b[A\n",
      "\u001b[A\n",
      "\u001b[A\n",
      "\u001b[A\n",
      "\u001b[A\n",
      "\u001b[A\n",
      "\u001b[A\n",
      "\u001b[A\n",
      "\u001b[A\n",
      "\u001b[A\n",
      "\u001b[A\n",
      "\u001b[A\n",
      "\u001b[A\n",
      "\u001b[A\n",
      "\u001b[A\n",
      "\u001b[A\n",
      "\u001b[A\n",
      "\u001b[A\n",
      "\u001b[A\n",
      "\u001b[A\n",
      "\u001b[A\n",
      "\u001b[A\n",
      "\u001b[A\n",
      "\u001b[A\n",
      "\u001b[A\n",
      "\u001b[A\n",
      "\u001b[A\n",
      "\u001b[A\n",
      "\u001b[A\n",
      "\u001b[A\n",
      "\u001b[A\n",
      "\u001b[A\n",
      "\u001b[A\n",
      "\u001b[A\n",
      "\u001b[A\n",
      "\u001b[A\n",
      "\u001b[A\n",
      "\u001b[A\n",
      "\u001b[A\n",
      "\u001b[A\n",
      "\u001b[A\n",
      "\u001b[A\n",
      "\u001b[A\n",
      "\u001b[A\n",
      "\u001b[A\n",
      "\u001b[A\n",
      "\u001b[A\n",
      "\u001b[A\n",
      "\u001b[A\n",
      "\u001b[A\n",
      "\u001b[A\n",
      "\u001b[A\n",
      "\u001b[A\n",
      "\u001b[A\n",
      "\u001b[A\n",
      "\u001b[A\n",
      "\u001b[A\n",
      "\u001b[A\n",
      "\u001b[A\n",
      "\u001b[A\n",
      "\u001b[A\n",
      "\u001b[A\n",
      "\u001b[A\n",
      "\u001b[A\n",
      "\u001b[A\n",
      "\u001b[A\n",
      "\u001b[A\n",
      "\u001b[A\n",
      "\u001b[A\n",
      "\u001b[A\n",
      "\u001b[A\n",
      "\u001b[A\n",
      "\u001b[A\n",
      "\u001b[A\n",
      "\u001b[A\n",
      "\u001b[A\n",
      "\u001b[A\n",
      "\u001b[A\n",
      "\u001b[A\n",
      "\u001b[A\n",
      "\u001b[A\n",
      "\u001b[A\n",
      "\u001b[A\n",
      "\u001b[A\n",
      "\u001b[A\n",
      "\u001b[A\n",
      "\u001b[A\n",
      "\u001b[A\n",
      "\u001b[A\n",
      "\u001b[A\n",
      "\u001b[A\n",
      "\u001b[A\n",
      "\u001b[A\n",
      "\u001b[A\n",
      "\u001b[A\n",
      "\u001b[A\n",
      "PLMS Sampler: 100%|██████████| 250/250 [00:15<00:00, 15.72it/s]\n"
     ]
    },
    {
     "data": {
      "application/json": {
       "ascii": false,
       "bar_format": null,
       "colour": null,
       "elapsed": 0.03805065155029297,
       "initial": 0,
       "n": 0,
       "ncols": null,
       "nrows": null,
       "postfix": null,
       "prefix": "Validation",
       "rate": null,
       "total": null,
       "unit": "it",
       "unit_divisor": 1000,
       "unit_scale": false
      },
      "application/vnd.jupyter.widget-view+json": {
       "model_id": "b0bbf9385d284932ad2967fe0516d8aa",
       "version_major": 2,
       "version_minor": 0
      },
      "text/plain": [
       "Validation: 0it [00:00, ?it/s]"
      ]
     },
     "metadata": {},
     "output_type": "display_data"
    },
    {
     "name": "stdout",
     "output_type": "stream",
     "text": [
      "rendering 3 examples in 250 steps.\n",
      "Data shape for PLMS sampling is (3, 3, 64, 64)\n",
      "Running PLMS Sampling with 250 timesteps\n"
     ]
    },
    {
     "name": "stderr",
     "output_type": "stream",
     "text": [
      "\n",
      "\u001b[A\n",
      "\u001b[A\n",
      "\u001b[A\n",
      "\u001b[A\n",
      "\u001b[A\n",
      "\u001b[A\n",
      "\u001b[A\n",
      "\u001b[A\n",
      "\u001b[A\n",
      "\u001b[A\n",
      "\u001b[A\n",
      "\u001b[A\n",
      "\u001b[A\n",
      "\u001b[A\n",
      "\u001b[A\n",
      "\u001b[A\n",
      "\u001b[A\n",
      "\u001b[A\n",
      "\u001b[A\n",
      "\u001b[A\n",
      "\u001b[A\n",
      "\u001b[A\n",
      "\u001b[A\n",
      "\u001b[A\n",
      "\u001b[A\n",
      "\u001b[A\n",
      "\u001b[A\n",
      "\u001b[A\n",
      "\u001b[A\n",
      "\u001b[A\n",
      "\u001b[A\n",
      "\u001b[A\n",
      "\u001b[A\n",
      "\u001b[A\n",
      "\u001b[A\n",
      "\u001b[A\n",
      "\u001b[A\n",
      "\u001b[A\n",
      "\u001b[A\n",
      "\u001b[A\n",
      "\u001b[A\n",
      "\u001b[A\n",
      "\u001b[A\n",
      "\u001b[A\n",
      "\u001b[A\n",
      "\u001b[A\n",
      "\u001b[A\n",
      "\u001b[A\n",
      "\u001b[A\n",
      "\u001b[A\n",
      "\u001b[A\n",
      "\u001b[A\n",
      "\u001b[A\n",
      "\u001b[A\n",
      "\u001b[A\n",
      "\u001b[A\n",
      "\u001b[A\n",
      "\u001b[A\n",
      "\u001b[A\n",
      "\u001b[A\n",
      "\u001b[A\n",
      "\u001b[A\n",
      "\u001b[A\n",
      "\u001b[A\n",
      "\u001b[A\n",
      "\u001b[A\n",
      "\u001b[A\n",
      "\u001b[A\n",
      "\u001b[A\n",
      "\u001b[A\n",
      "\u001b[A\n",
      "\u001b[A\n",
      "\u001b[A\n",
      "\u001b[A\n",
      "\u001b[A\n",
      "\u001b[A\n",
      "\u001b[A\n",
      "\u001b[A\n",
      "\u001b[A\n",
      "\u001b[A\n",
      "\u001b[A\n",
      "\u001b[A\n",
      "\u001b[A\n",
      "\u001b[A\n",
      "\u001b[A\n",
      "\u001b[A\n",
      "\u001b[A\n",
      "\u001b[A\n",
      "\u001b[A\n",
      "\u001b[A\n",
      "\u001b[A\n",
      "\u001b[A\n",
      "\u001b[A\n",
      "\u001b[A\n",
      "\u001b[A\n",
      "\u001b[A\n",
      "\u001b[A\n",
      "\u001b[A\n",
      "\u001b[A\n",
      "\u001b[A\n",
      "\u001b[A\n",
      "\u001b[A\n",
      "\u001b[A\n",
      "\u001b[A\n",
      "\u001b[A\n",
      "\u001b[A\n",
      "\u001b[A\n",
      "\u001b[A\n",
      "\u001b[A\n",
      "\u001b[A\n",
      "\u001b[A\n",
      "\u001b[A\n",
      "\u001b[A\n",
      "\u001b[A\n",
      "\u001b[A\n",
      "\u001b[A\n",
      "\u001b[A\n",
      "\u001b[A\n",
      "\u001b[A\n",
      "\u001b[A\n",
      "\u001b[A\n",
      "\u001b[A\n",
      "\u001b[A\n",
      "\u001b[A\n",
      "\u001b[A\n",
      "PLMS Sampler: 100%|██████████| 250/250 [00:16<00:00, 14.81it/s]\n"
     ]
    },
    {
     "name": "stdout",
     "output_type": "stream",
     "text": [
      "rendering 3 examples in 250 steps.\n",
      "Data shape for PLMS sampling is (3, 3, 64, 64)\n",
      "Running PLMS Sampling with 250 timesteps\n"
     ]
    },
    {
     "name": "stderr",
     "output_type": "stream",
     "text": [
      "\n",
      "\u001b[A\n",
      "\u001b[A\n",
      "\u001b[A\n",
      "\u001b[A\n",
      "\u001b[A\n",
      "\u001b[A\n",
      "\u001b[A\n",
      "\u001b[A\n",
      "\u001b[A\n",
      "\u001b[A\n",
      "\u001b[A\n",
      "\u001b[A\n",
      "\u001b[A\n",
      "\u001b[A\n",
      "\u001b[A\n",
      "\u001b[A\n",
      "\u001b[A\n",
      "\u001b[A\n",
      "\u001b[A\n",
      "\u001b[A\n",
      "\u001b[A\n",
      "\u001b[A\n",
      "\u001b[A\n",
      "\u001b[A\n",
      "\u001b[A\n",
      "\u001b[A\n",
      "\u001b[A\n",
      "\u001b[A\n",
      "\u001b[A\n",
      "\u001b[A\n",
      "\u001b[A\n",
      "\u001b[A\n",
      "\u001b[A\n",
      "\u001b[A\n",
      "\u001b[A\n",
      "\u001b[A\n",
      "\u001b[A\n",
      "\u001b[A\n",
      "\u001b[A\n",
      "\u001b[A\n",
      "\u001b[A\n",
      "\u001b[A\n",
      "\u001b[A\n",
      "\u001b[A\n",
      "\u001b[A\n",
      "\u001b[A\n",
      "\u001b[A\n",
      "\u001b[A\n",
      "\u001b[A\n",
      "\u001b[A\n",
      "\u001b[A\n",
      "\u001b[A\n",
      "\u001b[A\n",
      "\u001b[A\n",
      "\u001b[A\n",
      "\u001b[A\n",
      "\u001b[A\n",
      "\u001b[A\n",
      "\u001b[A\n",
      "\u001b[A\n",
      "\u001b[A\n",
      "\u001b[A\n",
      "\u001b[A\n",
      "\u001b[A\n",
      "\u001b[A\n",
      "\u001b[A\n",
      "\u001b[A\n",
      "\u001b[A\n",
      "\u001b[A\n",
      "\u001b[A\n",
      "\u001b[A\n",
      "\u001b[A\n",
      "\u001b[A\n",
      "\u001b[A\n",
      "\u001b[A\n",
      "\u001b[A\n",
      "\u001b[A\n",
      "\u001b[A\n",
      "\u001b[A\n",
      "\u001b[A\n",
      "\u001b[A\n",
      "\u001b[A\n",
      "\u001b[A\n",
      "\u001b[A\n",
      "\u001b[A\n",
      "\u001b[A\n",
      "\u001b[A\n",
      "\u001b[A\n",
      "\u001b[A\n",
      "\u001b[A\n",
      "\u001b[A\n",
      "\u001b[A\n",
      "\u001b[A\n",
      "\u001b[A\n",
      "\u001b[A\n",
      "\u001b[A\n",
      "\u001b[A\n",
      "\u001b[A\n",
      "\u001b[A\n",
      "\u001b[A\n",
      "\u001b[A\n",
      "\u001b[A\n",
      "\u001b[A\n",
      "\u001b[A\n",
      "\u001b[A\n",
      "\u001b[A\n",
      "\u001b[A\n",
      "\u001b[A\n",
      "\u001b[A\n",
      "\u001b[A\n",
      "\u001b[A\n",
      "\u001b[A\n",
      "\u001b[A\n",
      "\u001b[A\n",
      "\u001b[A\n",
      "\u001b[A\n",
      "\u001b[A\n",
      "\u001b[A\n",
      "\u001b[A\n",
      "\u001b[A\n",
      "\u001b[A\n",
      "\u001b[A\n",
      "\u001b[A\n",
      "\u001b[A\n",
      "\u001b[A\n",
      "PLMS Sampler: 100%|██████████| 250/250 [00:15<00:00, 15.93it/s]\n"
     ]
    },
    {
     "name": "stdout",
     "output_type": "stream",
     "text": [
      "rendering 3 examples in 250 steps.\n",
      "Data shape for PLMS sampling is (3, 3, 64, 64)\n",
      "Running PLMS Sampling with 250 timesteps\n"
     ]
    },
    {
     "name": "stderr",
     "output_type": "stream",
     "text": [
      "\n",
      "\u001b[A\n",
      "\u001b[A\n",
      "\u001b[A\n",
      "\u001b[A\n",
      "\u001b[A\n",
      "\u001b[A\n",
      "\u001b[A\n",
      "\u001b[A\n",
      "\u001b[A\n",
      "\u001b[A\n",
      "\u001b[A\n",
      "\u001b[A\n",
      "\u001b[A\n",
      "\u001b[A\n",
      "\u001b[A\n",
      "\u001b[A\n",
      "\u001b[A\n",
      "\u001b[A\n",
      "\u001b[A\n",
      "\u001b[A\n",
      "\u001b[A\n",
      "\u001b[A\n",
      "\u001b[A\n",
      "\u001b[A\n",
      "\u001b[A\n",
      "\u001b[A\n",
      "\u001b[A\n",
      "\u001b[A\n",
      "\u001b[A\n",
      "\u001b[A\n",
      "\u001b[A\n",
      "\u001b[A\n",
      "\u001b[A\n",
      "\u001b[A\n",
      "\u001b[A\n",
      "\u001b[A\n",
      "\u001b[A\n",
      "\u001b[A\n",
      "\u001b[A\n",
      "\u001b[A\n",
      "\u001b[A\n",
      "\u001b[A\n",
      "\u001b[A\n",
      "\u001b[A\n",
      "\u001b[A\n",
      "\u001b[A\n",
      "\u001b[A\n",
      "\u001b[A\n",
      "\u001b[A\n",
      "\u001b[A\n",
      "\u001b[A\n",
      "\u001b[A\n",
      "\u001b[A\n",
      "\u001b[A\n",
      "\u001b[A\n",
      "\u001b[A\n",
      "\u001b[A\n",
      "\u001b[A\n",
      "\u001b[A\n",
      "\u001b[A\n",
      "\u001b[A\n",
      "\u001b[A\n",
      "\u001b[A\n",
      "\u001b[A\n",
      "\u001b[A\n",
      "\u001b[A\n",
      "\u001b[A\n",
      "\u001b[A\n",
      "\u001b[A\n",
      "\u001b[A\n",
      "\u001b[A\n",
      "\u001b[A\n",
      "\u001b[A\n",
      "\u001b[A\n",
      "\u001b[A\n",
      "\u001b[A\n",
      "\u001b[A\n",
      "\u001b[A\n",
      "\u001b[A\n",
      "\u001b[A\n",
      "\u001b[A\n",
      "\u001b[A\n",
      "\u001b[A\n",
      "\u001b[A\n",
      "\u001b[A\n",
      "\u001b[A\n",
      "\u001b[A\n",
      "\u001b[A\n",
      "\u001b[A\n",
      "\u001b[A\n",
      "\u001b[A\n",
      "\u001b[A\n",
      "\u001b[A\n",
      "\u001b[A\n",
      "\u001b[A\n",
      "\u001b[A\n",
      "\u001b[A\n",
      "\u001b[A\n",
      "\u001b[A\n",
      "\u001b[A\n",
      "\u001b[A\n",
      "\u001b[A\n",
      "\u001b[A\n",
      "\u001b[A\n",
      "\u001b[A\n",
      "\u001b[A\n",
      "\u001b[A\n",
      "\u001b[A\n",
      "\u001b[A\n",
      "\u001b[A\n",
      "\u001b[A\n",
      "\u001b[A\n",
      "\u001b[A\n",
      "\u001b[A\n",
      "\u001b[A\n",
      "\u001b[A\n",
      "\u001b[A\n",
      "\u001b[A\n",
      "\u001b[A\n",
      "\u001b[A\n",
      "\u001b[A\n",
      "\u001b[A\n",
      "\u001b[A\n",
      "\u001b[A\n",
      "\u001b[A\n",
      "PLMS Sampler: 100%|██████████| 250/250 [00:15<00:00, 15.90it/s]\n"
     ]
    },
    {
     "name": "stdout",
     "output_type": "stream",
     "text": [
      "rendering 3 examples in 250 steps.\n",
      "Data shape for PLMS sampling is (3, 3, 64, 64)\n",
      "Running PLMS Sampling with 250 timesteps\n"
     ]
    },
    {
     "name": "stderr",
     "output_type": "stream",
     "text": [
      "\n",
      "\u001b[A\n",
      "\u001b[A\n",
      "\u001b[A\n",
      "\u001b[A\n",
      "\u001b[A\n",
      "\u001b[A\n",
      "\u001b[A\n",
      "\u001b[A\n",
      "\u001b[A\n",
      "\u001b[A\n",
      "\u001b[A\n",
      "\u001b[A\n",
      "\u001b[A\n",
      "\u001b[A\n",
      "\u001b[A\n",
      "\u001b[A\n",
      "\u001b[A\n",
      "\u001b[A\n",
      "\u001b[A\n",
      "\u001b[A\n",
      "\u001b[A\n",
      "\u001b[A\n",
      "\u001b[A\n",
      "\u001b[A\n",
      "\u001b[A\n",
      "\u001b[A\n",
      "\u001b[A\n",
      "\u001b[A\n",
      "\u001b[A\n",
      "\u001b[A\n",
      "\u001b[A\n",
      "\u001b[A\n",
      "\u001b[A\n",
      "\u001b[A\n",
      "\u001b[A\n",
      "\u001b[A\n",
      "\u001b[A\n",
      "\u001b[A\n",
      "\u001b[A\n",
      "\u001b[A\n",
      "\u001b[A\n",
      "\u001b[A\n",
      "\u001b[A\n",
      "\u001b[A\n",
      "\u001b[A\n",
      "\u001b[A\n",
      "\u001b[A\n",
      "\u001b[A\n",
      "\u001b[A\n",
      "\u001b[A\n",
      "\u001b[A\n",
      "\u001b[A\n",
      "\u001b[A\n",
      "\u001b[A\n",
      "\u001b[A\n",
      "\u001b[A\n",
      "\u001b[A\n",
      "\u001b[A\n",
      "\u001b[A\n",
      "\u001b[A\n",
      "\u001b[A\n",
      "\u001b[A\n",
      "\u001b[A\n",
      "\u001b[A\n",
      "\u001b[A\n",
      "\u001b[A\n",
      "\u001b[A\n",
      "\u001b[A\n",
      "\u001b[A\n",
      "\u001b[A\n",
      "\u001b[A\n",
      "\u001b[A\n",
      "\u001b[A\n",
      "\u001b[A\n",
      "\u001b[A\n",
      "\u001b[A\n",
      "\u001b[A\n",
      "\u001b[A\n",
      "\u001b[A\n",
      "\u001b[A\n",
      "\u001b[A\n",
      "\u001b[A\n",
      "\u001b[A\n",
      "\u001b[A\n",
      "\u001b[A\n",
      "\u001b[A\n",
      "\u001b[A\n",
      "\u001b[A\n",
      "\u001b[A\n",
      "\u001b[A\n",
      "\u001b[A\n",
      "\u001b[A\n",
      "\u001b[A\n",
      "\u001b[A\n",
      "\u001b[A\n",
      "\u001b[A\n",
      "\u001b[A\n",
      "\u001b[A\n",
      "\u001b[A\n",
      "\u001b[A\n",
      "\u001b[A\n",
      "\u001b[A\n",
      "\u001b[A\n",
      "\u001b[A\n",
      "\u001b[A\n",
      "\u001b[A\n",
      "\u001b[A\n",
      "\u001b[A\n",
      "\u001b[A\n",
      "\u001b[A\n",
      "\u001b[A\n",
      "\u001b[A\n",
      "\u001b[A\n",
      "\u001b[A\n",
      "\u001b[A\n",
      "\u001b[A\n",
      "\u001b[A\n",
      "\u001b[A\n",
      "\u001b[A\n",
      "\u001b[A\n",
      "\u001b[A\n",
      "\u001b[A\n",
      "\u001b[A\n",
      "\u001b[A\n",
      "\u001b[A\n",
      "PLMS Sampler: 100%|██████████| 250/250 [00:15<00:00, 15.72it/s]\n"
     ]
    },
    {
     "name": "stdout",
     "output_type": "stream",
     "text": [
      "rendering 3 examples in 250 steps.\n",
      "Data shape for PLMS sampling is (3, 3, 64, 64)\n",
      "Running PLMS Sampling with 250 timesteps\n"
     ]
    },
    {
     "name": "stderr",
     "output_type": "stream",
     "text": [
      "\n",
      "\u001b[A\n",
      "\u001b[A\n",
      "\u001b[A\n",
      "\u001b[A\n",
      "\u001b[A\n",
      "\u001b[A\n",
      "\u001b[A\n",
      "\u001b[A\n",
      "\u001b[A\n",
      "\u001b[A\n",
      "\u001b[A\n",
      "\u001b[A\n",
      "\u001b[A\n",
      "\u001b[A\n",
      "\u001b[A\n",
      "\u001b[A\n",
      "\u001b[A\n",
      "\u001b[A\n",
      "\u001b[A\n",
      "\u001b[A\n",
      "\u001b[A\n",
      "\u001b[A\n",
      "\u001b[A\n",
      "\u001b[A\n",
      "\u001b[A\n",
      "\u001b[A\n",
      "\u001b[A\n",
      "\u001b[A\n",
      "\u001b[A\n",
      "\u001b[A\n",
      "\u001b[A\n",
      "\u001b[A\n",
      "\u001b[A\n",
      "\u001b[A\n",
      "\u001b[A\n",
      "\u001b[A\n",
      "\u001b[A\n",
      "\u001b[A\n",
      "\u001b[A\n",
      "\u001b[A\n",
      "\u001b[A\n",
      "\u001b[A\n",
      "\u001b[A\n",
      "\u001b[A\n",
      "\u001b[A\n",
      "\u001b[A\n",
      "\u001b[A\n",
      "\u001b[A\n",
      "\u001b[A\n",
      "\u001b[A\n",
      "\u001b[A\n",
      "\u001b[A\n",
      "\u001b[A\n",
      "\u001b[A\n",
      "\u001b[A\n",
      "\u001b[A\n",
      "\u001b[A\n",
      "\u001b[A\n",
      "\u001b[A\n",
      "\u001b[A\n",
      "\u001b[A\n",
      "\u001b[A\n",
      "\u001b[A\n",
      "\u001b[A\n",
      "\u001b[A\n",
      "\u001b[A\n",
      "\u001b[A\n",
      "\u001b[A\n",
      "\u001b[A\n",
      "\u001b[A\n",
      "\u001b[A\n",
      "\u001b[A\n",
      "\u001b[A\n",
      "\u001b[A\n",
      "\u001b[A\n",
      "\u001b[A\n",
      "\u001b[A\n",
      "\u001b[A\n",
      "\u001b[A\n",
      "\u001b[A\n",
      "\u001b[A\n",
      "\u001b[A\n",
      "\u001b[A\n",
      "\u001b[A\n",
      "\u001b[A\n",
      "\u001b[A\n",
      "\u001b[A\n",
      "\u001b[A\n",
      "\u001b[A\n",
      "\u001b[A\n",
      "\u001b[A\n",
      "\u001b[A\n",
      "\u001b[A\n",
      "\u001b[A\n",
      "\u001b[A\n",
      "\u001b[A\n",
      "\u001b[A\n",
      "\u001b[A\n",
      "\u001b[A\n",
      "\u001b[A\n",
      "\u001b[A\n",
      "\u001b[A\n",
      "\u001b[A\n",
      "\u001b[A\n",
      "\u001b[A\n",
      "\u001b[A\n",
      "\u001b[A\n",
      "\u001b[A\n",
      "\u001b[A\n",
      "\u001b[A\n",
      "\u001b[A\n",
      "\u001b[A\n",
      "\u001b[A\n",
      "\u001b[A\n",
      "\u001b[A\n",
      "\u001b[A\n",
      "\u001b[A\n",
      "\u001b[A\n",
      "\u001b[A\n",
      "\u001b[A\n",
      "\u001b[A\n",
      "\u001b[A\n",
      "\u001b[A\n",
      "\u001b[A\n",
      "\u001b[A\n",
      "PLMS Sampler: 100%|██████████| 250/250 [00:15<00:00, 15.71it/s]\n"
     ]
    }
   ],
   "source": [
    "# finetune the model\n",
    "trainer = create_trainer(config.num_epoch, config.precision, config.accumulate_grad, logger, check_val_every_n_epoch=5)\n",
    "generative_model.finetune(trainer, fmri_latents_dataset_train, fmri_latents_dataset_test,\n",
    "            config.batch_size, config.lr, config.output_path, config=config)\n"
   ]
  },
  {
   "cell_type": "code",
   "execution_count": null,
   "metadata": {},
   "outputs": [
    {
     "name": "stderr",
     "output_type": "stream",
     "text": [
      "/scratch/1006450/ipykernel_767274/2336139990.py:4: UserWarning: To copy construct from a tensor, it is recommended to use sourceTensor.clone().detach() or sourceTensor.clone().detach().requires_grad_(True), rather than torch.tensor(sourceTensor).\n",
      "  img = torch.tensor(img)\n"
     ]
    },
    {
     "name": "stdout",
     "output_type": "stream",
     "text": [
      "rendering 5 examples in 250 steps.\n",
      "Data shape for PLMS sampling is (5, 3, 64, 64)\n",
      "Running PLMS Sampling with 250 timesteps\n"
     ]
    },
    {
     "name": "stderr",
     "output_type": "stream",
     "text": [
      "PLMS Sampler: 100%|██████████| 250/250 [00:12<00:00, 20.11it/s]\n"
     ]
    },
    {
     "name": "stdout",
     "output_type": "stream",
     "text": [
      "rendering 5 examples in 250 steps.\n",
      "Data shape for PLMS sampling is (5, 3, 64, 64)\n",
      "Running PLMS Sampling with 250 timesteps\n"
     ]
    },
    {
     "name": "stderr",
     "output_type": "stream",
     "text": [
      "PLMS Sampler: 100%|██████████| 250/250 [00:12<00:00, 20.06it/s]\n"
     ]
    },
    {
     "name": "stdout",
     "output_type": "stream",
     "text": [
      "rendering 5 examples in 250 steps.\n",
      "Data shape for PLMS sampling is (5, 3, 64, 64)\n",
      "Running PLMS Sampling with 250 timesteps\n"
     ]
    },
    {
     "name": "stderr",
     "output_type": "stream",
     "text": [
      "PLMS Sampler: 100%|██████████| 250/250 [00:12<00:00, 19.99it/s]\n"
     ]
    },
    {
     "name": "stdout",
     "output_type": "stream",
     "text": [
      "rendering 5 examples in 250 steps.\n",
      "Data shape for PLMS sampling is (5, 3, 64, 64)\n",
      "Running PLMS Sampling with 250 timesteps\n"
     ]
    },
    {
     "name": "stderr",
     "output_type": "stream",
     "text": [
      "PLMS Sampler: 100%|██████████| 250/250 [00:12<00:00, 20.02it/s]\n"
     ]
    },
    {
     "name": "stdout",
     "output_type": "stream",
     "text": [
      "rendering 5 examples in 250 steps.\n",
      "Data shape for PLMS sampling is (5, 3, 64, 64)\n",
      "Running PLMS Sampling with 250 timesteps\n"
     ]
    },
    {
     "name": "stderr",
     "output_type": "stream",
     "text": [
      "PLMS Sampler: 100%|██████████| 250/250 [00:12<00:00, 20.07it/s]\n"
     ]
    },
    {
     "name": "stdout",
     "output_type": "stream",
     "text": [
      "rendering 5 examples in 250 steps.\n",
      "Data shape for PLMS sampling is (5, 3, 64, 64)\n",
      "Running PLMS Sampling with 250 timesteps\n"
     ]
    },
    {
     "name": "stderr",
     "output_type": "stream",
     "text": [
      "PLMS Sampler: 100%|██████████| 250/250 [00:12<00:00, 20.09it/s]\n"
     ]
    },
    {
     "name": "stdout",
     "output_type": "stream",
     "text": [
      "rendering 5 examples in 250 steps.\n",
      "Data shape for PLMS sampling is (5, 3, 64, 64)\n",
      "Running PLMS Sampling with 250 timesteps\n"
     ]
    },
    {
     "name": "stderr",
     "output_type": "stream",
     "text": [
      "PLMS Sampler: 100%|██████████| 250/250 [00:12<00:00, 20.15it/s]\n"
     ]
    },
    {
     "name": "stdout",
     "output_type": "stream",
     "text": [
      "rendering 5 examples in 250 steps.\n",
      "Data shape for PLMS sampling is (5, 3, 64, 64)\n",
      "Running PLMS Sampling with 250 timesteps\n"
     ]
    },
    {
     "name": "stderr",
     "output_type": "stream",
     "text": [
      "PLMS Sampler: 100%|██████████| 250/250 [00:12<00:00, 20.16it/s]\n"
     ]
    },
    {
     "name": "stdout",
     "output_type": "stream",
     "text": [
      "rendering 5 examples in 250 steps.\n",
      "Data shape for PLMS sampling is (5, 3, 64, 64)\n",
      "Running PLMS Sampling with 250 timesteps\n"
     ]
    },
    {
     "name": "stderr",
     "output_type": "stream",
     "text": [
      "PLMS Sampler: 100%|██████████| 250/250 [00:12<00:00, 20.16it/s]\n"
     ]
    },
    {
     "name": "stdout",
     "output_type": "stream",
     "text": [
      "rendering 5 examples in 250 steps.\n",
      "Data shape for PLMS sampling is (5, 3, 64, 64)\n",
      "Running PLMS Sampling with 250 timesteps\n"
     ]
    },
    {
     "name": "stderr",
     "output_type": "stream",
     "text": [
      "PLMS Sampler: 100%|██████████| 250/250 [00:12<00:00, 20.18it/s]\n"
     ]
    },
    {
     "name": "stdout",
     "output_type": "stream",
     "text": [
      "rendering 5 examples in 250 steps.\n",
      "Data shape for PLMS sampling is (5, 3, 64, 64)\n",
      "Running PLMS Sampling with 250 timesteps\n"
     ]
    },
    {
     "name": "stderr",
     "output_type": "stream",
     "text": [
      "PLMS Sampler: 100%|██████████| 250/250 [00:12<00:00, 20.21it/s]\n"
     ]
    },
    {
     "name": "stdout",
     "output_type": "stream",
     "text": [
      "rendering 5 examples in 250 steps.\n",
      "Data shape for PLMS sampling is (5, 3, 64, 64)\n",
      "Running PLMS Sampling with 250 timesteps\n"
     ]
    },
    {
     "name": "stderr",
     "output_type": "stream",
     "text": [
      "PLMS Sampler: 100%|██████████| 250/250 [00:12<00:00, 20.18it/s]\n"
     ]
    },
    {
     "name": "stdout",
     "output_type": "stream",
     "text": [
      "rendering 5 examples in 250 steps.\n",
      "Data shape for PLMS sampling is (5, 3, 64, 64)\n",
      "Running PLMS Sampling with 250 timesteps\n"
     ]
    },
    {
     "name": "stderr",
     "output_type": "stream",
     "text": [
      "PLMS Sampler: 100%|██████████| 250/250 [00:12<00:00, 20.16it/s]\n"
     ]
    },
    {
     "name": "stdout",
     "output_type": "stream",
     "text": [
      "rendering 5 examples in 250 steps.\n",
      "Data shape for PLMS sampling is (5, 3, 64, 64)\n",
      "Running PLMS Sampling with 250 timesteps\n"
     ]
    },
    {
     "name": "stderr",
     "output_type": "stream",
     "text": [
      "PLMS Sampler: 100%|██████████| 250/250 [00:12<00:00, 20.19it/s]\n"
     ]
    },
    {
     "name": "stdout",
     "output_type": "stream",
     "text": [
      "rendering 5 examples in 250 steps.\n",
      "Data shape for PLMS sampling is (5, 3, 64, 64)\n",
      "Running PLMS Sampling with 250 timesteps\n"
     ]
    },
    {
     "name": "stderr",
     "output_type": "stream",
     "text": [
      "PLMS Sampler: 100%|██████████| 250/250 [00:12<00:00, 20.15it/s]\n"
     ]
    },
    {
     "name": "stdout",
     "output_type": "stream",
     "text": [
      "rendering 5 examples in 250 steps.\n",
      "Data shape for PLMS sampling is (5, 3, 64, 64)\n",
      "Running PLMS Sampling with 250 timesteps\n"
     ]
    },
    {
     "name": "stderr",
     "output_type": "stream",
     "text": [
      "PLMS Sampler: 100%|██████████| 250/250 [00:12<00:00, 20.18it/s]\n"
     ]
    },
    {
     "name": "stdout",
     "output_type": "stream",
     "text": [
      "rendering 5 examples in 250 steps.\n",
      "Data shape for PLMS sampling is (5, 3, 64, 64)\n",
      "Running PLMS Sampling with 250 timesteps\n"
     ]
    },
    {
     "name": "stderr",
     "output_type": "stream",
     "text": [
      "PLMS Sampler: 100%|██████████| 250/250 [00:12<00:00, 20.17it/s]\n"
     ]
    },
    {
     "name": "stdout",
     "output_type": "stream",
     "text": [
      "rendering 5 examples in 250 steps.\n",
      "Data shape for PLMS sampling is (5, 3, 64, 64)\n",
      "Running PLMS Sampling with 250 timesteps\n"
     ]
    },
    {
     "name": "stderr",
     "output_type": "stream",
     "text": [
      "PLMS Sampler: 100%|██████████| 250/250 [00:12<00:00, 20.18it/s]\n"
     ]
    },
    {
     "name": "stdout",
     "output_type": "stream",
     "text": [
      "rendering 5 examples in 250 steps.\n",
      "Data shape for PLMS sampling is (5, 3, 64, 64)\n",
      "Running PLMS Sampling with 250 timesteps\n"
     ]
    },
    {
     "name": "stderr",
     "output_type": "stream",
     "text": [
      "PLMS Sampler: 100%|██████████| 250/250 [00:12<00:00, 20.16it/s]\n"
     ]
    },
    {
     "name": "stdout",
     "output_type": "stream",
     "text": [
      "rendering 5 examples in 250 steps.\n",
      "Data shape for PLMS sampling is (5, 3, 64, 64)\n",
      "Running PLMS Sampling with 250 timesteps\n"
     ]
    },
    {
     "name": "stderr",
     "output_type": "stream",
     "text": [
      "PLMS Sampler: 100%|██████████| 250/250 [00:12<00:00, 20.19it/s]\n"
     ]
    },
    {
     "name": "stdout",
     "output_type": "stream",
     "text": [
      "rendering 5 examples in 250 steps.\n",
      "Data shape for PLMS sampling is (5, 3, 64, 64)\n",
      "Running PLMS Sampling with 250 timesteps\n"
     ]
    },
    {
     "name": "stderr",
     "output_type": "stream",
     "text": [
      "PLMS Sampler: 100%|██████████| 250/250 [00:12<00:00, 20.19it/s]\n"
     ]
    },
    {
     "name": "stdout",
     "output_type": "stream",
     "text": [
      "rendering 5 examples in 250 steps.\n",
      "Data shape for PLMS sampling is (5, 3, 64, 64)\n",
      "Running PLMS Sampling with 250 timesteps\n"
     ]
    },
    {
     "name": "stderr",
     "output_type": "stream",
     "text": [
      "PLMS Sampler: 100%|██████████| 250/250 [00:12<00:00, 20.16it/s]\n"
     ]
    },
    {
     "name": "stdout",
     "output_type": "stream",
     "text": [
      "rendering 5 examples in 250 steps.\n",
      "Data shape for PLMS sampling is (5, 3, 64, 64)\n",
      "Running PLMS Sampling with 250 timesteps\n"
     ]
    },
    {
     "name": "stderr",
     "output_type": "stream",
     "text": [
      "PLMS Sampler: 100%|██████████| 250/250 [00:12<00:00, 20.19it/s]\n"
     ]
    },
    {
     "name": "stdout",
     "output_type": "stream",
     "text": [
      "rendering 5 examples in 250 steps.\n",
      "Data shape for PLMS sampling is (5, 3, 64, 64)\n",
      "Running PLMS Sampling with 250 timesteps\n"
     ]
    },
    {
     "name": "stderr",
     "output_type": "stream",
     "text": [
      "PLMS Sampler: 100%|██████████| 250/250 [00:12<00:00, 20.19it/s]\n"
     ]
    },
    {
     "name": "stdout",
     "output_type": "stream",
     "text": [
      "rendering 5 examples in 250 steps.\n",
      "Data shape for PLMS sampling is (5, 3, 64, 64)\n",
      "Running PLMS Sampling with 250 timesteps\n"
     ]
    },
    {
     "name": "stderr",
     "output_type": "stream",
     "text": [
      "PLMS Sampler: 100%|██████████| 250/250 [00:12<00:00, 20.19it/s]\n"
     ]
    },
    {
     "name": "stdout",
     "output_type": "stream",
     "text": [
      "rendering 5 examples in 250 steps.\n",
      "Data shape for PLMS sampling is (5, 3, 64, 64)\n",
      "Running PLMS Sampling with 250 timesteps\n"
     ]
    },
    {
     "name": "stderr",
     "output_type": "stream",
     "text": [
      "PLMS Sampler: 100%|██████████| 250/250 [00:12<00:00, 20.17it/s]\n"
     ]
    },
    {
     "name": "stdout",
     "output_type": "stream",
     "text": [
      "rendering 5 examples in 250 steps.\n",
      "Data shape for PLMS sampling is (5, 3, 64, 64)\n",
      "Running PLMS Sampling with 250 timesteps\n"
     ]
    },
    {
     "name": "stderr",
     "output_type": "stream",
     "text": [
      "PLMS Sampler: 100%|██████████| 250/250 [00:12<00:00, 20.19it/s]\n"
     ]
    },
    {
     "name": "stdout",
     "output_type": "stream",
     "text": [
      "rendering 5 examples in 250 steps.\n",
      "Data shape for PLMS sampling is (5, 3, 64, 64)\n",
      "Running PLMS Sampling with 250 timesteps\n"
     ]
    },
    {
     "name": "stderr",
     "output_type": "stream",
     "text": [
      "PLMS Sampler: 100%|██████████| 250/250 [00:12<00:00, 20.20it/s]\n"
     ]
    },
    {
     "name": "stdout",
     "output_type": "stream",
     "text": [
      "rendering 5 examples in 250 steps.\n",
      "Data shape for PLMS sampling is (5, 3, 64, 64)\n",
      "Running PLMS Sampling with 250 timesteps\n"
     ]
    },
    {
     "name": "stderr",
     "output_type": "stream",
     "text": [
      "PLMS Sampler: 100%|██████████| 250/250 [00:12<00:00, 20.17it/s]\n"
     ]
    },
    {
     "name": "stdout",
     "output_type": "stream",
     "text": [
      "rendering 5 examples in 250 steps.\n",
      "Data shape for PLMS sampling is (5, 3, 64, 64)\n",
      "Running PLMS Sampling with 250 timesteps\n"
     ]
    },
    {
     "name": "stderr",
     "output_type": "stream",
     "text": [
      "PLMS Sampler: 100%|██████████| 250/250 [00:12<00:00, 20.19it/s]\n"
     ]
    },
    {
     "name": "stdout",
     "output_type": "stream",
     "text": [
      "rendering 5 examples in 250 steps.\n",
      "Data shape for PLMS sampling is (5, 3, 64, 64)\n",
      "Running PLMS Sampling with 250 timesteps\n"
     ]
    },
    {
     "name": "stderr",
     "output_type": "stream",
     "text": [
      "PLMS Sampler: 100%|██████████| 250/250 [00:12<00:00, 20.18it/s]\n"
     ]
    },
    {
     "name": "stdout",
     "output_type": "stream",
     "text": [
      "rendering 5 examples in 250 steps.\n",
      "Data shape for PLMS sampling is (5, 3, 64, 64)\n",
      "Running PLMS Sampling with 250 timesteps\n"
     ]
    },
    {
     "name": "stderr",
     "output_type": "stream",
     "text": [
      "PLMS Sampler: 100%|██████████| 250/250 [00:12<00:00, 20.18it/s]\n"
     ]
    },
    {
     "name": "stdout",
     "output_type": "stream",
     "text": [
      "rendering 5 examples in 250 steps.\n",
      "Data shape for PLMS sampling is (5, 3, 64, 64)\n",
      "Running PLMS Sampling with 250 timesteps\n"
     ]
    },
    {
     "name": "stderr",
     "output_type": "stream",
     "text": [
      "PLMS Sampler: 100%|██████████| 250/250 [00:12<00:00, 20.20it/s]\n"
     ]
    },
    {
     "name": "stdout",
     "output_type": "stream",
     "text": [
      "rendering 5 examples in 250 steps.\n",
      "Data shape for PLMS sampling is (5, 3, 64, 64)\n",
      "Running PLMS Sampling with 250 timesteps\n"
     ]
    },
    {
     "name": "stderr",
     "output_type": "stream",
     "text": [
      "PLMS Sampler: 100%|██████████| 250/250 [00:12<00:00, 20.20it/s]\n"
     ]
    },
    {
     "name": "stdout",
     "output_type": "stream",
     "text": [
      "rendering 5 examples in 250 steps.\n",
      "Data shape for PLMS sampling is (5, 3, 64, 64)\n",
      "Running PLMS Sampling with 250 timesteps\n"
     ]
    },
    {
     "name": "stderr",
     "output_type": "stream",
     "text": [
      "PLMS Sampler: 100%|██████████| 250/250 [00:12<00:00, 20.19it/s]\n"
     ]
    },
    {
     "name": "stdout",
     "output_type": "stream",
     "text": [
      "rendering 5 examples in 250 steps.\n",
      "Data shape for PLMS sampling is (5, 3, 64, 64)\n",
      "Running PLMS Sampling with 250 timesteps\n"
     ]
    },
    {
     "name": "stderr",
     "output_type": "stream",
     "text": [
      "PLMS Sampler: 100%|██████████| 250/250 [00:12<00:00, 20.18it/s]\n"
     ]
    },
    {
     "name": "stdout",
     "output_type": "stream",
     "text": [
      "rendering 5 examples in 250 steps.\n",
      "Data shape for PLMS sampling is (5, 3, 64, 64)\n",
      "Running PLMS Sampling with 250 timesteps\n"
     ]
    },
    {
     "name": "stderr",
     "output_type": "stream",
     "text": [
      "PLMS Sampler: 100%|██████████| 250/250 [00:12<00:00, 20.19it/s]\n"
     ]
    },
    {
     "name": "stdout",
     "output_type": "stream",
     "text": [
      "rendering 5 examples in 250 steps.\n",
      "Data shape for PLMS sampling is (5, 3, 64, 64)\n",
      "Running PLMS Sampling with 250 timesteps\n"
     ]
    },
    {
     "name": "stderr",
     "output_type": "stream",
     "text": [
      "PLMS Sampler: 100%|██████████| 250/250 [00:12<00:00, 20.19it/s]\n"
     ]
    },
    {
     "name": "stdout",
     "output_type": "stream",
     "text": [
      "rendering 5 examples in 250 steps.\n",
      "Data shape for PLMS sampling is (5, 3, 64, 64)\n",
      "Running PLMS Sampling with 250 timesteps\n"
     ]
    },
    {
     "name": "stderr",
     "output_type": "stream",
     "text": [
      "PLMS Sampler: 100%|██████████| 250/250 [00:12<00:00, 20.19it/s]\n"
     ]
    },
    {
     "name": "stdout",
     "output_type": "stream",
     "text": [
      "rendering 5 examples in 250 steps.\n",
      "Data shape for PLMS sampling is (5, 3, 64, 64)\n",
      "Running PLMS Sampling with 250 timesteps\n"
     ]
    },
    {
     "name": "stderr",
     "output_type": "stream",
     "text": [
      "PLMS Sampler: 100%|██████████| 250/250 [00:12<00:00, 20.19it/s]\n"
     ]
    },
    {
     "name": "stdout",
     "output_type": "stream",
     "text": [
      "rendering 5 examples in 250 steps.\n",
      "Data shape for PLMS sampling is (5, 3, 64, 64)\n",
      "Running PLMS Sampling with 250 timesteps\n"
     ]
    },
    {
     "name": "stderr",
     "output_type": "stream",
     "text": [
      "PLMS Sampler: 100%|██████████| 250/250 [00:12<00:00, 20.19it/s]\n"
     ]
    },
    {
     "name": "stdout",
     "output_type": "stream",
     "text": [
      "rendering 5 examples in 250 steps.\n",
      "Data shape for PLMS sampling is (5, 3, 64, 64)\n",
      "Running PLMS Sampling with 250 timesteps\n"
     ]
    },
    {
     "name": "stderr",
     "output_type": "stream",
     "text": [
      "PLMS Sampler: 100%|██████████| 250/250 [00:12<00:00, 20.19it/s]\n"
     ]
    },
    {
     "name": "stdout",
     "output_type": "stream",
     "text": [
      "rendering 5 examples in 250 steps.\n",
      "Data shape for PLMS sampling is (5, 3, 64, 64)\n",
      "Running PLMS Sampling with 250 timesteps\n"
     ]
    },
    {
     "name": "stderr",
     "output_type": "stream",
     "text": [
      "PLMS Sampler: 100%|██████████| 250/250 [00:12<00:00, 20.20it/s]\n"
     ]
    },
    {
     "name": "stdout",
     "output_type": "stream",
     "text": [
      "rendering 5 examples in 250 steps.\n",
      "Data shape for PLMS sampling is (5, 3, 64, 64)\n",
      "Running PLMS Sampling with 250 timesteps\n"
     ]
    },
    {
     "name": "stderr",
     "output_type": "stream",
     "text": [
      "PLMS Sampler: 100%|██████████| 250/250 [00:12<00:00, 20.20it/s]\n"
     ]
    },
    {
     "name": "stdout",
     "output_type": "stream",
     "text": [
      "rendering 5 examples in 250 steps.\n",
      "Data shape for PLMS sampling is (5, 3, 64, 64)\n",
      "Running PLMS Sampling with 250 timesteps\n"
     ]
    },
    {
     "name": "stderr",
     "output_type": "stream",
     "text": [
      "PLMS Sampler: 100%|██████████| 250/250 [00:12<00:00, 20.19it/s]\n"
     ]
    },
    {
     "name": "stdout",
     "output_type": "stream",
     "text": [
      "rendering 5 examples in 250 steps.\n",
      "Data shape for PLMS sampling is (5, 3, 64, 64)\n",
      "Running PLMS Sampling with 250 timesteps\n"
     ]
    },
    {
     "name": "stderr",
     "output_type": "stream",
     "text": [
      "PLMS Sampler: 100%|██████████| 250/250 [00:12<00:00, 20.18it/s]\n"
     ]
    },
    {
     "name": "stdout",
     "output_type": "stream",
     "text": [
      "rendering 5 examples in 250 steps.\n",
      "Data shape for PLMS sampling is (5, 3, 64, 64)\n",
      "Running PLMS Sampling with 250 timesteps\n"
     ]
    },
    {
     "name": "stderr",
     "output_type": "stream",
     "text": [
      "PLMS Sampler: 100%|██████████| 250/250 [00:12<00:00, 20.19it/s]\n"
     ]
    },
    {
     "name": "stdout",
     "output_type": "stream",
     "text": [
      "rendering 5 examples in 250 steps.\n",
      "Data shape for PLMS sampling is (5, 3, 64, 64)\n",
      "Running PLMS Sampling with 250 timesteps\n"
     ]
    },
    {
     "name": "stderr",
     "output_type": "stream",
     "text": [
      "PLMS Sampler: 100%|██████████| 250/250 [00:12<00:00, 20.20it/s]\n"
     ]
    },
    {
     "name": "stdout",
     "output_type": "stream",
     "text": [
      "rendering 5 examples in 250 steps.\n",
      "Data shape for PLMS sampling is (5, 3, 64, 64)\n",
      "Running PLMS Sampling with 250 timesteps\n"
     ]
    },
    {
     "name": "stderr",
     "output_type": "stream",
     "text": [
      "PLMS Sampler: 100%|██████████| 250/250 [00:12<00:00, 20.19it/s]\n"
     ]
    },
    {
     "name": "stdout",
     "output_type": "stream",
     "text": [
      "rendering 5 examples in 250 steps.\n",
      "Data shape for PLMS sampling is (5, 3, 64, 64)\n",
      "Running PLMS Sampling with 250 timesteps\n"
     ]
    },
    {
     "name": "stderr",
     "output_type": "stream",
     "text": [
      "PLMS Sampler: 100%|██████████| 250/250 [00:12<00:00, 20.19it/s]\n"
     ]
    },
    {
     "name": "stdout",
     "output_type": "stream",
     "text": [
      "rendering 5 examples in 250 steps.\n",
      "Data shape for PLMS sampling is (5, 3, 64, 64)\n",
      "Running PLMS Sampling with 250 timesteps\n"
     ]
    },
    {
     "name": "stderr",
     "output_type": "stream",
     "text": [
      "PLMS Sampler: 100%|██████████| 250/250 [00:12<00:00, 20.18it/s]\n"
     ]
    },
    {
     "name": "stdout",
     "output_type": "stream",
     "text": [
      "rendering 5 examples in 250 steps.\n",
      "Data shape for PLMS sampling is (5, 3, 64, 64)\n",
      "Running PLMS Sampling with 250 timesteps\n"
     ]
    },
    {
     "name": "stderr",
     "output_type": "stream",
     "text": [
      "PLMS Sampler: 100%|██████████| 250/250 [00:12<00:00, 20.19it/s]\n"
     ]
    },
    {
     "name": "stdout",
     "output_type": "stream",
     "text": [
      "rendering 5 examples in 250 steps.\n",
      "Data shape for PLMS sampling is (5, 3, 64, 64)\n",
      "Running PLMS Sampling with 250 timesteps\n"
     ]
    },
    {
     "name": "stderr",
     "output_type": "stream",
     "text": [
      "PLMS Sampler: 100%|██████████| 250/250 [00:12<00:00, 20.21it/s]\n"
     ]
    },
    {
     "name": "stdout",
     "output_type": "stream",
     "text": [
      "rendering 5 examples in 250 steps.\n",
      "Data shape for PLMS sampling is (5, 3, 64, 64)\n",
      "Running PLMS Sampling with 250 timesteps\n"
     ]
    },
    {
     "name": "stderr",
     "output_type": "stream",
     "text": [
      "PLMS Sampler: 100%|██████████| 250/250 [00:12<00:00, 20.21it/s]\n"
     ]
    },
    {
     "name": "stdout",
     "output_type": "stream",
     "text": [
      "rendering 5 examples in 250 steps.\n",
      "Data shape for PLMS sampling is (5, 3, 64, 64)\n",
      "Running PLMS Sampling with 250 timesteps\n"
     ]
    },
    {
     "name": "stderr",
     "output_type": "stream",
     "text": [
      "PLMS Sampler: 100%|██████████| 250/250 [00:12<00:00, 20.19it/s]\n"
     ]
    },
    {
     "name": "stdout",
     "output_type": "stream",
     "text": [
      "rendering 5 examples in 250 steps.\n",
      "Data shape for PLMS sampling is (5, 3, 64, 64)\n",
      "Running PLMS Sampling with 250 timesteps\n"
     ]
    },
    {
     "name": "stderr",
     "output_type": "stream",
     "text": [
      "PLMS Sampler: 100%|██████████| 250/250 [00:12<00:00, 20.21it/s]\n"
     ]
    },
    {
     "name": "stdout",
     "output_type": "stream",
     "text": [
      "rendering 5 examples in 250 steps.\n",
      "Data shape for PLMS sampling is (5, 3, 64, 64)\n",
      "Running PLMS Sampling with 250 timesteps\n"
     ]
    },
    {
     "name": "stderr",
     "output_type": "stream",
     "text": [
      "PLMS Sampler: 100%|██████████| 250/250 [00:12<00:00, 20.21it/s]\n"
     ]
    },
    {
     "name": "stdout",
     "output_type": "stream",
     "text": [
      "rendering 5 examples in 250 steps.\n",
      "Data shape for PLMS sampling is (5, 3, 64, 64)\n",
      "Running PLMS Sampling with 250 timesteps\n"
     ]
    },
    {
     "name": "stderr",
     "output_type": "stream",
     "text": [
      "PLMS Sampler: 100%|██████████| 250/250 [00:12<00:00, 20.18it/s]\n"
     ]
    },
    {
     "name": "stdout",
     "output_type": "stream",
     "text": [
      "rendering 5 examples in 250 steps.\n",
      "Data shape for PLMS sampling is (5, 3, 64, 64)\n",
      "Running PLMS Sampling with 250 timesteps\n"
     ]
    },
    {
     "name": "stderr",
     "output_type": "stream",
     "text": [
      "PLMS Sampler: 100%|██████████| 250/250 [00:12<00:00, 20.19it/s]\n"
     ]
    },
    {
     "name": "stdout",
     "output_type": "stream",
     "text": [
      "rendering 5 examples in 250 steps.\n",
      "Data shape for PLMS sampling is (5, 3, 64, 64)\n",
      "Running PLMS Sampling with 250 timesteps\n"
     ]
    },
    {
     "name": "stderr",
     "output_type": "stream",
     "text": [
      "PLMS Sampler: 100%|██████████| 250/250 [00:12<00:00, 20.20it/s]\n"
     ]
    },
    {
     "name": "stdout",
     "output_type": "stream",
     "text": [
      "rendering 5 examples in 250 steps.\n",
      "Data shape for PLMS sampling is (5, 3, 64, 64)\n",
      "Running PLMS Sampling with 250 timesteps\n"
     ]
    },
    {
     "name": "stderr",
     "output_type": "stream",
     "text": [
      "PLMS Sampler: 100%|██████████| 250/250 [00:12<00:00, 20.19it/s]\n"
     ]
    },
    {
     "name": "stdout",
     "output_type": "stream",
     "text": [
      "rendering 5 examples in 250 steps.\n",
      "Data shape for PLMS sampling is (5, 3, 64, 64)\n",
      "Running PLMS Sampling with 250 timesteps\n"
     ]
    },
    {
     "name": "stderr",
     "output_type": "stream",
     "text": [
      "PLMS Sampler: 100%|██████████| 250/250 [00:12<00:00, 20.20it/s]\n"
     ]
    },
    {
     "name": "stdout",
     "output_type": "stream",
     "text": [
      "rendering 5 examples in 250 steps.\n",
      "Data shape for PLMS sampling is (5, 3, 64, 64)\n",
      "Running PLMS Sampling with 250 timesteps\n"
     ]
    },
    {
     "name": "stderr",
     "output_type": "stream",
     "text": [
      "PLMS Sampler: 100%|██████████| 250/250 [00:12<00:00, 20.19it/s]\n"
     ]
    },
    {
     "name": "stdout",
     "output_type": "stream",
     "text": [
      "rendering 5 examples in 250 steps.\n",
      "Data shape for PLMS sampling is (5, 3, 64, 64)\n",
      "Running PLMS Sampling with 250 timesteps\n"
     ]
    },
    {
     "name": "stderr",
     "output_type": "stream",
     "text": [
      "PLMS Sampler: 100%|██████████| 250/250 [00:12<00:00, 20.19it/s]\n"
     ]
    },
    {
     "name": "stdout",
     "output_type": "stream",
     "text": [
      "rendering 5 examples in 250 steps.\n",
      "Data shape for PLMS sampling is (5, 3, 64, 64)\n",
      "Running PLMS Sampling with 250 timesteps\n"
     ]
    },
    {
     "name": "stderr",
     "output_type": "stream",
     "text": [
      "PLMS Sampler: 100%|██████████| 250/250 [00:12<00:00, 20.19it/s]\n"
     ]
    },
    {
     "name": "stdout",
     "output_type": "stream",
     "text": [
      "rendering 5 examples in 250 steps.\n",
      "Data shape for PLMS sampling is (5, 3, 64, 64)\n",
      "Running PLMS Sampling with 250 timesteps\n"
     ]
    },
    {
     "name": "stderr",
     "output_type": "stream",
     "text": [
      "PLMS Sampler: 100%|██████████| 250/250 [00:12<00:00, 20.20it/s]\n"
     ]
    },
    {
     "name": "stdout",
     "output_type": "stream",
     "text": [
      "rendering 5 examples in 250 steps.\n",
      "Data shape for PLMS sampling is (5, 3, 64, 64)\n",
      "Running PLMS Sampling with 250 timesteps\n"
     ]
    },
    {
     "name": "stderr",
     "output_type": "stream",
     "text": [
      "PLMS Sampler: 100%|██████████| 250/250 [00:12<00:00, 20.19it/s]\n"
     ]
    },
    {
     "name": "stdout",
     "output_type": "stream",
     "text": [
      "rendering 5 examples in 250 steps.\n",
      "Data shape for PLMS sampling is (5, 3, 64, 64)\n",
      "Running PLMS Sampling with 250 timesteps\n"
     ]
    },
    {
     "name": "stderr",
     "output_type": "stream",
     "text": [
      "PLMS Sampler: 100%|██████████| 250/250 [00:12<00:00, 20.17it/s]\n"
     ]
    },
    {
     "name": "stdout",
     "output_type": "stream",
     "text": [
      "rendering 5 examples in 250 steps.\n",
      "Data shape for PLMS sampling is (5, 3, 64, 64)\n",
      "Running PLMS Sampling with 250 timesteps\n"
     ]
    },
    {
     "name": "stderr",
     "output_type": "stream",
     "text": [
      "PLMS Sampler: 100%|██████████| 250/250 [00:12<00:00, 20.19it/s]\n"
     ]
    },
    {
     "name": "stdout",
     "output_type": "stream",
     "text": [
      "rendering 5 examples in 250 steps.\n",
      "Data shape for PLMS sampling is (5, 3, 64, 64)\n",
      "Running PLMS Sampling with 250 timesteps\n"
     ]
    },
    {
     "name": "stderr",
     "output_type": "stream",
     "text": [
      "PLMS Sampler: 100%|██████████| 250/250 [00:12<00:00, 20.20it/s]\n"
     ]
    },
    {
     "name": "stdout",
     "output_type": "stream",
     "text": [
      "rendering 5 examples in 250 steps.\n",
      "Data shape for PLMS sampling is (5, 3, 64, 64)\n",
      "Running PLMS Sampling with 250 timesteps\n"
     ]
    },
    {
     "name": "stderr",
     "output_type": "stream",
     "text": [
      "PLMS Sampler: 100%|██████████| 250/250 [00:12<00:00, 20.19it/s]\n"
     ]
    },
    {
     "name": "stdout",
     "output_type": "stream",
     "text": [
      "rendering 5 examples in 250 steps.\n",
      "Data shape for PLMS sampling is (5, 3, 64, 64)\n",
      "Running PLMS Sampling with 250 timesteps\n"
     ]
    },
    {
     "name": "stderr",
     "output_type": "stream",
     "text": [
      "PLMS Sampler: 100%|██████████| 250/250 [00:12<00:00, 20.20it/s]\n"
     ]
    },
    {
     "name": "stdout",
     "output_type": "stream",
     "text": [
      "rendering 5 examples in 250 steps.\n",
      "Data shape for PLMS sampling is (5, 3, 64, 64)\n",
      "Running PLMS Sampling with 250 timesteps\n"
     ]
    },
    {
     "name": "stderr",
     "output_type": "stream",
     "text": [
      "PLMS Sampler: 100%|██████████| 250/250 [00:12<00:00, 20.25it/s]\n"
     ]
    },
    {
     "name": "stdout",
     "output_type": "stream",
     "text": [
      "rendering 5 examples in 250 steps.\n",
      "Data shape for PLMS sampling is (5, 3, 64, 64)\n",
      "Running PLMS Sampling with 250 timesteps\n"
     ]
    },
    {
     "name": "stderr",
     "output_type": "stream",
     "text": [
      "PLMS Sampler: 100%|██████████| 250/250 [00:12<00:00, 20.25it/s]\n"
     ]
    },
    {
     "name": "stdout",
     "output_type": "stream",
     "text": [
      "rendering 5 examples in 250 steps.\n",
      "Data shape for PLMS sampling is (5, 3, 64, 64)\n",
      "Running PLMS Sampling with 250 timesteps\n"
     ]
    },
    {
     "name": "stderr",
     "output_type": "stream",
     "text": [
      "PLMS Sampler: 100%|██████████| 250/250 [00:12<00:00, 20.24it/s]\n"
     ]
    },
    {
     "name": "stdout",
     "output_type": "stream",
     "text": [
      "rendering 5 examples in 250 steps.\n",
      "Data shape for PLMS sampling is (5, 3, 64, 64)\n",
      "Running PLMS Sampling with 250 timesteps\n"
     ]
    },
    {
     "name": "stderr",
     "output_type": "stream",
     "text": [
      "PLMS Sampler: 100%|██████████| 250/250 [00:12<00:00, 20.24it/s]\n"
     ]
    },
    {
     "name": "stdout",
     "output_type": "stream",
     "text": [
      "rendering 5 examples in 250 steps.\n",
      "Data shape for PLMS sampling is (5, 3, 64, 64)\n",
      "Running PLMS Sampling with 250 timesteps\n"
     ]
    },
    {
     "name": "stderr",
     "output_type": "stream",
     "text": [
      "PLMS Sampler: 100%|██████████| 250/250 [00:12<00:00, 20.24it/s]\n"
     ]
    },
    {
     "name": "stdout",
     "output_type": "stream",
     "text": [
      "rendering 5 examples in 250 steps.\n",
      "Data shape for PLMS sampling is (5, 3, 64, 64)\n",
      "Running PLMS Sampling with 250 timesteps\n"
     ]
    },
    {
     "name": "stderr",
     "output_type": "stream",
     "text": [
      "PLMS Sampler: 100%|██████████| 250/250 [00:12<00:00, 20.23it/s]\n"
     ]
    },
    {
     "name": "stdout",
     "output_type": "stream",
     "text": [
      "rendering 5 examples in 250 steps.\n",
      "Data shape for PLMS sampling is (5, 3, 64, 64)\n",
      "Running PLMS Sampling with 250 timesteps\n"
     ]
    },
    {
     "name": "stderr",
     "output_type": "stream",
     "text": [
      "PLMS Sampler: 100%|██████████| 250/250 [00:12<00:00, 20.23it/s]\n"
     ]
    },
    {
     "name": "stdout",
     "output_type": "stream",
     "text": [
      "rendering 5 examples in 250 steps.\n",
      "Data shape for PLMS sampling is (5, 3, 64, 64)\n",
      "Running PLMS Sampling with 250 timesteps\n"
     ]
    },
    {
     "name": "stderr",
     "output_type": "stream",
     "text": [
      "PLMS Sampler: 100%|██████████| 250/250 [00:12<00:00, 20.23it/s]\n"
     ]
    },
    {
     "name": "stdout",
     "output_type": "stream",
     "text": [
      "rendering 5 examples in 250 steps.\n",
      "Data shape for PLMS sampling is (5, 3, 64, 64)\n",
      "Running PLMS Sampling with 250 timesteps\n"
     ]
    },
    {
     "name": "stderr",
     "output_type": "stream",
     "text": [
      "PLMS Sampler: 100%|██████████| 250/250 [00:12<00:00, 20.23it/s]\n"
     ]
    },
    {
     "name": "stdout",
     "output_type": "stream",
     "text": [
      "rendering 5 examples in 250 steps.\n",
      "Data shape for PLMS sampling is (5, 3, 64, 64)\n",
      "Running PLMS Sampling with 250 timesteps\n"
     ]
    },
    {
     "name": "stderr",
     "output_type": "stream",
     "text": [
      "PLMS Sampler: 100%|██████████| 250/250 [00:12<00:00, 20.23it/s]\n"
     ]
    },
    {
     "name": "stdout",
     "output_type": "stream",
     "text": [
      "rendering 5 examples in 250 steps.\n",
      "Data shape for PLMS sampling is (5, 3, 64, 64)\n",
      "Running PLMS Sampling with 250 timesteps\n"
     ]
    },
    {
     "name": "stderr",
     "output_type": "stream",
     "text": [
      "PLMS Sampler: 100%|██████████| 250/250 [00:12<00:00, 20.24it/s]\n"
     ]
    },
    {
     "name": "stdout",
     "output_type": "stream",
     "text": [
      "rendering 5 examples in 250 steps.\n",
      "Data shape for PLMS sampling is (5, 3, 64, 64)\n",
      "Running PLMS Sampling with 250 timesteps\n"
     ]
    },
    {
     "name": "stderr",
     "output_type": "stream",
     "text": [
      "PLMS Sampler: 100%|██████████| 250/250 [00:12<00:00, 20.22it/s]\n"
     ]
    },
    {
     "name": "stdout",
     "output_type": "stream",
     "text": [
      "rendering 5 examples in 250 steps.\n",
      "Data shape for PLMS sampling is (5, 3, 64, 64)\n",
      "Running PLMS Sampling with 250 timesteps\n"
     ]
    },
    {
     "name": "stderr",
     "output_type": "stream",
     "text": [
      "PLMS Sampler: 100%|██████████| 250/250 [00:12<00:00, 20.24it/s]\n"
     ]
    },
    {
     "name": "stdout",
     "output_type": "stream",
     "text": [
      "rendering 5 examples in 250 steps.\n",
      "Data shape for PLMS sampling is (5, 3, 64, 64)\n",
      "Running PLMS Sampling with 250 timesteps\n"
     ]
    },
    {
     "name": "stderr",
     "output_type": "stream",
     "text": [
      "PLMS Sampler: 100%|██████████| 250/250 [00:12<00:00, 20.24it/s]\n"
     ]
    },
    {
     "name": "stdout",
     "output_type": "stream",
     "text": [
      "rendering 5 examples in 250 steps.\n",
      "Data shape for PLMS sampling is (5, 3, 64, 64)\n",
      "Running PLMS Sampling with 250 timesteps\n"
     ]
    },
    {
     "name": "stderr",
     "output_type": "stream",
     "text": [
      "PLMS Sampler: 100%|██████████| 250/250 [00:12<00:00, 20.25it/s]\n"
     ]
    },
    {
     "name": "stdout",
     "output_type": "stream",
     "text": [
      "rendering 5 examples in 250 steps.\n",
      "Data shape for PLMS sampling is (5, 3, 64, 64)\n",
      "Running PLMS Sampling with 250 timesteps\n"
     ]
    },
    {
     "name": "stderr",
     "output_type": "stream",
     "text": [
      "PLMS Sampler: 100%|██████████| 250/250 [00:12<00:00, 20.25it/s]\n"
     ]
    },
    {
     "name": "stdout",
     "output_type": "stream",
     "text": [
      "rendering 5 examples in 250 steps.\n",
      "Data shape for PLMS sampling is (5, 3, 64, 64)\n",
      "Running PLMS Sampling with 250 timesteps\n"
     ]
    },
    {
     "name": "stderr",
     "output_type": "stream",
     "text": [
      "PLMS Sampler: 100%|██████████| 250/250 [00:12<00:00, 20.25it/s]\n"
     ]
    },
    {
     "name": "stdout",
     "output_type": "stream",
     "text": [
      "rendering 5 examples in 250 steps.\n",
      "Data shape for PLMS sampling is (5, 3, 64, 64)\n",
      "Running PLMS Sampling with 250 timesteps\n"
     ]
    },
    {
     "name": "stderr",
     "output_type": "stream",
     "text": [
      "PLMS Sampler: 100%|██████████| 250/250 [00:12<00:00, 20.25it/s]\n"
     ]
    },
    {
     "name": "stdout",
     "output_type": "stream",
     "text": [
      "rendering 5 examples in 250 steps.\n",
      "Data shape for PLMS sampling is (5, 3, 64, 64)\n",
      "Running PLMS Sampling with 250 timesteps\n"
     ]
    },
    {
     "name": "stderr",
     "output_type": "stream",
     "text": [
      "PLMS Sampler: 100%|██████████| 250/250 [00:12<00:00, 20.24it/s]\n"
     ]
    },
    {
     "name": "stdout",
     "output_type": "stream",
     "text": [
      "rendering 5 examples in 250 steps.\n",
      "Data shape for PLMS sampling is (5, 3, 64, 64)\n",
      "Running PLMS Sampling with 250 timesteps\n"
     ]
    },
    {
     "name": "stderr",
     "output_type": "stream",
     "text": [
      "PLMS Sampler: 100%|██████████| 250/250 [00:12<00:00, 20.25it/s]\n"
     ]
    },
    {
     "name": "stdout",
     "output_type": "stream",
     "text": [
      "rendering 5 examples in 250 steps.\n",
      "Data shape for PLMS sampling is (5, 3, 64, 64)\n",
      "Running PLMS Sampling with 250 timesteps\n"
     ]
    },
    {
     "name": "stderr",
     "output_type": "stream",
     "text": [
      "PLMS Sampler: 100%|██████████| 250/250 [00:12<00:00, 20.24it/s]\n"
     ]
    },
    {
     "name": "stdout",
     "output_type": "stream",
     "text": [
      "rendering 5 examples in 250 steps.\n",
      "Data shape for PLMS sampling is (5, 3, 64, 64)\n",
      "Running PLMS Sampling with 250 timesteps\n"
     ]
    },
    {
     "name": "stderr",
     "output_type": "stream",
     "text": [
      "PLMS Sampler: 100%|██████████| 250/250 [00:12<00:00, 20.25it/s]\n"
     ]
    },
    {
     "name": "stdout",
     "output_type": "stream",
     "text": [
      "rendering 5 examples in 250 steps.\n",
      "Data shape for PLMS sampling is (5, 3, 64, 64)\n",
      "Running PLMS Sampling with 250 timesteps\n"
     ]
    },
    {
     "name": "stderr",
     "output_type": "stream",
     "text": [
      "PLMS Sampler: 100%|██████████| 250/250 [00:12<00:00, 20.24it/s]\n"
     ]
    },
    {
     "name": "stdout",
     "output_type": "stream",
     "text": [
      "rendering 5 examples in 250 steps.\n",
      "Data shape for PLMS sampling is (5, 3, 64, 64)\n",
      "Running PLMS Sampling with 250 timesteps\n"
     ]
    },
    {
     "name": "stderr",
     "output_type": "stream",
     "text": [
      "PLMS Sampler: 100%|██████████| 250/250 [00:12<00:00, 20.24it/s]\n"
     ]
    },
    {
     "name": "stdout",
     "output_type": "stream",
     "text": [
      "rendering 5 examples in 250 steps.\n",
      "Data shape for PLMS sampling is (5, 3, 64, 64)\n",
      "Running PLMS Sampling with 250 timesteps\n"
     ]
    },
    {
     "name": "stderr",
     "output_type": "stream",
     "text": [
      "PLMS Sampler: 100%|██████████| 250/250 [00:12<00:00, 20.24it/s]\n"
     ]
    },
    {
     "name": "stdout",
     "output_type": "stream",
     "text": [
      "rendering 5 examples in 250 steps.\n",
      "Data shape for PLMS sampling is (5, 3, 64, 64)\n",
      "Running PLMS Sampling with 250 timesteps\n"
     ]
    },
    {
     "name": "stderr",
     "output_type": "stream",
     "text": [
      "PLMS Sampler: 100%|██████████| 250/250 [00:12<00:00, 20.24it/s]\n"
     ]
    },
    {
     "name": "stdout",
     "output_type": "stream",
     "text": [
      "rendering 5 examples in 250 steps.\n",
      "Data shape for PLMS sampling is (5, 3, 64, 64)\n",
      "Running PLMS Sampling with 250 timesteps\n"
     ]
    },
    {
     "name": "stderr",
     "output_type": "stream",
     "text": [
      "PLMS Sampler: 100%|██████████| 250/250 [00:12<00:00, 20.23it/s]\n"
     ]
    },
    {
     "name": "stdout",
     "output_type": "stream",
     "text": [
      "rendering 5 examples in 250 steps.\n",
      "Data shape for PLMS sampling is (5, 3, 64, 64)\n",
      "Running PLMS Sampling with 250 timesteps\n"
     ]
    },
    {
     "name": "stderr",
     "output_type": "stream",
     "text": [
      "PLMS Sampler: 100%|██████████| 250/250 [00:12<00:00, 20.19it/s]\n"
     ]
    },
    {
     "name": "stdout",
     "output_type": "stream",
     "text": [
      "rendering 5 examples in 250 steps.\n",
      "Data shape for PLMS sampling is (5, 3, 64, 64)\n",
      "Running PLMS Sampling with 250 timesteps\n"
     ]
    },
    {
     "name": "stderr",
     "output_type": "stream",
     "text": [
      "PLMS Sampler: 100%|██████████| 250/250 [00:12<00:00, 20.19it/s]\n"
     ]
    },
    {
     "name": "stdout",
     "output_type": "stream",
     "text": [
      "rendering 5 examples in 250 steps.\n",
      "Data shape for PLMS sampling is (5, 3, 64, 64)\n",
      "Running PLMS Sampling with 250 timesteps\n"
     ]
    },
    {
     "name": "stderr",
     "output_type": "stream",
     "text": [
      "PLMS Sampler: 100%|██████████| 250/250 [00:12<00:00, 20.21it/s]\n"
     ]
    },
    {
     "name": "stdout",
     "output_type": "stream",
     "text": [
      "rendering 5 examples in 250 steps.\n",
      "Data shape for PLMS sampling is (5, 3, 64, 64)\n",
      "Running PLMS Sampling with 250 timesteps\n"
     ]
    },
    {
     "name": "stderr",
     "output_type": "stream",
     "text": [
      "PLMS Sampler: 100%|██████████| 250/250 [00:12<00:00, 20.20it/s]\n"
     ]
    },
    {
     "name": "stdout",
     "output_type": "stream",
     "text": [
      "rendering 5 examples in 250 steps.\n",
      "Data shape for PLMS sampling is (5, 3, 64, 64)\n",
      "Running PLMS Sampling with 250 timesteps\n"
     ]
    },
    {
     "name": "stderr",
     "output_type": "stream",
     "text": [
      "PLMS Sampler: 100%|██████████| 250/250 [00:12<00:00, 20.20it/s]\n"
     ]
    },
    {
     "name": "stdout",
     "output_type": "stream",
     "text": [
      "rendering 5 examples in 250 steps.\n",
      "Data shape for PLMS sampling is (5, 3, 64, 64)\n",
      "Running PLMS Sampling with 250 timesteps\n"
     ]
    },
    {
     "name": "stderr",
     "output_type": "stream",
     "text": [
      "PLMS Sampler: 100%|██████████| 250/250 [00:12<00:00, 20.20it/s]\n"
     ]
    },
    {
     "name": "stdout",
     "output_type": "stream",
     "text": [
      "rendering 5 examples in 250 steps.\n",
      "Data shape for PLMS sampling is (5, 3, 64, 64)\n",
      "Running PLMS Sampling with 250 timesteps\n"
     ]
    },
    {
     "name": "stderr",
     "output_type": "stream",
     "text": [
      "PLMS Sampler: 100%|██████████| 250/250 [00:12<00:00, 20.20it/s]\n"
     ]
    },
    {
     "name": "stdout",
     "output_type": "stream",
     "text": [
      "rendering 5 examples in 250 steps.\n",
      "Data shape for PLMS sampling is (5, 3, 64, 64)\n",
      "Running PLMS Sampling with 250 timesteps\n"
     ]
    },
    {
     "name": "stderr",
     "output_type": "stream",
     "text": [
      "PLMS Sampler: 100%|██████████| 250/250 [00:12<00:00, 20.20it/s]\n"
     ]
    },
    {
     "name": "stdout",
     "output_type": "stream",
     "text": [
      "rendering 5 examples in 250 steps.\n",
      "Data shape for PLMS sampling is (5, 3, 64, 64)\n",
      "Running PLMS Sampling with 250 timesteps\n"
     ]
    },
    {
     "name": "stderr",
     "output_type": "stream",
     "text": [
      "PLMS Sampler: 100%|██████████| 250/250 [00:12<00:00, 20.20it/s]\n"
     ]
    },
    {
     "name": "stdout",
     "output_type": "stream",
     "text": [
      "rendering 5 examples in 250 steps.\n",
      "Data shape for PLMS sampling is (5, 3, 64, 64)\n",
      "Running PLMS Sampling with 250 timesteps\n"
     ]
    },
    {
     "name": "stderr",
     "output_type": "stream",
     "text": [
      "PLMS Sampler: 100%|██████████| 250/250 [00:12<00:00, 20.19it/s]\n"
     ]
    },
    {
     "name": "stdout",
     "output_type": "stream",
     "text": [
      "rendering 5 examples in 250 steps.\n",
      "Data shape for PLMS sampling is (5, 3, 64, 64)\n",
      "Running PLMS Sampling with 250 timesteps\n"
     ]
    },
    {
     "name": "stderr",
     "output_type": "stream",
     "text": [
      "PLMS Sampler: 100%|██████████| 250/250 [00:12<00:00, 20.19it/s]\n"
     ]
    },
    {
     "name": "stdout",
     "output_type": "stream",
     "text": [
      "rendering 5 examples in 250 steps.\n",
      "Data shape for PLMS sampling is (5, 3, 64, 64)\n",
      "Running PLMS Sampling with 250 timesteps\n"
     ]
    },
    {
     "name": "stderr",
     "output_type": "stream",
     "text": [
      "PLMS Sampler: 100%|██████████| 250/250 [00:12<00:00, 20.19it/s]\n"
     ]
    },
    {
     "name": "stdout",
     "output_type": "stream",
     "text": [
      "rendering 5 examples in 250 steps.\n",
      "Data shape for PLMS sampling is (5, 3, 64, 64)\n",
      "Running PLMS Sampling with 250 timesteps\n"
     ]
    },
    {
     "name": "stderr",
     "output_type": "stream",
     "text": [
      "PLMS Sampler: 100%|██████████| 250/250 [00:12<00:00, 20.19it/s]\n"
     ]
    },
    {
     "name": "stdout",
     "output_type": "stream",
     "text": [
      "rendering 5 examples in 250 steps.\n",
      "Data shape for PLMS sampling is (5, 3, 64, 64)\n",
      "Running PLMS Sampling with 250 timesteps\n"
     ]
    },
    {
     "name": "stderr",
     "output_type": "stream",
     "text": [
      "PLMS Sampler: 100%|██████████| 250/250 [00:12<00:00, 20.19it/s]\n"
     ]
    },
    {
     "name": "stdout",
     "output_type": "stream",
     "text": [
      "rendering 5 examples in 250 steps.\n",
      "Data shape for PLMS sampling is (5, 3, 64, 64)\n",
      "Running PLMS Sampling with 250 timesteps\n"
     ]
    },
    {
     "name": "stderr",
     "output_type": "stream",
     "text": [
      "PLMS Sampler: 100%|██████████| 250/250 [00:12<00:00, 20.16it/s]\n"
     ]
    },
    {
     "name": "stdout",
     "output_type": "stream",
     "text": [
      "rendering 5 examples in 250 steps.\n",
      "Data shape for PLMS sampling is (5, 3, 64, 64)\n",
      "Running PLMS Sampling with 250 timesteps\n"
     ]
    },
    {
     "name": "stderr",
     "output_type": "stream",
     "text": [
      "PLMS Sampler: 100%|██████████| 250/250 [00:12<00:00, 20.19it/s]\n"
     ]
    },
    {
     "name": "stdout",
     "output_type": "stream",
     "text": [
      "rendering 5 examples in 250 steps.\n",
      "Data shape for PLMS sampling is (5, 3, 64, 64)\n",
      "Running PLMS Sampling with 250 timesteps\n"
     ]
    },
    {
     "name": "stderr",
     "output_type": "stream",
     "text": [
      "PLMS Sampler: 100%|██████████| 250/250 [00:12<00:00, 20.21it/s]\n"
     ]
    },
    {
     "name": "stdout",
     "output_type": "stream",
     "text": [
      "rendering 5 examples in 250 steps.\n",
      "Data shape for PLMS sampling is (5, 3, 64, 64)\n",
      "Running PLMS Sampling with 250 timesteps\n"
     ]
    },
    {
     "name": "stderr",
     "output_type": "stream",
     "text": [
      "PLMS Sampler: 100%|██████████| 250/250 [00:12<00:00, 20.19it/s]\n"
     ]
    },
    {
     "name": "stdout",
     "output_type": "stream",
     "text": [
      "rendering 5 examples in 250 steps.\n",
      "Data shape for PLMS sampling is (5, 3, 64, 64)\n",
      "Running PLMS Sampling with 250 timesteps\n"
     ]
    },
    {
     "name": "stderr",
     "output_type": "stream",
     "text": [
      "PLMS Sampler: 100%|██████████| 250/250 [00:12<00:00, 20.20it/s]\n"
     ]
    },
    {
     "name": "stdout",
     "output_type": "stream",
     "text": [
      "rendering 5 examples in 250 steps.\n",
      "Data shape for PLMS sampling is (5, 3, 64, 64)\n",
      "Running PLMS Sampling with 250 timesteps\n"
     ]
    },
    {
     "name": "stderr",
     "output_type": "stream",
     "text": [
      "PLMS Sampler: 100%|██████████| 250/250 [00:12<00:00, 20.16it/s]\n"
     ]
    },
    {
     "name": "stdout",
     "output_type": "stream",
     "text": [
      "rendering 5 examples in 250 steps.\n",
      "Data shape for PLMS sampling is (5, 3, 64, 64)\n",
      "Running PLMS Sampling with 250 timesteps\n"
     ]
    },
    {
     "name": "stderr",
     "output_type": "stream",
     "text": [
      "PLMS Sampler: 100%|██████████| 250/250 [00:12<00:00, 20.20it/s]\n"
     ]
    },
    {
     "name": "stdout",
     "output_type": "stream",
     "text": [
      "rendering 5 examples in 250 steps.\n",
      "Data shape for PLMS sampling is (5, 3, 64, 64)\n",
      "Running PLMS Sampling with 250 timesteps\n"
     ]
    },
    {
     "name": "stderr",
     "output_type": "stream",
     "text": [
      "PLMS Sampler: 100%|██████████| 250/250 [00:12<00:00, 20.19it/s]\n"
     ]
    },
    {
     "name": "stdout",
     "output_type": "stream",
     "text": [
      "rendering 5 examples in 250 steps.\n",
      "Data shape for PLMS sampling is (5, 3, 64, 64)\n",
      "Running PLMS Sampling with 250 timesteps\n"
     ]
    },
    {
     "name": "stderr",
     "output_type": "stream",
     "text": [
      "PLMS Sampler: 100%|██████████| 250/250 [00:12<00:00, 20.21it/s]\n"
     ]
    },
    {
     "name": "stdout",
     "output_type": "stream",
     "text": [
      "rendering 5 examples in 250 steps.\n",
      "Data shape for PLMS sampling is (5, 3, 64, 64)\n",
      "Running PLMS Sampling with 250 timesteps\n"
     ]
    },
    {
     "name": "stderr",
     "output_type": "stream",
     "text": [
      "PLMS Sampler: 100%|██████████| 250/250 [00:12<00:00, 20.19it/s]\n"
     ]
    },
    {
     "name": "stdout",
     "output_type": "stream",
     "text": [
      "rendering 5 examples in 250 steps.\n",
      "Data shape for PLMS sampling is (5, 3, 64, 64)\n",
      "Running PLMS Sampling with 250 timesteps\n"
     ]
    },
    {
     "name": "stderr",
     "output_type": "stream",
     "text": [
      "PLMS Sampler: 100%|██████████| 250/250 [00:12<00:00, 20.20it/s]\n"
     ]
    },
    {
     "name": "stdout",
     "output_type": "stream",
     "text": [
      "rendering 5 examples in 250 steps.\n",
      "Data shape for PLMS sampling is (5, 3, 64, 64)\n",
      "Running PLMS Sampling with 250 timesteps\n"
     ]
    },
    {
     "name": "stderr",
     "output_type": "stream",
     "text": [
      "PLMS Sampler: 100%|██████████| 250/250 [00:12<00:00, 20.20it/s]\n"
     ]
    },
    {
     "name": "stdout",
     "output_type": "stream",
     "text": [
      "rendering 5 examples in 250 steps.\n",
      "Data shape for PLMS sampling is (5, 3, 64, 64)\n",
      "Running PLMS Sampling with 250 timesteps\n"
     ]
    },
    {
     "name": "stderr",
     "output_type": "stream",
     "text": [
      "PLMS Sampler: 100%|██████████| 250/250 [00:12<00:00, 20.20it/s]\n"
     ]
    },
    {
     "name": "stdout",
     "output_type": "stream",
     "text": [
      "rendering 5 examples in 250 steps.\n",
      "Data shape for PLMS sampling is (5, 3, 64, 64)\n",
      "Running PLMS Sampling with 250 timesteps\n"
     ]
    },
    {
     "name": "stderr",
     "output_type": "stream",
     "text": [
      "PLMS Sampler: 100%|██████████| 250/250 [00:12<00:00, 20.18it/s]\n"
     ]
    },
    {
     "name": "stdout",
     "output_type": "stream",
     "text": [
      "rendering 5 examples in 250 steps.\n",
      "Data shape for PLMS sampling is (5, 3, 64, 64)\n",
      "Running PLMS Sampling with 250 timesteps\n"
     ]
    },
    {
     "name": "stderr",
     "output_type": "stream",
     "text": [
      "PLMS Sampler: 100%|██████████| 250/250 [00:12<00:00, 20.20it/s]\n"
     ]
    },
    {
     "name": "stdout",
     "output_type": "stream",
     "text": [
      "rendering 5 examples in 250 steps.\n",
      "Data shape for PLMS sampling is (5, 3, 64, 64)\n",
      "Running PLMS Sampling with 250 timesteps\n"
     ]
    },
    {
     "name": "stderr",
     "output_type": "stream",
     "text": [
      "PLMS Sampler: 100%|██████████| 250/250 [00:12<00:00, 20.20it/s]\n"
     ]
    },
    {
     "name": "stdout",
     "output_type": "stream",
     "text": [
      "rendering 5 examples in 250 steps.\n",
      "Data shape for PLMS sampling is (5, 3, 64, 64)\n",
      "Running PLMS Sampling with 250 timesteps\n"
     ]
    },
    {
     "name": "stderr",
     "output_type": "stream",
     "text": [
      "PLMS Sampler: 100%|██████████| 250/250 [00:12<00:00, 20.20it/s]\n"
     ]
    },
    {
     "name": "stdout",
     "output_type": "stream",
     "text": [
      "rendering 5 examples in 250 steps.\n",
      "Data shape for PLMS sampling is (5, 3, 64, 64)\n",
      "Running PLMS Sampling with 250 timesteps\n"
     ]
    },
    {
     "name": "stderr",
     "output_type": "stream",
     "text": [
      "PLMS Sampler: 100%|██████████| 250/250 [00:12<00:00, 20.20it/s]\n"
     ]
    },
    {
     "name": "stdout",
     "output_type": "stream",
     "text": [
      "rendering 5 examples in 250 steps.\n",
      "Data shape for PLMS sampling is (5, 3, 64, 64)\n",
      "Running PLMS Sampling with 250 timesteps\n"
     ]
    },
    {
     "name": "stderr",
     "output_type": "stream",
     "text": [
      "PLMS Sampler: 100%|██████████| 250/250 [00:12<00:00, 20.18it/s]\n"
     ]
    },
    {
     "name": "stdout",
     "output_type": "stream",
     "text": [
      "rendering 5 examples in 250 steps.\n",
      "Data shape for PLMS sampling is (5, 3, 64, 64)\n",
      "Running PLMS Sampling with 250 timesteps\n"
     ]
    },
    {
     "name": "stderr",
     "output_type": "stream",
     "text": [
      "PLMS Sampler: 100%|██████████| 250/250 [00:12<00:00, 20.20it/s]\n"
     ]
    },
    {
     "name": "stdout",
     "output_type": "stream",
     "text": [
      "rendering 5 examples in 250 steps.\n",
      "Data shape for PLMS sampling is (5, 3, 64, 64)\n",
      "Running PLMS Sampling with 250 timesteps\n"
     ]
    },
    {
     "name": "stderr",
     "output_type": "stream",
     "text": [
      "PLMS Sampler: 100%|██████████| 250/250 [00:12<00:00, 20.20it/s]\n"
     ]
    },
    {
     "name": "stdout",
     "output_type": "stream",
     "text": [
      "rendering 5 examples in 250 steps.\n",
      "Data shape for PLMS sampling is (5, 3, 64, 64)\n",
      "Running PLMS Sampling with 250 timesteps\n"
     ]
    },
    {
     "name": "stderr",
     "output_type": "stream",
     "text": [
      "PLMS Sampler: 100%|██████████| 250/250 [00:12<00:00, 20.19it/s]\n"
     ]
    },
    {
     "name": "stdout",
     "output_type": "stream",
     "text": [
      "rendering 5 examples in 250 steps.\n",
      "Data shape for PLMS sampling is (5, 3, 64, 64)\n",
      "Running PLMS Sampling with 250 timesteps\n"
     ]
    },
    {
     "name": "stderr",
     "output_type": "stream",
     "text": [
      "PLMS Sampler: 100%|██████████| 250/250 [00:12<00:00, 20.21it/s]\n"
     ]
    },
    {
     "name": "stdout",
     "output_type": "stream",
     "text": [
      "rendering 5 examples in 250 steps.\n",
      "Data shape for PLMS sampling is (5, 3, 64, 64)\n",
      "Running PLMS Sampling with 250 timesteps\n"
     ]
    },
    {
     "name": "stderr",
     "output_type": "stream",
     "text": [
      "PLMS Sampler: 100%|██████████| 250/250 [00:12<00:00, 20.19it/s]\n"
     ]
    },
    {
     "name": "stdout",
     "output_type": "stream",
     "text": [
      "rendering 5 examples in 250 steps.\n",
      "Data shape for PLMS sampling is (5, 3, 64, 64)\n",
      "Running PLMS Sampling with 250 timesteps\n"
     ]
    },
    {
     "name": "stderr",
     "output_type": "stream",
     "text": [
      "PLMS Sampler: 100%|██████████| 250/250 [00:12<00:00, 20.20it/s]\n"
     ]
    },
    {
     "name": "stdout",
     "output_type": "stream",
     "text": [
      "rendering 5 examples in 250 steps.\n",
      "Data shape for PLMS sampling is (5, 3, 64, 64)\n",
      "Running PLMS Sampling with 250 timesteps\n"
     ]
    },
    {
     "name": "stderr",
     "output_type": "stream",
     "text": [
      "PLMS Sampler: 100%|██████████| 250/250 [00:12<00:00, 20.17it/s]\n"
     ]
    },
    {
     "name": "stdout",
     "output_type": "stream",
     "text": [
      "rendering 5 examples in 250 steps.\n",
      "Data shape for PLMS sampling is (5, 3, 64, 64)\n",
      "Running PLMS Sampling with 250 timesteps\n"
     ]
    },
    {
     "name": "stderr",
     "output_type": "stream",
     "text": [
      "PLMS Sampler: 100%|██████████| 250/250 [00:12<00:00, 20.20it/s]\n"
     ]
    },
    {
     "name": "stdout",
     "output_type": "stream",
     "text": [
      "rendering 5 examples in 250 steps.\n",
      "Data shape for PLMS sampling is (5, 3, 64, 64)\n",
      "Running PLMS Sampling with 250 timesteps\n"
     ]
    },
    {
     "name": "stderr",
     "output_type": "stream",
     "text": [
      "PLMS Sampler: 100%|██████████| 250/250 [00:12<00:00, 20.19it/s]\n"
     ]
    },
    {
     "name": "stdout",
     "output_type": "stream",
     "text": [
      "rendering 5 examples in 250 steps.\n",
      "Data shape for PLMS sampling is (5, 3, 64, 64)\n",
      "Running PLMS Sampling with 250 timesteps\n"
     ]
    },
    {
     "name": "stderr",
     "output_type": "stream",
     "text": [
      "PLMS Sampler: 100%|██████████| 250/250 [00:12<00:00, 20.19it/s]\n"
     ]
    },
    {
     "name": "stdout",
     "output_type": "stream",
     "text": [
      "rendering 5 examples in 250 steps.\n",
      "Data shape for PLMS sampling is (5, 3, 64, 64)\n",
      "Running PLMS Sampling with 250 timesteps\n"
     ]
    },
    {
     "name": "stderr",
     "output_type": "stream",
     "text": [
      "PLMS Sampler: 100%|██████████| 250/250 [00:12<00:00, 20.20it/s]\n"
     ]
    },
    {
     "name": "stdout",
     "output_type": "stream",
     "text": [
      "rendering 5 examples in 250 steps.\n",
      "Data shape for PLMS sampling is (5, 3, 64, 64)\n",
      "Running PLMS Sampling with 250 timesteps\n"
     ]
    },
    {
     "name": "stderr",
     "output_type": "stream",
     "text": [
      "PLMS Sampler: 100%|██████████| 250/250 [00:12<00:00, 20.20it/s]\n"
     ]
    },
    {
     "name": "stdout",
     "output_type": "stream",
     "text": [
      "rendering 5 examples in 250 steps.\n",
      "Data shape for PLMS sampling is (5, 3, 64, 64)\n",
      "Running PLMS Sampling with 250 timesteps\n"
     ]
    },
    {
     "name": "stderr",
     "output_type": "stream",
     "text": [
      "PLMS Sampler: 100%|██████████| 250/250 [00:12<00:00, 20.20it/s]\n"
     ]
    },
    {
     "name": "stdout",
     "output_type": "stream",
     "text": [
      "rendering 5 examples in 250 steps.\n",
      "Data shape for PLMS sampling is (5, 3, 64, 64)\n",
      "Running PLMS Sampling with 250 timesteps\n"
     ]
    },
    {
     "name": "stderr",
     "output_type": "stream",
     "text": [
      "PLMS Sampler: 100%|██████████| 250/250 [00:12<00:00, 20.20it/s]\n"
     ]
    },
    {
     "name": "stdout",
     "output_type": "stream",
     "text": [
      "rendering 5 examples in 250 steps.\n",
      "Data shape for PLMS sampling is (5, 3, 64, 64)\n",
      "Running PLMS Sampling with 250 timesteps\n"
     ]
    },
    {
     "name": "stderr",
     "output_type": "stream",
     "text": [
      "PLMS Sampler: 100%|██████████| 250/250 [00:12<00:00, 20.19it/s]\n"
     ]
    },
    {
     "name": "stdout",
     "output_type": "stream",
     "text": [
      "rendering 5 examples in 250 steps.\n",
      "Data shape for PLMS sampling is (5, 3, 64, 64)\n",
      "Running PLMS Sampling with 250 timesteps\n"
     ]
    },
    {
     "name": "stderr",
     "output_type": "stream",
     "text": [
      "PLMS Sampler: 100%|██████████| 250/250 [00:12<00:00, 20.20it/s]\n"
     ]
    },
    {
     "name": "stdout",
     "output_type": "stream",
     "text": [
      "rendering 5 examples in 250 steps.\n",
      "Data shape for PLMS sampling is (5, 3, 64, 64)\n",
      "Running PLMS Sampling with 250 timesteps\n"
     ]
    },
    {
     "name": "stderr",
     "output_type": "stream",
     "text": [
      "PLMS Sampler: 100%|██████████| 250/250 [00:12<00:00, 20.18it/s]\n"
     ]
    },
    {
     "name": "stdout",
     "output_type": "stream",
     "text": [
      "rendering 5 examples in 250 steps.\n",
      "Data shape for PLMS sampling is (5, 3, 64, 64)\n",
      "Running PLMS Sampling with 250 timesteps\n"
     ]
    },
    {
     "name": "stderr",
     "output_type": "stream",
     "text": [
      "PLMS Sampler: 100%|██████████| 250/250 [00:12<00:00, 20.20it/s]\n"
     ]
    },
    {
     "name": "stdout",
     "output_type": "stream",
     "text": [
      "rendering 5 examples in 250 steps.\n",
      "Data shape for PLMS sampling is (5, 3, 64, 64)\n",
      "Running PLMS Sampling with 250 timesteps\n"
     ]
    },
    {
     "name": "stderr",
     "output_type": "stream",
     "text": [
      "PLMS Sampler: 100%|██████████| 250/250 [00:12<00:00, 20.17it/s]\n"
     ]
    },
    {
     "name": "stdout",
     "output_type": "stream",
     "text": [
      "rendering 5 examples in 250 steps.\n",
      "Data shape for PLMS sampling is (5, 3, 64, 64)\n",
      "Running PLMS Sampling with 250 timesteps\n"
     ]
    },
    {
     "name": "stderr",
     "output_type": "stream",
     "text": [
      "PLMS Sampler: 100%|██████████| 250/250 [00:12<00:00, 20.21it/s]\n"
     ]
    },
    {
     "name": "stdout",
     "output_type": "stream",
     "text": [
      "rendering 5 examples in 250 steps.\n",
      "Data shape for PLMS sampling is (5, 3, 64, 64)\n",
      "Running PLMS Sampling with 250 timesteps\n"
     ]
    },
    {
     "name": "stderr",
     "output_type": "stream",
     "text": [
      "PLMS Sampler: 100%|██████████| 250/250 [00:12<00:00, 20.19it/s]\n"
     ]
    },
    {
     "name": "stdout",
     "output_type": "stream",
     "text": [
      "rendering 5 examples in 250 steps.\n",
      "Data shape for PLMS sampling is (5, 3, 64, 64)\n",
      "Running PLMS Sampling with 250 timesteps\n"
     ]
    },
    {
     "name": "stderr",
     "output_type": "stream",
     "text": [
      "PLMS Sampler: 100%|██████████| 250/250 [00:12<00:00, 20.19it/s]\n"
     ]
    },
    {
     "name": "stdout",
     "output_type": "stream",
     "text": [
      "rendering 5 examples in 250 steps.\n",
      "Data shape for PLMS sampling is (5, 3, 64, 64)\n",
      "Running PLMS Sampling with 250 timesteps\n"
     ]
    },
    {
     "name": "stderr",
     "output_type": "stream",
     "text": [
      "PLMS Sampler: 100%|██████████| 250/250 [00:12<00:00, 20.20it/s]\n"
     ]
    },
    {
     "name": "stdout",
     "output_type": "stream",
     "text": [
      "rendering 5 examples in 250 steps.\n",
      "Data shape for PLMS sampling is (5, 3, 64, 64)\n",
      "Running PLMS Sampling with 250 timesteps\n"
     ]
    },
    {
     "name": "stderr",
     "output_type": "stream",
     "text": [
      "PLMS Sampler: 100%|██████████| 250/250 [00:12<00:00, 20.20it/s]\n"
     ]
    },
    {
     "name": "stdout",
     "output_type": "stream",
     "text": [
      "rendering 5 examples in 250 steps.\n",
      "Data shape for PLMS sampling is (5, 3, 64, 64)\n",
      "Running PLMS Sampling with 250 timesteps\n"
     ]
    },
    {
     "name": "stderr",
     "output_type": "stream",
     "text": [
      "PLMS Sampler: 100%|██████████| 250/250 [00:12<00:00, 20.19it/s]\n"
     ]
    },
    {
     "name": "stdout",
     "output_type": "stream",
     "text": [
      "rendering 5 examples in 250 steps.\n",
      "Data shape for PLMS sampling is (5, 3, 64, 64)\n",
      "Running PLMS Sampling with 250 timesteps\n"
     ]
    },
    {
     "name": "stderr",
     "output_type": "stream",
     "text": [
      "PLMS Sampler: 100%|██████████| 250/250 [00:12<00:00, 20.21it/s]\n"
     ]
    },
    {
     "name": "stdout",
     "output_type": "stream",
     "text": [
      "rendering 5 examples in 250 steps.\n",
      "Data shape for PLMS sampling is (5, 3, 64, 64)\n",
      "Running PLMS Sampling with 250 timesteps\n"
     ]
    },
    {
     "name": "stderr",
     "output_type": "stream",
     "text": [
      "PLMS Sampler: 100%|██████████| 250/250 [00:12<00:00, 20.20it/s]\n"
     ]
    },
    {
     "name": "stdout",
     "output_type": "stream",
     "text": [
      "rendering 5 examples in 250 steps.\n",
      "Data shape for PLMS sampling is (5, 3, 64, 64)\n",
      "Running PLMS Sampling with 250 timesteps\n"
     ]
    },
    {
     "name": "stderr",
     "output_type": "stream",
     "text": [
      "PLMS Sampler: 100%|██████████| 250/250 [00:12<00:00, 20.20it/s]\n"
     ]
    },
    {
     "name": "stdout",
     "output_type": "stream",
     "text": [
      "rendering 5 examples in 250 steps.\n",
      "Data shape for PLMS sampling is (5, 3, 64, 64)\n",
      "Running PLMS Sampling with 250 timesteps\n"
     ]
    },
    {
     "name": "stderr",
     "output_type": "stream",
     "text": [
      "PLMS Sampler: 100%|██████████| 250/250 [00:12<00:00, 20.19it/s]\n"
     ]
    },
    {
     "name": "stdout",
     "output_type": "stream",
     "text": [
      "rendering 5 examples in 250 steps.\n",
      "Data shape for PLMS sampling is (5, 3, 64, 64)\n",
      "Running PLMS Sampling with 250 timesteps\n"
     ]
    },
    {
     "name": "stderr",
     "output_type": "stream",
     "text": [
      "PLMS Sampler: 100%|██████████| 250/250 [00:12<00:00, 20.19it/s]\n"
     ]
    },
    {
     "name": "stdout",
     "output_type": "stream",
     "text": [
      "rendering 5 examples in 250 steps.\n",
      "Data shape for PLMS sampling is (5, 3, 64, 64)\n",
      "Running PLMS Sampling with 250 timesteps\n"
     ]
    },
    {
     "name": "stderr",
     "output_type": "stream",
     "text": [
      "PLMS Sampler: 100%|██████████| 250/250 [00:12<00:00, 20.19it/s]\n"
     ]
    },
    {
     "name": "stdout",
     "output_type": "stream",
     "text": [
      "rendering 5 examples in 250 steps.\n",
      "Data shape for PLMS sampling is (5, 3, 64, 64)\n",
      "Running PLMS Sampling with 250 timesteps\n"
     ]
    },
    {
     "name": "stderr",
     "output_type": "stream",
     "text": [
      "PLMS Sampler: 100%|██████████| 250/250 [00:12<00:00, 20.20it/s]\n"
     ]
    },
    {
     "name": "stdout",
     "output_type": "stream",
     "text": [
      "rendering 5 examples in 250 steps.\n",
      "Data shape for PLMS sampling is (5, 3, 64, 64)\n",
      "Running PLMS Sampling with 250 timesteps\n"
     ]
    },
    {
     "name": "stderr",
     "output_type": "stream",
     "text": [
      "PLMS Sampler: 100%|██████████| 250/250 [00:12<00:00, 20.19it/s]\n"
     ]
    },
    {
     "name": "stdout",
     "output_type": "stream",
     "text": [
      "rendering 5 examples in 250 steps.\n",
      "Data shape for PLMS sampling is (5, 3, 64, 64)\n",
      "Running PLMS Sampling with 250 timesteps\n"
     ]
    },
    {
     "name": "stderr",
     "output_type": "stream",
     "text": [
      "PLMS Sampler: 100%|██████████| 250/250 [00:12<00:00, 20.20it/s]\n"
     ]
    },
    {
     "name": "stdout",
     "output_type": "stream",
     "text": [
      "rendering 5 examples in 250 steps.\n",
      "Data shape for PLMS sampling is (5, 3, 64, 64)\n",
      "Running PLMS Sampling with 250 timesteps\n"
     ]
    },
    {
     "name": "stderr",
     "output_type": "stream",
     "text": [
      "PLMS Sampler: 100%|██████████| 250/250 [00:12<00:00, 20.19it/s]\n"
     ]
    },
    {
     "name": "stdout",
     "output_type": "stream",
     "text": [
      "rendering 5 examples in 250 steps.\n",
      "Data shape for PLMS sampling is (5, 3, 64, 64)\n",
      "Running PLMS Sampling with 250 timesteps\n"
     ]
    },
    {
     "name": "stderr",
     "output_type": "stream",
     "text": [
      "PLMS Sampler: 100%|██████████| 250/250 [00:12<00:00, 20.19it/s]\n"
     ]
    },
    {
     "name": "stdout",
     "output_type": "stream",
     "text": [
      "rendering 5 examples in 250 steps.\n",
      "Data shape for PLMS sampling is (5, 3, 64, 64)\n",
      "Running PLMS Sampling with 250 timesteps\n"
     ]
    },
    {
     "name": "stderr",
     "output_type": "stream",
     "text": [
      "PLMS Sampler: 100%|██████████| 250/250 [00:12<00:00, 20.19it/s]\n"
     ]
    },
    {
     "name": "stdout",
     "output_type": "stream",
     "text": [
      "rendering 5 examples in 250 steps.\n",
      "Data shape for PLMS sampling is (5, 3, 64, 64)\n",
      "Running PLMS Sampling with 250 timesteps\n"
     ]
    },
    {
     "name": "stderr",
     "output_type": "stream",
     "text": [
      "PLMS Sampler: 100%|██████████| 250/250 [00:12<00:00, 20.19it/s]\n"
     ]
    },
    {
     "name": "stdout",
     "output_type": "stream",
     "text": [
      "rendering 5 examples in 250 steps.\n",
      "Data shape for PLMS sampling is (5, 3, 64, 64)\n",
      "Running PLMS Sampling with 250 timesteps\n"
     ]
    },
    {
     "name": "stderr",
     "output_type": "stream",
     "text": [
      "PLMS Sampler: 100%|██████████| 250/250 [00:12<00:00, 20.19it/s]\n"
     ]
    },
    {
     "name": "stdout",
     "output_type": "stream",
     "text": [
      "rendering 5 examples in 250 steps.\n",
      "Data shape for PLMS sampling is (5, 3, 64, 64)\n",
      "Running PLMS Sampling with 250 timesteps\n"
     ]
    },
    {
     "name": "stderr",
     "output_type": "stream",
     "text": [
      "PLMS Sampler: 100%|██████████| 250/250 [00:12<00:00, 20.19it/s]\n"
     ]
    },
    {
     "name": "stdout",
     "output_type": "stream",
     "text": [
      "rendering 5 examples in 250 steps.\n",
      "Data shape for PLMS sampling is (5, 3, 64, 64)\n",
      "Running PLMS Sampling with 250 timesteps\n"
     ]
    },
    {
     "name": "stderr",
     "output_type": "stream",
     "text": [
      "PLMS Sampler: 100%|██████████| 250/250 [00:12<00:00, 20.19it/s]\n"
     ]
    },
    {
     "name": "stdout",
     "output_type": "stream",
     "text": [
      "rendering 5 examples in 250 steps.\n",
      "Data shape for PLMS sampling is (5, 3, 64, 64)\n",
      "Running PLMS Sampling with 250 timesteps\n"
     ]
    },
    {
     "name": "stderr",
     "output_type": "stream",
     "text": [
      "PLMS Sampler: 100%|██████████| 250/250 [00:12<00:00, 20.18it/s]\n"
     ]
    },
    {
     "name": "stdout",
     "output_type": "stream",
     "text": [
      "rendering 5 examples in 250 steps.\n",
      "Data shape for PLMS sampling is (5, 3, 64, 64)\n",
      "Running PLMS Sampling with 250 timesteps\n"
     ]
    },
    {
     "name": "stderr",
     "output_type": "stream",
     "text": [
      "PLMS Sampler: 100%|██████████| 250/250 [00:12<00:00, 20.19it/s]\n"
     ]
    },
    {
     "name": "stdout",
     "output_type": "stream",
     "text": [
      "rendering 5 examples in 250 steps.\n",
      "Data shape for PLMS sampling is (5, 3, 64, 64)\n",
      "Running PLMS Sampling with 250 timesteps\n"
     ]
    },
    {
     "name": "stderr",
     "output_type": "stream",
     "text": [
      "PLMS Sampler: 100%|██████████| 250/250 [00:12<00:00, 20.21it/s]\n"
     ]
    },
    {
     "name": "stdout",
     "output_type": "stream",
     "text": [
      "rendering 5 examples in 250 steps.\n",
      "Data shape for PLMS sampling is (5, 3, 64, 64)\n",
      "Running PLMS Sampling with 250 timesteps\n"
     ]
    },
    {
     "name": "stderr",
     "output_type": "stream",
     "text": [
      "PLMS Sampler: 100%|██████████| 250/250 [00:12<00:00, 20.20it/s]\n"
     ]
    },
    {
     "name": "stdout",
     "output_type": "stream",
     "text": [
      "rendering 5 examples in 250 steps.\n",
      "Data shape for PLMS sampling is (5, 3, 64, 64)\n",
      "Running PLMS Sampling with 250 timesteps\n"
     ]
    },
    {
     "name": "stderr",
     "output_type": "stream",
     "text": [
      "PLMS Sampler: 100%|██████████| 250/250 [00:12<00:00, 20.20it/s]\n"
     ]
    },
    {
     "name": "stdout",
     "output_type": "stream",
     "text": [
      "rendering 5 examples in 250 steps.\n",
      "Data shape for PLMS sampling is (5, 3, 64, 64)\n",
      "Running PLMS Sampling with 250 timesteps\n"
     ]
    },
    {
     "name": "stderr",
     "output_type": "stream",
     "text": [
      "PLMS Sampler: 100%|██████████| 250/250 [00:12<00:00, 20.17it/s]\n"
     ]
    },
    {
     "name": "stdout",
     "output_type": "stream",
     "text": [
      "rendering 5 examples in 250 steps.\n",
      "Data shape for PLMS sampling is (5, 3, 64, 64)\n",
      "Running PLMS Sampling with 250 timesteps\n"
     ]
    },
    {
     "name": "stderr",
     "output_type": "stream",
     "text": [
      "PLMS Sampler: 100%|██████████| 250/250 [00:12<00:00, 20.20it/s]\n"
     ]
    },
    {
     "name": "stdout",
     "output_type": "stream",
     "text": [
      "rendering 5 examples in 250 steps.\n",
      "Data shape for PLMS sampling is (5, 3, 64, 64)\n",
      "Running PLMS Sampling with 250 timesteps\n"
     ]
    },
    {
     "name": "stderr",
     "output_type": "stream",
     "text": [
      "PLMS Sampler: 100%|██████████| 250/250 [00:12<00:00, 20.17it/s]\n"
     ]
    },
    {
     "name": "stdout",
     "output_type": "stream",
     "text": [
      "rendering 5 examples in 250 steps.\n",
      "Data shape for PLMS sampling is (5, 3, 64, 64)\n",
      "Running PLMS Sampling with 250 timesteps\n"
     ]
    },
    {
     "name": "stderr",
     "output_type": "stream",
     "text": [
      "PLMS Sampler: 100%|██████████| 250/250 [00:12<00:00, 20.20it/s]\n"
     ]
    },
    {
     "name": "stdout",
     "output_type": "stream",
     "text": [
      "rendering 5 examples in 250 steps.\n",
      "Data shape for PLMS sampling is (5, 3, 64, 64)\n",
      "Running PLMS Sampling with 250 timesteps\n"
     ]
    },
    {
     "name": "stderr",
     "output_type": "stream",
     "text": [
      "PLMS Sampler: 100%|██████████| 250/250 [00:12<00:00, 20.19it/s]\n"
     ]
    },
    {
     "name": "stdout",
     "output_type": "stream",
     "text": [
      "rendering 5 examples in 250 steps.\n",
      "Data shape for PLMS sampling is (5, 3, 64, 64)\n",
      "Running PLMS Sampling with 250 timesteps\n"
     ]
    },
    {
     "name": "stderr",
     "output_type": "stream",
     "text": [
      "PLMS Sampler: 100%|██████████| 250/250 [00:12<00:00, 20.20it/s]\n"
     ]
    },
    {
     "name": "stdout",
     "output_type": "stream",
     "text": [
      "rendering 5 examples in 250 steps.\n",
      "Data shape for PLMS sampling is (5, 3, 64, 64)\n",
      "Running PLMS Sampling with 250 timesteps\n"
     ]
    },
    {
     "name": "stderr",
     "output_type": "stream",
     "text": [
      "PLMS Sampler: 100%|██████████| 250/250 [00:12<00:00, 20.20it/s]\n"
     ]
    },
    {
     "name": "stdout",
     "output_type": "stream",
     "text": [
      "rendering 5 examples in 250 steps.\n",
      "Data shape for PLMS sampling is (5, 3, 64, 64)\n",
      "Running PLMS Sampling with 250 timesteps\n"
     ]
    },
    {
     "name": "stderr",
     "output_type": "stream",
     "text": [
      "PLMS Sampler: 100%|██████████| 250/250 [00:12<00:00, 20.20it/s]\n"
     ]
    },
    {
     "name": "stdout",
     "output_type": "stream",
     "text": [
      "rendering 5 examples in 250 steps.\n",
      "Data shape for PLMS sampling is (5, 3, 64, 64)\n",
      "Running PLMS Sampling with 250 timesteps\n"
     ]
    },
    {
     "name": "stderr",
     "output_type": "stream",
     "text": [
      "PLMS Sampler: 100%|██████████| 250/250 [00:12<00:00, 20.20it/s]\n"
     ]
    },
    {
     "name": "stdout",
     "output_type": "stream",
     "text": [
      "rendering 5 examples in 250 steps.\n",
      "Data shape for PLMS sampling is (5, 3, 64, 64)\n",
      "Running PLMS Sampling with 250 timesteps\n"
     ]
    },
    {
     "name": "stderr",
     "output_type": "stream",
     "text": [
      "PLMS Sampler: 100%|██████████| 250/250 [00:12<00:00, 20.18it/s]\n"
     ]
    },
    {
     "name": "stdout",
     "output_type": "stream",
     "text": [
      "rendering 5 examples in 250 steps.\n",
      "Data shape for PLMS sampling is (5, 3, 64, 64)\n",
      "Running PLMS Sampling with 250 timesteps\n"
     ]
    },
    {
     "name": "stderr",
     "output_type": "stream",
     "text": [
      "PLMS Sampler: 100%|██████████| 250/250 [00:12<00:00, 20.18it/s]\n"
     ]
    },
    {
     "name": "stdout",
     "output_type": "stream",
     "text": [
      "rendering 5 examples in 250 steps.\n",
      "Data shape for PLMS sampling is (5, 3, 64, 64)\n",
      "Running PLMS Sampling with 250 timesteps\n"
     ]
    },
    {
     "name": "stderr",
     "output_type": "stream",
     "text": [
      "PLMS Sampler: 100%|██████████| 250/250 [00:12<00:00, 20.19it/s]\n"
     ]
    },
    {
     "name": "stdout",
     "output_type": "stream",
     "text": [
      "rendering 5 examples in 250 steps.\n",
      "Data shape for PLMS sampling is (5, 3, 64, 64)\n",
      "Running PLMS Sampling with 250 timesteps\n"
     ]
    },
    {
     "name": "stderr",
     "output_type": "stream",
     "text": [
      "PLMS Sampler: 100%|██████████| 250/250 [00:12<00:00, 20.18it/s]\n"
     ]
    },
    {
     "name": "stdout",
     "output_type": "stream",
     "text": [
      "rendering 5 examples in 250 steps.\n",
      "Data shape for PLMS sampling is (5, 3, 64, 64)\n",
      "Running PLMS Sampling with 250 timesteps\n"
     ]
    },
    {
     "name": "stderr",
     "output_type": "stream",
     "text": [
      "PLMS Sampler: 100%|██████████| 250/250 [00:12<00:00, 20.19it/s]\n"
     ]
    },
    {
     "name": "stdout",
     "output_type": "stream",
     "text": [
      "rendering 5 examples in 250 steps.\n",
      "Data shape for PLMS sampling is (5, 3, 64, 64)\n",
      "Running PLMS Sampling with 250 timesteps\n"
     ]
    },
    {
     "name": "stderr",
     "output_type": "stream",
     "text": [
      "PLMS Sampler: 100%|██████████| 250/250 [00:12<00:00, 20.19it/s]\n"
     ]
    },
    {
     "name": "stdout",
     "output_type": "stream",
     "text": [
      "rendering 5 examples in 250 steps.\n",
      "Data shape for PLMS sampling is (5, 3, 64, 64)\n",
      "Running PLMS Sampling with 250 timesteps\n"
     ]
    },
    {
     "name": "stderr",
     "output_type": "stream",
     "text": [
      "PLMS Sampler: 100%|██████████| 250/250 [00:12<00:00, 20.19it/s]\n"
     ]
    },
    {
     "name": "stdout",
     "output_type": "stream",
     "text": [
      "rendering 5 examples in 250 steps.\n",
      "Data shape for PLMS sampling is (5, 3, 64, 64)\n",
      "Running PLMS Sampling with 250 timesteps\n"
     ]
    },
    {
     "name": "stderr",
     "output_type": "stream",
     "text": [
      "PLMS Sampler: 100%|██████████| 250/250 [00:12<00:00, 20.17it/s]\n"
     ]
    },
    {
     "name": "stdout",
     "output_type": "stream",
     "text": [
      "rendering 5 examples in 250 steps.\n",
      "Data shape for PLMS sampling is (5, 3, 64, 64)\n",
      "Running PLMS Sampling with 250 timesteps\n"
     ]
    },
    {
     "name": "stderr",
     "output_type": "stream",
     "text": [
      "PLMS Sampler: 100%|██████████| 250/250 [00:12<00:00, 20.19it/s]\n"
     ]
    },
    {
     "name": "stdout",
     "output_type": "stream",
     "text": [
      "rendering 5 examples in 250 steps.\n",
      "Data shape for PLMS sampling is (5, 3, 64, 64)\n",
      "Running PLMS Sampling with 250 timesteps\n"
     ]
    },
    {
     "name": "stderr",
     "output_type": "stream",
     "text": [
      "PLMS Sampler: 100%|██████████| 250/250 [00:12<00:00, 20.19it/s]\n"
     ]
    },
    {
     "name": "stdout",
     "output_type": "stream",
     "text": [
      "rendering 5 examples in 250 steps.\n",
      "Data shape for PLMS sampling is (5, 3, 64, 64)\n",
      "Running PLMS Sampling with 250 timesteps\n"
     ]
    },
    {
     "name": "stderr",
     "output_type": "stream",
     "text": [
      "PLMS Sampler: 100%|██████████| 250/250 [00:12<00:00, 20.19it/s]\n"
     ]
    },
    {
     "name": "stdout",
     "output_type": "stream",
     "text": [
      "rendering 5 examples in 250 steps.\n",
      "Data shape for PLMS sampling is (5, 3, 64, 64)\n",
      "Running PLMS Sampling with 250 timesteps\n"
     ]
    },
    {
     "name": "stderr",
     "output_type": "stream",
     "text": [
      "PLMS Sampler: 100%|██████████| 250/250 [00:12<00:00, 20.23it/s]\n"
     ]
    },
    {
     "name": "stdout",
     "output_type": "stream",
     "text": [
      "rendering 5 examples in 250 steps.\n",
      "Data shape for PLMS sampling is (5, 3, 64, 64)\n",
      "Running PLMS Sampling with 250 timesteps\n"
     ]
    },
    {
     "name": "stderr",
     "output_type": "stream",
     "text": [
      "PLMS Sampler: 100%|██████████| 250/250 [00:12<00:00, 20.23it/s]\n"
     ]
    },
    {
     "name": "stdout",
     "output_type": "stream",
     "text": [
      "rendering 5 examples in 250 steps.\n",
      "Data shape for PLMS sampling is (5, 3, 64, 64)\n",
      "Running PLMS Sampling with 250 timesteps\n"
     ]
    },
    {
     "name": "stderr",
     "output_type": "stream",
     "text": [
      "PLMS Sampler: 100%|██████████| 250/250 [00:12<00:00, 20.24it/s]\n"
     ]
    },
    {
     "name": "stdout",
     "output_type": "stream",
     "text": [
      "rendering 5 examples in 250 steps.\n",
      "Data shape for PLMS sampling is (5, 3, 64, 64)\n",
      "Running PLMS Sampling with 250 timesteps\n"
     ]
    },
    {
     "name": "stderr",
     "output_type": "stream",
     "text": [
      "PLMS Sampler: 100%|██████████| 250/250 [00:12<00:00, 20.24it/s]\n"
     ]
    },
    {
     "name": "stdout",
     "output_type": "stream",
     "text": [
      "rendering 5 examples in 250 steps.\n",
      "Data shape for PLMS sampling is (5, 3, 64, 64)\n",
      "Running PLMS Sampling with 250 timesteps\n"
     ]
    },
    {
     "name": "stderr",
     "output_type": "stream",
     "text": [
      "PLMS Sampler: 100%|██████████| 250/250 [00:12<00:00, 20.23it/s]\n"
     ]
    },
    {
     "name": "stdout",
     "output_type": "stream",
     "text": [
      "rendering 5 examples in 250 steps.\n",
      "Data shape for PLMS sampling is (5, 3, 64, 64)\n",
      "Running PLMS Sampling with 250 timesteps\n"
     ]
    },
    {
     "name": "stderr",
     "output_type": "stream",
     "text": [
      "PLMS Sampler: 100%|██████████| 250/250 [00:12<00:00, 20.23it/s]\n"
     ]
    },
    {
     "name": "stdout",
     "output_type": "stream",
     "text": [
      "rendering 5 examples in 250 steps.\n",
      "Data shape for PLMS sampling is (5, 3, 64, 64)\n",
      "Running PLMS Sampling with 250 timesteps\n"
     ]
    },
    {
     "name": "stderr",
     "output_type": "stream",
     "text": [
      "PLMS Sampler: 100%|██████████| 250/250 [00:12<00:00, 20.24it/s]\n"
     ]
    },
    {
     "name": "stdout",
     "output_type": "stream",
     "text": [
      "rendering 5 examples in 250 steps.\n",
      "Data shape for PLMS sampling is (5, 3, 64, 64)\n",
      "Running PLMS Sampling with 250 timesteps\n"
     ]
    },
    {
     "name": "stderr",
     "output_type": "stream",
     "text": [
      "PLMS Sampler: 100%|██████████| 250/250 [00:12<00:00, 20.23it/s]\n"
     ]
    },
    {
     "name": "stdout",
     "output_type": "stream",
     "text": [
      "rendering 5 examples in 250 steps.\n",
      "Data shape for PLMS sampling is (5, 3, 64, 64)\n",
      "Running PLMS Sampling with 250 timesteps\n"
     ]
    },
    {
     "name": "stderr",
     "output_type": "stream",
     "text": [
      "PLMS Sampler: 100%|██████████| 250/250 [00:12<00:00, 20.23it/s]\n"
     ]
    },
    {
     "name": "stdout",
     "output_type": "stream",
     "text": [
      "rendering 5 examples in 250 steps.\n",
      "Data shape for PLMS sampling is (5, 3, 64, 64)\n",
      "Running PLMS Sampling with 250 timesteps\n"
     ]
    },
    {
     "name": "stderr",
     "output_type": "stream",
     "text": [
      "PLMS Sampler: 100%|██████████| 250/250 [00:12<00:00, 20.23it/s]\n"
     ]
    },
    {
     "name": "stdout",
     "output_type": "stream",
     "text": [
      "rendering 5 examples in 250 steps.\n",
      "Data shape for PLMS sampling is (5, 3, 64, 64)\n",
      "Running PLMS Sampling with 250 timesteps\n"
     ]
    },
    {
     "name": "stderr",
     "output_type": "stream",
     "text": [
      "PLMS Sampler: 100%|██████████| 250/250 [00:12<00:00, 20.23it/s]\n"
     ]
    },
    {
     "name": "stdout",
     "output_type": "stream",
     "text": [
      "rendering 5 examples in 250 steps.\n",
      "Data shape for PLMS sampling is (5, 3, 64, 64)\n",
      "Running PLMS Sampling with 250 timesteps\n"
     ]
    },
    {
     "name": "stderr",
     "output_type": "stream",
     "text": [
      "PLMS Sampler: 100%|██████████| 250/250 [00:12<00:00, 20.23it/s]\n"
     ]
    },
    {
     "name": "stdout",
     "output_type": "stream",
     "text": [
      "rendering 5 examples in 250 steps.\n",
      "Data shape for PLMS sampling is (5, 3, 64, 64)\n",
      "Running PLMS Sampling with 250 timesteps\n"
     ]
    },
    {
     "name": "stderr",
     "output_type": "stream",
     "text": [
      "PLMS Sampler: 100%|██████████| 250/250 [00:12<00:00, 20.23it/s]\n"
     ]
    },
    {
     "name": "stdout",
     "output_type": "stream",
     "text": [
      "rendering 5 examples in 250 steps.\n",
      "Data shape for PLMS sampling is (5, 3, 64, 64)\n",
      "Running PLMS Sampling with 250 timesteps\n"
     ]
    },
    {
     "name": "stderr",
     "output_type": "stream",
     "text": [
      "PLMS Sampler: 100%|██████████| 250/250 [00:12<00:00, 20.23it/s]\n"
     ]
    },
    {
     "name": "stdout",
     "output_type": "stream",
     "text": [
      "rendering 5 examples in 250 steps.\n",
      "Data shape for PLMS sampling is (5, 3, 64, 64)\n",
      "Running PLMS Sampling with 250 timesteps\n"
     ]
    },
    {
     "name": "stderr",
     "output_type": "stream",
     "text": [
      "PLMS Sampler: 100%|██████████| 250/250 [00:12<00:00, 20.23it/s]\n"
     ]
    },
    {
     "name": "stdout",
     "output_type": "stream",
     "text": [
      "rendering 5 examples in 250 steps.\n",
      "Data shape for PLMS sampling is (5, 3, 64, 64)\n",
      "Running PLMS Sampling with 250 timesteps\n"
     ]
    },
    {
     "name": "stderr",
     "output_type": "stream",
     "text": [
      "PLMS Sampler: 100%|██████████| 250/250 [00:12<00:00, 20.24it/s]\n"
     ]
    },
    {
     "name": "stdout",
     "output_type": "stream",
     "text": [
      "rendering 5 examples in 250 steps.\n",
      "Data shape for PLMS sampling is (5, 3, 64, 64)\n",
      "Running PLMS Sampling with 250 timesteps\n"
     ]
    },
    {
     "name": "stderr",
     "output_type": "stream",
     "text": [
      "PLMS Sampler: 100%|██████████| 250/250 [00:12<00:00, 20.24it/s]\n"
     ]
    },
    {
     "name": "stdout",
     "output_type": "stream",
     "text": [
      "rendering 5 examples in 250 steps.\n",
      "Data shape for PLMS sampling is (5, 3, 64, 64)\n",
      "Running PLMS Sampling with 250 timesteps\n"
     ]
    },
    {
     "name": "stderr",
     "output_type": "stream",
     "text": [
      "PLMS Sampler: 100%|██████████| 250/250 [00:12<00:00, 20.23it/s]\n"
     ]
    },
    {
     "name": "stdout",
     "output_type": "stream",
     "text": [
      "rendering 5 examples in 250 steps.\n",
      "Data shape for PLMS sampling is (5, 3, 64, 64)\n",
      "Running PLMS Sampling with 250 timesteps\n"
     ]
    },
    {
     "name": "stderr",
     "output_type": "stream",
     "text": [
      "PLMS Sampler: 100%|██████████| 250/250 [00:12<00:00, 20.23it/s]\n"
     ]
    },
    {
     "name": "stdout",
     "output_type": "stream",
     "text": [
      "rendering 5 examples in 250 steps.\n",
      "Data shape for PLMS sampling is (5, 3, 64, 64)\n",
      "Running PLMS Sampling with 250 timesteps\n"
     ]
    },
    {
     "name": "stderr",
     "output_type": "stream",
     "text": [
      "PLMS Sampler: 100%|██████████| 250/250 [00:12<00:00, 20.23it/s]\n"
     ]
    },
    {
     "name": "stdout",
     "output_type": "stream",
     "text": [
      "rendering 5 examples in 250 steps.\n",
      "Data shape for PLMS sampling is (5, 3, 64, 64)\n",
      "Running PLMS Sampling with 250 timesteps\n"
     ]
    },
    {
     "name": "stderr",
     "output_type": "stream",
     "text": [
      "PLMS Sampler: 100%|██████████| 250/250 [00:12<00:00, 20.22it/s]\n"
     ]
    },
    {
     "name": "stdout",
     "output_type": "stream",
     "text": [
      "rendering 5 examples in 250 steps.\n",
      "Data shape for PLMS sampling is (5, 3, 64, 64)\n",
      "Running PLMS Sampling with 250 timesteps\n"
     ]
    },
    {
     "name": "stderr",
     "output_type": "stream",
     "text": [
      "PLMS Sampler: 100%|██████████| 250/250 [00:12<00:00, 20.23it/s]\n"
     ]
    },
    {
     "name": "stdout",
     "output_type": "stream",
     "text": [
      "rendering 5 examples in 250 steps.\n",
      "Data shape for PLMS sampling is (5, 3, 64, 64)\n",
      "Running PLMS Sampling with 250 timesteps\n"
     ]
    },
    {
     "name": "stderr",
     "output_type": "stream",
     "text": [
      "PLMS Sampler: 100%|██████████| 250/250 [00:12<00:00, 20.23it/s]\n"
     ]
    },
    {
     "name": "stdout",
     "output_type": "stream",
     "text": [
      "rendering 5 examples in 250 steps.\n",
      "Data shape for PLMS sampling is (5, 3, 64, 64)\n",
      "Running PLMS Sampling with 250 timesteps\n"
     ]
    },
    {
     "name": "stderr",
     "output_type": "stream",
     "text": [
      "PLMS Sampler: 100%|██████████| 250/250 [00:12<00:00, 20.24it/s]\n"
     ]
    },
    {
     "name": "stdout",
     "output_type": "stream",
     "text": [
      "rendering 5 examples in 250 steps.\n",
      "Data shape for PLMS sampling is (5, 3, 64, 64)\n",
      "Running PLMS Sampling with 250 timesteps\n"
     ]
    },
    {
     "name": "stderr",
     "output_type": "stream",
     "text": [
      "PLMS Sampler: 100%|██████████| 250/250 [00:12<00:00, 20.21it/s]\n"
     ]
    },
    {
     "name": "stdout",
     "output_type": "stream",
     "text": [
      "rendering 5 examples in 250 steps.\n",
      "Data shape for PLMS sampling is (5, 3, 64, 64)\n",
      "Running PLMS Sampling with 250 timesteps\n"
     ]
    },
    {
     "name": "stderr",
     "output_type": "stream",
     "text": [
      "PLMS Sampler: 100%|██████████| 250/250 [00:12<00:00, 20.24it/s]\n"
     ]
    },
    {
     "name": "stdout",
     "output_type": "stream",
     "text": [
      "rendering 5 examples in 250 steps.\n",
      "Data shape for PLMS sampling is (5, 3, 64, 64)\n",
      "Running PLMS Sampling with 250 timesteps\n"
     ]
    },
    {
     "name": "stderr",
     "output_type": "stream",
     "text": [
      "PLMS Sampler: 100%|██████████| 250/250 [00:12<00:00, 20.24it/s]\n"
     ]
    },
    {
     "name": "stdout",
     "output_type": "stream",
     "text": [
      "rendering 5 examples in 250 steps.\n",
      "Data shape for PLMS sampling is (5, 3, 64, 64)\n",
      "Running PLMS Sampling with 250 timesteps\n"
     ]
    },
    {
     "name": "stderr",
     "output_type": "stream",
     "text": [
      "PLMS Sampler: 100%|██████████| 250/250 [00:12<00:00, 20.23it/s]\n"
     ]
    },
    {
     "name": "stdout",
     "output_type": "stream",
     "text": [
      "rendering 5 examples in 250 steps.\n",
      "Data shape for PLMS sampling is (5, 3, 64, 64)\n",
      "Running PLMS Sampling with 250 timesteps\n"
     ]
    },
    {
     "name": "stderr",
     "output_type": "stream",
     "text": [
      "PLMS Sampler: 100%|██████████| 250/250 [00:12<00:00, 20.22it/s]\n"
     ]
    },
    {
     "name": "stdout",
     "output_type": "stream",
     "text": [
      "rendering 5 examples in 250 steps.\n",
      "Data shape for PLMS sampling is (5, 3, 64, 64)\n",
      "Running PLMS Sampling with 250 timesteps\n"
     ]
    },
    {
     "name": "stderr",
     "output_type": "stream",
     "text": [
      "PLMS Sampler: 100%|██████████| 250/250 [00:12<00:00, 20.22it/s]\n"
     ]
    },
    {
     "name": "stdout",
     "output_type": "stream",
     "text": [
      "rendering 5 examples in 250 steps.\n",
      "Data shape for PLMS sampling is (5, 3, 64, 64)\n",
      "Running PLMS Sampling with 250 timesteps\n"
     ]
    },
    {
     "name": "stderr",
     "output_type": "stream",
     "text": [
      "PLMS Sampler: 100%|██████████| 250/250 [00:12<00:00, 20.23it/s]\n"
     ]
    },
    {
     "name": "stdout",
     "output_type": "stream",
     "text": [
      "rendering 5 examples in 250 steps.\n",
      "Data shape for PLMS sampling is (5, 3, 64, 64)\n",
      "Running PLMS Sampling with 250 timesteps\n"
     ]
    },
    {
     "name": "stderr",
     "output_type": "stream",
     "text": [
      "PLMS Sampler: 100%|██████████| 250/250 [00:12<00:00, 20.24it/s]\n"
     ]
    },
    {
     "name": "stdout",
     "output_type": "stream",
     "text": [
      "rendering 5 examples in 250 steps.\n",
      "Data shape for PLMS sampling is (5, 3, 64, 64)\n",
      "Running PLMS Sampling with 250 timesteps\n"
     ]
    },
    {
     "name": "stderr",
     "output_type": "stream",
     "text": [
      "PLMS Sampler: 100%|██████████| 250/250 [00:12<00:00, 20.21it/s]\n"
     ]
    },
    {
     "name": "stdout",
     "output_type": "stream",
     "text": [
      "rendering 5 examples in 250 steps.\n",
      "Data shape for PLMS sampling is (5, 3, 64, 64)\n",
      "Running PLMS Sampling with 250 timesteps\n"
     ]
    },
    {
     "name": "stderr",
     "output_type": "stream",
     "text": [
      "PLMS Sampler: 100%|██████████| 250/250 [00:12<00:00, 20.23it/s]\n"
     ]
    },
    {
     "name": "stdout",
     "output_type": "stream",
     "text": [
      "rendering 5 examples in 250 steps.\n",
      "Data shape for PLMS sampling is (5, 3, 64, 64)\n",
      "Running PLMS Sampling with 250 timesteps\n"
     ]
    },
    {
     "name": "stderr",
     "output_type": "stream",
     "text": [
      "PLMS Sampler: 100%|██████████| 250/250 [00:12<00:00, 20.24it/s]\n"
     ]
    },
    {
     "name": "stdout",
     "output_type": "stream",
     "text": [
      "rendering 5 examples in 250 steps.\n",
      "Data shape for PLMS sampling is (5, 3, 64, 64)\n",
      "Running PLMS Sampling with 250 timesteps\n"
     ]
    },
    {
     "name": "stderr",
     "output_type": "stream",
     "text": [
      "PLMS Sampler: 100%|██████████| 250/250 [00:12<00:00, 20.24it/s]\n"
     ]
    },
    {
     "name": "stdout",
     "output_type": "stream",
     "text": [
      "rendering 5 examples in 250 steps.\n",
      "Data shape for PLMS sampling is (5, 3, 64, 64)\n",
      "Running PLMS Sampling with 250 timesteps\n"
     ]
    },
    {
     "name": "stderr",
     "output_type": "stream",
     "text": [
      "PLMS Sampler: 100%|██████████| 250/250 [00:12<00:00, 20.23it/s]\n"
     ]
    },
    {
     "name": "stdout",
     "output_type": "stream",
     "text": [
      "rendering 5 examples in 250 steps.\n",
      "Data shape for PLMS sampling is (5, 3, 64, 64)\n",
      "Running PLMS Sampling with 250 timesteps\n"
     ]
    },
    {
     "name": "stderr",
     "output_type": "stream",
     "text": [
      "PLMS Sampler: 100%|██████████| 250/250 [00:12<00:00, 20.23it/s]\n"
     ]
    },
    {
     "name": "stdout",
     "output_type": "stream",
     "text": [
      "rendering 5 examples in 250 steps.\n",
      "Data shape for PLMS sampling is (5, 3, 64, 64)\n",
      "Running PLMS Sampling with 250 timesteps\n"
     ]
    },
    {
     "name": "stderr",
     "output_type": "stream",
     "text": [
      "PLMS Sampler: 100%|██████████| 250/250 [00:12<00:00, 20.22it/s]\n"
     ]
    },
    {
     "name": "stdout",
     "output_type": "stream",
     "text": [
      "rendering 5 examples in 250 steps.\n",
      "Data shape for PLMS sampling is (5, 3, 64, 64)\n",
      "Running PLMS Sampling with 250 timesteps\n"
     ]
    },
    {
     "name": "stderr",
     "output_type": "stream",
     "text": [
      "PLMS Sampler: 100%|██████████| 250/250 [00:12<00:00, 20.23it/s]\n"
     ]
    },
    {
     "name": "stdout",
     "output_type": "stream",
     "text": [
      "rendering 5 examples in 250 steps.\n",
      "Data shape for PLMS sampling is (5, 3, 64, 64)\n",
      "Running PLMS Sampling with 250 timesteps\n"
     ]
    },
    {
     "name": "stderr",
     "output_type": "stream",
     "text": [
      "PLMS Sampler: 100%|██████████| 250/250 [00:12<00:00, 20.22it/s]\n"
     ]
    },
    {
     "name": "stdout",
     "output_type": "stream",
     "text": [
      "rendering 5 examples in 250 steps.\n",
      "Data shape for PLMS sampling is (5, 3, 64, 64)\n",
      "Running PLMS Sampling with 250 timesteps\n"
     ]
    },
    {
     "name": "stderr",
     "output_type": "stream",
     "text": [
      "PLMS Sampler: 100%|██████████| 250/250 [00:12<00:00, 20.23it/s]\n"
     ]
    },
    {
     "name": "stdout",
     "output_type": "stream",
     "text": [
      "rendering 5 examples in 250 steps.\n",
      "Data shape for PLMS sampling is (5, 3, 64, 64)\n",
      "Running PLMS Sampling with 250 timesteps\n"
     ]
    },
    {
     "name": "stderr",
     "output_type": "stream",
     "text": [
      "PLMS Sampler: 100%|██████████| 250/250 [00:12<00:00, 20.23it/s]\n"
     ]
    },
    {
     "name": "stdout",
     "output_type": "stream",
     "text": [
      "rendering 5 examples in 250 steps.\n",
      "Data shape for PLMS sampling is (5, 3, 64, 64)\n",
      "Running PLMS Sampling with 250 timesteps\n"
     ]
    },
    {
     "name": "stderr",
     "output_type": "stream",
     "text": [
      "PLMS Sampler: 100%|██████████| 250/250 [00:23<00:00, 10.64it/s]\n"
     ]
    },
    {
     "name": "stdout",
     "output_type": "stream",
     "text": [
      "rendering 5 examples in 250 steps.\n",
      "Data shape for PLMS sampling is (5, 3, 64, 64)\n",
      "Running PLMS Sampling with 250 timesteps\n"
     ]
    },
    {
     "name": "stderr",
     "output_type": "stream",
     "text": [
      "PLMS Sampler: 100%|██████████| 250/250 [00:12<00:00, 20.30it/s]\n"
     ]
    },
    {
     "name": "stdout",
     "output_type": "stream",
     "text": [
      "rendering 5 examples in 250 steps.\n",
      "Data shape for PLMS sampling is (5, 3, 64, 64)\n",
      "Running PLMS Sampling with 250 timesteps\n"
     ]
    },
    {
     "name": "stderr",
     "output_type": "stream",
     "text": [
      "PLMS Sampler: 100%|██████████| 250/250 [00:12<00:00, 20.28it/s]\n"
     ]
    },
    {
     "name": "stdout",
     "output_type": "stream",
     "text": [
      "rendering 5 examples in 250 steps.\n",
      "Data shape for PLMS sampling is (5, 3, 64, 64)\n",
      "Running PLMS Sampling with 250 timesteps\n"
     ]
    },
    {
     "name": "stderr",
     "output_type": "stream",
     "text": [
      "PLMS Sampler: 100%|██████████| 250/250 [00:12<00:00, 20.24it/s]\n"
     ]
    },
    {
     "name": "stdout",
     "output_type": "stream",
     "text": [
      "rendering 5 examples in 250 steps.\n",
      "Data shape for PLMS sampling is (5, 3, 64, 64)\n",
      "Running PLMS Sampling with 250 timesteps\n"
     ]
    },
    {
     "name": "stderr",
     "output_type": "stream",
     "text": [
      "PLMS Sampler: 100%|██████████| 250/250 [00:12<00:00, 20.23it/s]\n"
     ]
    },
    {
     "name": "stdout",
     "output_type": "stream",
     "text": [
      "rendering 5 examples in 250 steps.\n",
      "Data shape for PLMS sampling is (5, 3, 64, 64)\n",
      "Running PLMS Sampling with 250 timesteps\n"
     ]
    },
    {
     "name": "stderr",
     "output_type": "stream",
     "text": [
      "PLMS Sampler: 100%|██████████| 250/250 [00:12<00:00, 20.22it/s]\n"
     ]
    },
    {
     "name": "stdout",
     "output_type": "stream",
     "text": [
      "rendering 5 examples in 250 steps.\n",
      "Data shape for PLMS sampling is (5, 3, 64, 64)\n",
      "Running PLMS Sampling with 250 timesteps\n"
     ]
    },
    {
     "name": "stderr",
     "output_type": "stream",
     "text": [
      "PLMS Sampler: 100%|██████████| 250/250 [00:12<00:00, 20.22it/s]\n"
     ]
    },
    {
     "name": "stdout",
     "output_type": "stream",
     "text": [
      "rendering 5 examples in 250 steps.\n",
      "Data shape for PLMS sampling is (5, 3, 64, 64)\n",
      "Running PLMS Sampling with 250 timesteps\n"
     ]
    },
    {
     "name": "stderr",
     "output_type": "stream",
     "text": [
      "PLMS Sampler: 100%|██████████| 250/250 [00:12<00:00, 20.20it/s]\n"
     ]
    },
    {
     "name": "stdout",
     "output_type": "stream",
     "text": [
      "rendering 5 examples in 250 steps.\n",
      "Data shape for PLMS sampling is (5, 3, 64, 64)\n",
      "Running PLMS Sampling with 250 timesteps\n"
     ]
    },
    {
     "name": "stderr",
     "output_type": "stream",
     "text": [
      "PLMS Sampler: 100%|██████████| 250/250 [00:12<00:00, 20.20it/s]\n"
     ]
    },
    {
     "name": "stdout",
     "output_type": "stream",
     "text": [
      "rendering 5 examples in 250 steps.\n",
      "Data shape for PLMS sampling is (5, 3, 64, 64)\n",
      "Running PLMS Sampling with 250 timesteps\n"
     ]
    },
    {
     "name": "stderr",
     "output_type": "stream",
     "text": [
      "PLMS Sampler: 100%|██████████| 250/250 [00:12<00:00, 20.17it/s]\n"
     ]
    },
    {
     "name": "stdout",
     "output_type": "stream",
     "text": [
      "rendering 5 examples in 250 steps.\n",
      "Data shape for PLMS sampling is (5, 3, 64, 64)\n",
      "Running PLMS Sampling with 250 timesteps\n"
     ]
    },
    {
     "name": "stderr",
     "output_type": "stream",
     "text": [
      "PLMS Sampler: 100%|██████████| 250/250 [00:12<00:00, 20.20it/s]\n"
     ]
    },
    {
     "name": "stdout",
     "output_type": "stream",
     "text": [
      "rendering 5 examples in 250 steps.\n",
      "Data shape for PLMS sampling is (5, 3, 64, 64)\n",
      "Running PLMS Sampling with 250 timesteps\n"
     ]
    },
    {
     "name": "stderr",
     "output_type": "stream",
     "text": [
      "PLMS Sampler: 100%|██████████| 250/250 [00:12<00:00, 20.14it/s]\n"
     ]
    },
    {
     "name": "stdout",
     "output_type": "stream",
     "text": [
      "rendering 5 examples in 250 steps.\n",
      "Data shape for PLMS sampling is (5, 3, 64, 64)\n",
      "Running PLMS Sampling with 250 timesteps\n"
     ]
    },
    {
     "name": "stderr",
     "output_type": "stream",
     "text": [
      "PLMS Sampler: 100%|██████████| 250/250 [00:12<00:00, 20.14it/s]\n"
     ]
    },
    {
     "name": "stdout",
     "output_type": "stream",
     "text": [
      "rendering 5 examples in 250 steps.\n",
      "Data shape for PLMS sampling is (5, 3, 64, 64)\n",
      "Running PLMS Sampling with 250 timesteps\n"
     ]
    },
    {
     "name": "stderr",
     "output_type": "stream",
     "text": [
      "PLMS Sampler: 100%|██████████| 250/250 [00:12<00:00, 20.14it/s]\n"
     ]
    },
    {
     "name": "stdout",
     "output_type": "stream",
     "text": [
      "rendering 5 examples in 250 steps.\n",
      "Data shape for PLMS sampling is (5, 3, 64, 64)\n",
      "Running PLMS Sampling with 250 timesteps\n"
     ]
    },
    {
     "name": "stderr",
     "output_type": "stream",
     "text": [
      "PLMS Sampler: 100%|██████████| 250/250 [00:12<00:00, 20.14it/s]\n"
     ]
    },
    {
     "name": "stdout",
     "output_type": "stream",
     "text": [
      "rendering 5 examples in 250 steps.\n",
      "Data shape for PLMS sampling is (5, 3, 64, 64)\n",
      "Running PLMS Sampling with 250 timesteps\n"
     ]
    },
    {
     "name": "stderr",
     "output_type": "stream",
     "text": [
      "PLMS Sampler: 100%|██████████| 250/250 [00:12<00:00, 20.14it/s]\n"
     ]
    },
    {
     "name": "stdout",
     "output_type": "stream",
     "text": [
      "rendering 5 examples in 250 steps.\n",
      "Data shape for PLMS sampling is (5, 3, 64, 64)\n",
      "Running PLMS Sampling with 250 timesteps\n"
     ]
    },
    {
     "name": "stderr",
     "output_type": "stream",
     "text": [
      "PLMS Sampler: 100%|██████████| 250/250 [00:12<00:00, 20.14it/s]\n"
     ]
    },
    {
     "name": "stdout",
     "output_type": "stream",
     "text": [
      "rendering 5 examples in 250 steps.\n",
      "Data shape for PLMS sampling is (5, 3, 64, 64)\n",
      "Running PLMS Sampling with 250 timesteps\n"
     ]
    },
    {
     "name": "stderr",
     "output_type": "stream",
     "text": [
      "PLMS Sampler: 100%|██████████| 250/250 [00:12<00:00, 20.14it/s]\n"
     ]
    },
    {
     "name": "stdout",
     "output_type": "stream",
     "text": [
      "rendering 5 examples in 250 steps.\n",
      "Data shape for PLMS sampling is (5, 3, 64, 64)\n",
      "Running PLMS Sampling with 250 timesteps\n"
     ]
    },
    {
     "name": "stderr",
     "output_type": "stream",
     "text": [
      "PLMS Sampler: 100%|██████████| 250/250 [00:12<00:00, 20.13it/s]\n"
     ]
    },
    {
     "name": "stdout",
     "output_type": "stream",
     "text": [
      "rendering 5 examples in 250 steps.\n",
      "Data shape for PLMS sampling is (5, 3, 64, 64)\n",
      "Running PLMS Sampling with 250 timesteps\n"
     ]
    },
    {
     "name": "stderr",
     "output_type": "stream",
     "text": [
      "PLMS Sampler: 100%|██████████| 250/250 [00:12<00:00, 20.14it/s]\n"
     ]
    },
    {
     "name": "stdout",
     "output_type": "stream",
     "text": [
      "rendering 5 examples in 250 steps.\n",
      "Data shape for PLMS sampling is (5, 3, 64, 64)\n",
      "Running PLMS Sampling with 250 timesteps\n"
     ]
    },
    {
     "name": "stderr",
     "output_type": "stream",
     "text": [
      "PLMS Sampler: 100%|██████████| 250/250 [00:12<00:00, 20.12it/s]\n"
     ]
    },
    {
     "name": "stdout",
     "output_type": "stream",
     "text": [
      "rendering 5 examples in 250 steps.\n",
      "Data shape for PLMS sampling is (5, 3, 64, 64)\n",
      "Running PLMS Sampling with 250 timesteps\n"
     ]
    },
    {
     "name": "stderr",
     "output_type": "stream",
     "text": [
      "PLMS Sampler: 100%|██████████| 250/250 [00:12<00:00, 20.11it/s]\n"
     ]
    },
    {
     "name": "stdout",
     "output_type": "stream",
     "text": [
      "rendering 5 examples in 250 steps.\n",
      "Data shape for PLMS sampling is (5, 3, 64, 64)\n",
      "Running PLMS Sampling with 250 timesteps\n"
     ]
    },
    {
     "name": "stderr",
     "output_type": "stream",
     "text": [
      "PLMS Sampler: 100%|██████████| 250/250 [00:12<00:00, 20.12it/s]\n"
     ]
    },
    {
     "name": "stdout",
     "output_type": "stream",
     "text": [
      "rendering 5 examples in 250 steps.\n",
      "Data shape for PLMS sampling is (5, 3, 64, 64)\n",
      "Running PLMS Sampling with 250 timesteps\n"
     ]
    },
    {
     "name": "stderr",
     "output_type": "stream",
     "text": [
      "PLMS Sampler: 100%|██████████| 250/250 [00:12<00:00, 20.12it/s]\n"
     ]
    },
    {
     "name": "stdout",
     "output_type": "stream",
     "text": [
      "rendering 5 examples in 250 steps.\n",
      "Data shape for PLMS sampling is (5, 3, 64, 64)\n",
      "Running PLMS Sampling with 250 timesteps\n"
     ]
    },
    {
     "name": "stderr",
     "output_type": "stream",
     "text": [
      "PLMS Sampler: 100%|██████████| 250/250 [00:12<00:00, 20.11it/s]\n"
     ]
    },
    {
     "name": "stdout",
     "output_type": "stream",
     "text": [
      "rendering 5 examples in 250 steps.\n",
      "Data shape for PLMS sampling is (5, 3, 64, 64)\n",
      "Running PLMS Sampling with 250 timesteps\n"
     ]
    },
    {
     "name": "stderr",
     "output_type": "stream",
     "text": [
      "PLMS Sampler: 100%|██████████| 250/250 [00:12<00:00, 20.12it/s]\n"
     ]
    },
    {
     "name": "stdout",
     "output_type": "stream",
     "text": [
      "rendering 5 examples in 250 steps.\n",
      "Data shape for PLMS sampling is (5, 3, 64, 64)\n",
      "Running PLMS Sampling with 250 timesteps\n"
     ]
    },
    {
     "name": "stderr",
     "output_type": "stream",
     "text": [
      "PLMS Sampler: 100%|██████████| 250/250 [00:12<00:00, 20.13it/s]\n"
     ]
    },
    {
     "name": "stdout",
     "output_type": "stream",
     "text": [
      "rendering 5 examples in 250 steps.\n",
      "Data shape for PLMS sampling is (5, 3, 64, 64)\n",
      "Running PLMS Sampling with 250 timesteps\n"
     ]
    },
    {
     "name": "stderr",
     "output_type": "stream",
     "text": [
      "PLMS Sampler: 100%|██████████| 250/250 [00:12<00:00, 20.12it/s]\n"
     ]
    },
    {
     "name": "stdout",
     "output_type": "stream",
     "text": [
      "rendering 5 examples in 250 steps.\n",
      "Data shape for PLMS sampling is (5, 3, 64, 64)\n",
      "Running PLMS Sampling with 250 timesteps\n"
     ]
    },
    {
     "name": "stderr",
     "output_type": "stream",
     "text": [
      "PLMS Sampler: 100%|██████████| 250/250 [00:12<00:00, 20.12it/s]\n"
     ]
    },
    {
     "name": "stdout",
     "output_type": "stream",
     "text": [
      "rendering 5 examples in 250 steps.\n",
      "Data shape for PLMS sampling is (5, 3, 64, 64)\n",
      "Running PLMS Sampling with 250 timesteps\n"
     ]
    },
    {
     "name": "stderr",
     "output_type": "stream",
     "text": [
      "PLMS Sampler: 100%|██████████| 250/250 [00:12<00:00, 20.11it/s]\n"
     ]
    },
    {
     "name": "stdout",
     "output_type": "stream",
     "text": [
      "rendering 5 examples in 250 steps.\n",
      "Data shape for PLMS sampling is (5, 3, 64, 64)\n",
      "Running PLMS Sampling with 250 timesteps\n"
     ]
    },
    {
     "name": "stderr",
     "output_type": "stream",
     "text": [
      "PLMS Sampler: 100%|██████████| 250/250 [00:12<00:00, 20.12it/s]\n"
     ]
    },
    {
     "name": "stdout",
     "output_type": "stream",
     "text": [
      "rendering 5 examples in 250 steps.\n",
      "Data shape for PLMS sampling is (5, 3, 64, 64)\n",
      "Running PLMS Sampling with 250 timesteps\n"
     ]
    },
    {
     "name": "stderr",
     "output_type": "stream",
     "text": [
      "PLMS Sampler: 100%|██████████| 250/250 [00:12<00:00, 20.11it/s]\n"
     ]
    },
    {
     "name": "stdout",
     "output_type": "stream",
     "text": [
      "rendering 5 examples in 250 steps.\n",
      "Data shape for PLMS sampling is (5, 3, 64, 64)\n",
      "Running PLMS Sampling with 250 timesteps\n"
     ]
    },
    {
     "name": "stderr",
     "output_type": "stream",
     "text": [
      "PLMS Sampler: 100%|██████████| 250/250 [00:12<00:00, 20.11it/s]\n"
     ]
    },
    {
     "name": "stdout",
     "output_type": "stream",
     "text": [
      "rendering 5 examples in 250 steps.\n",
      "Data shape for PLMS sampling is (5, 3, 64, 64)\n",
      "Running PLMS Sampling with 250 timesteps\n"
     ]
    },
    {
     "name": "stderr",
     "output_type": "stream",
     "text": [
      "PLMS Sampler: 100%|██████████| 250/250 [00:12<00:00, 20.11it/s]\n"
     ]
    },
    {
     "name": "stdout",
     "output_type": "stream",
     "text": [
      "rendering 5 examples in 250 steps.\n",
      "Data shape for PLMS sampling is (5, 3, 64, 64)\n",
      "Running PLMS Sampling with 250 timesteps\n"
     ]
    },
    {
     "name": "stderr",
     "output_type": "stream",
     "text": [
      "PLMS Sampler: 100%|██████████| 250/250 [00:12<00:00, 20.11it/s]\n"
     ]
    },
    {
     "name": "stdout",
     "output_type": "stream",
     "text": [
      "rendering 5 examples in 250 steps.\n",
      "Data shape for PLMS sampling is (5, 3, 64, 64)\n",
      "Running PLMS Sampling with 250 timesteps\n"
     ]
    },
    {
     "name": "stderr",
     "output_type": "stream",
     "text": [
      "PLMS Sampler: 100%|██████████| 250/250 [00:12<00:00, 20.09it/s]\n"
     ]
    },
    {
     "name": "stdout",
     "output_type": "stream",
     "text": [
      "rendering 5 examples in 250 steps.\n",
      "Data shape for PLMS sampling is (5, 3, 64, 64)\n",
      "Running PLMS Sampling with 250 timesteps\n"
     ]
    },
    {
     "name": "stderr",
     "output_type": "stream",
     "text": [
      "PLMS Sampler: 100%|██████████| 250/250 [00:12<00:00, 20.12it/s]\n"
     ]
    },
    {
     "name": "stdout",
     "output_type": "stream",
     "text": [
      "rendering 5 examples in 250 steps.\n",
      "Data shape for PLMS sampling is (5, 3, 64, 64)\n",
      "Running PLMS Sampling with 250 timesteps\n"
     ]
    },
    {
     "name": "stderr",
     "output_type": "stream",
     "text": [
      "PLMS Sampler: 100%|██████████| 250/250 [00:12<00:00, 20.11it/s]\n"
     ]
    },
    {
     "name": "stdout",
     "output_type": "stream",
     "text": [
      "rendering 5 examples in 250 steps.\n",
      "Data shape for PLMS sampling is (5, 3, 64, 64)\n",
      "Running PLMS Sampling with 250 timesteps\n"
     ]
    },
    {
     "name": "stderr",
     "output_type": "stream",
     "text": [
      "PLMS Sampler: 100%|██████████| 250/250 [00:12<00:00, 20.11it/s]\n"
     ]
    },
    {
     "name": "stdout",
     "output_type": "stream",
     "text": [
      "rendering 5 examples in 250 steps.\n",
      "Data shape for PLMS sampling is (5, 3, 64, 64)\n",
      "Running PLMS Sampling with 250 timesteps\n"
     ]
    },
    {
     "name": "stderr",
     "output_type": "stream",
     "text": [
      "PLMS Sampler: 100%|██████████| 250/250 [00:12<00:00, 20.12it/s]\n"
     ]
    },
    {
     "name": "stdout",
     "output_type": "stream",
     "text": [
      "rendering 5 examples in 250 steps.\n",
      "Data shape for PLMS sampling is (5, 3, 64, 64)\n",
      "Running PLMS Sampling with 250 timesteps\n"
     ]
    },
    {
     "name": "stderr",
     "output_type": "stream",
     "text": [
      "PLMS Sampler: 100%|██████████| 250/250 [00:12<00:00, 20.10it/s]\n"
     ]
    },
    {
     "name": "stdout",
     "output_type": "stream",
     "text": [
      "rendering 5 examples in 250 steps.\n",
      "Data shape for PLMS sampling is (5, 3, 64, 64)\n",
      "Running PLMS Sampling with 250 timesteps\n"
     ]
    },
    {
     "name": "stderr",
     "output_type": "stream",
     "text": [
      "PLMS Sampler: 100%|██████████| 250/250 [00:12<00:00, 20.12it/s]\n"
     ]
    },
    {
     "name": "stdout",
     "output_type": "stream",
     "text": [
      "rendering 5 examples in 250 steps.\n",
      "Data shape for PLMS sampling is (5, 3, 64, 64)\n",
      "Running PLMS Sampling with 250 timesteps\n"
     ]
    },
    {
     "name": "stderr",
     "output_type": "stream",
     "text": [
      "PLMS Sampler: 100%|██████████| 250/250 [00:12<00:00, 20.12it/s]\n"
     ]
    },
    {
     "name": "stdout",
     "output_type": "stream",
     "text": [
      "rendering 5 examples in 250 steps.\n",
      "Data shape for PLMS sampling is (5, 3, 64, 64)\n",
      "Running PLMS Sampling with 250 timesteps\n"
     ]
    },
    {
     "name": "stderr",
     "output_type": "stream",
     "text": [
      "PLMS Sampler: 100%|██████████| 250/250 [00:12<00:00, 20.12it/s]\n"
     ]
    },
    {
     "name": "stdout",
     "output_type": "stream",
     "text": [
      "rendering 5 examples in 250 steps.\n",
      "Data shape for PLMS sampling is (5, 3, 64, 64)\n",
      "Running PLMS Sampling with 250 timesteps\n"
     ]
    },
    {
     "name": "stderr",
     "output_type": "stream",
     "text": [
      "PLMS Sampler: 100%|██████████| 250/250 [00:12<00:00, 20.13it/s]\n"
     ]
    },
    {
     "name": "stdout",
     "output_type": "stream",
     "text": [
      "rendering 5 examples in 250 steps.\n",
      "Data shape for PLMS sampling is (5, 3, 64, 64)\n",
      "Running PLMS Sampling with 250 timesteps\n"
     ]
    },
    {
     "name": "stderr",
     "output_type": "stream",
     "text": [
      "PLMS Sampler: 100%|██████████| 250/250 [00:12<00:00, 20.11it/s]\n"
     ]
    },
    {
     "name": "stdout",
     "output_type": "stream",
     "text": [
      "rendering 5 examples in 250 steps.\n",
      "Data shape for PLMS sampling is (5, 3, 64, 64)\n",
      "Running PLMS Sampling with 250 timesteps\n"
     ]
    },
    {
     "name": "stderr",
     "output_type": "stream",
     "text": [
      "PLMS Sampler: 100%|██████████| 250/250 [00:12<00:00, 20.12it/s]\n"
     ]
    },
    {
     "name": "stdout",
     "output_type": "stream",
     "text": [
      "rendering 5 examples in 250 steps.\n",
      "Data shape for PLMS sampling is (5, 3, 64, 64)\n",
      "Running PLMS Sampling with 250 timesteps\n"
     ]
    },
    {
     "name": "stderr",
     "output_type": "stream",
     "text": [
      "PLMS Sampler: 100%|██████████| 250/250 [00:12<00:00, 20.10it/s]\n"
     ]
    },
    {
     "name": "stdout",
     "output_type": "stream",
     "text": [
      "rendering 5 examples in 250 steps.\n",
      "Data shape for PLMS sampling is (5, 3, 64, 64)\n",
      "Running PLMS Sampling with 250 timesteps\n"
     ]
    },
    {
     "name": "stderr",
     "output_type": "stream",
     "text": [
      "PLMS Sampler: 100%|██████████| 250/250 [00:12<00:00, 20.11it/s]\n"
     ]
    },
    {
     "name": "stdout",
     "output_type": "stream",
     "text": [
      "rendering 5 examples in 250 steps.\n",
      "Data shape for PLMS sampling is (5, 3, 64, 64)\n",
      "Running PLMS Sampling with 250 timesteps\n"
     ]
    },
    {
     "name": "stderr",
     "output_type": "stream",
     "text": [
      "PLMS Sampler: 100%|██████████| 250/250 [00:12<00:00, 20.11it/s]\n"
     ]
    },
    {
     "name": "stdout",
     "output_type": "stream",
     "text": [
      "rendering 5 examples in 250 steps.\n",
      "Data shape for PLMS sampling is (5, 3, 64, 64)\n",
      "Running PLMS Sampling with 250 timesteps\n"
     ]
    },
    {
     "name": "stderr",
     "output_type": "stream",
     "text": [
      "PLMS Sampler: 100%|██████████| 250/250 [00:12<00:00, 20.12it/s]\n"
     ]
    },
    {
     "name": "stdout",
     "output_type": "stream",
     "text": [
      "rendering 5 examples in 250 steps.\n",
      "Data shape for PLMS sampling is (5, 3, 64, 64)\n",
      "Running PLMS Sampling with 250 timesteps\n"
     ]
    },
    {
     "name": "stderr",
     "output_type": "stream",
     "text": [
      "PLMS Sampler: 100%|██████████| 250/250 [00:12<00:00, 20.12it/s]\n"
     ]
    },
    {
     "name": "stdout",
     "output_type": "stream",
     "text": [
      "rendering 5 examples in 250 steps.\n",
      "Data shape for PLMS sampling is (5, 3, 64, 64)\n",
      "Running PLMS Sampling with 250 timesteps\n"
     ]
    },
    {
     "name": "stderr",
     "output_type": "stream",
     "text": [
      "PLMS Sampler: 100%|██████████| 250/250 [00:12<00:00, 20.11it/s]\n"
     ]
    },
    {
     "name": "stdout",
     "output_type": "stream",
     "text": [
      "rendering 5 examples in 250 steps.\n",
      "Data shape for PLMS sampling is (5, 3, 64, 64)\n",
      "Running PLMS Sampling with 250 timesteps\n"
     ]
    },
    {
     "name": "stderr",
     "output_type": "stream",
     "text": [
      "PLMS Sampler: 100%|██████████| 250/250 [00:12<00:00, 20.12it/s]\n"
     ]
    },
    {
     "name": "stdout",
     "output_type": "stream",
     "text": [
      "rendering 5 examples in 250 steps.\n",
      "Data shape for PLMS sampling is (5, 3, 64, 64)\n",
      "Running PLMS Sampling with 250 timesteps\n"
     ]
    },
    {
     "name": "stderr",
     "output_type": "stream",
     "text": [
      "PLMS Sampler: 100%|██████████| 250/250 [00:12<00:00, 20.12it/s]\n"
     ]
    },
    {
     "name": "stdout",
     "output_type": "stream",
     "text": [
      "rendering 5 examples in 250 steps.\n",
      "Data shape for PLMS sampling is (5, 3, 64, 64)\n",
      "Running PLMS Sampling with 250 timesteps\n"
     ]
    },
    {
     "name": "stderr",
     "output_type": "stream",
     "text": [
      "PLMS Sampler: 100%|██████████| 250/250 [00:12<00:00, 20.11it/s]\n"
     ]
    },
    {
     "name": "stdout",
     "output_type": "stream",
     "text": [
      "rendering 5 examples in 250 steps.\n",
      "Data shape for PLMS sampling is (5, 3, 64, 64)\n",
      "Running PLMS Sampling with 250 timesteps\n"
     ]
    },
    {
     "name": "stderr",
     "output_type": "stream",
     "text": [
      "PLMS Sampler: 100%|██████████| 250/250 [00:12<00:00, 20.12it/s]\n"
     ]
    },
    {
     "name": "stdout",
     "output_type": "stream",
     "text": [
      "rendering 5 examples in 250 steps.\n",
      "Data shape for PLMS sampling is (5, 3, 64, 64)\n",
      "Running PLMS Sampling with 250 timesteps\n"
     ]
    },
    {
     "name": "stderr",
     "output_type": "stream",
     "text": [
      "PLMS Sampler: 100%|██████████| 250/250 [00:12<00:00, 20.12it/s]\n"
     ]
    },
    {
     "name": "stdout",
     "output_type": "stream",
     "text": [
      "rendering 5 examples in 250 steps.\n",
      "Data shape for PLMS sampling is (5, 3, 64, 64)\n",
      "Running PLMS Sampling with 250 timesteps\n"
     ]
    },
    {
     "name": "stderr",
     "output_type": "stream",
     "text": [
      "PLMS Sampler: 100%|██████████| 250/250 [00:12<00:00, 20.12it/s]\n"
     ]
    },
    {
     "name": "stdout",
     "output_type": "stream",
     "text": [
      "rendering 5 examples in 250 steps.\n",
      "Data shape for PLMS sampling is (5, 3, 64, 64)\n",
      "Running PLMS Sampling with 250 timesteps\n"
     ]
    },
    {
     "name": "stderr",
     "output_type": "stream",
     "text": [
      "PLMS Sampler: 100%|██████████| 250/250 [00:12<00:00, 20.12it/s]\n"
     ]
    },
    {
     "name": "stdout",
     "output_type": "stream",
     "text": [
      "rendering 5 examples in 250 steps.\n",
      "Data shape for PLMS sampling is (5, 3, 64, 64)\n",
      "Running PLMS Sampling with 250 timesteps\n"
     ]
    },
    {
     "name": "stderr",
     "output_type": "stream",
     "text": [
      "PLMS Sampler: 100%|██████████| 250/250 [00:12<00:00, 20.12it/s]\n"
     ]
    },
    {
     "name": "stdout",
     "output_type": "stream",
     "text": [
      "rendering 5 examples in 250 steps.\n",
      "Data shape for PLMS sampling is (5, 3, 64, 64)\n",
      "Running PLMS Sampling with 250 timesteps\n"
     ]
    },
    {
     "name": "stderr",
     "output_type": "stream",
     "text": [
      "PLMS Sampler: 100%|██████████| 250/250 [00:12<00:00, 20.12it/s]\n"
     ]
    },
    {
     "name": "stdout",
     "output_type": "stream",
     "text": [
      "rendering 5 examples in 250 steps.\n",
      "Data shape for PLMS sampling is (5, 3, 64, 64)\n",
      "Running PLMS Sampling with 250 timesteps\n"
     ]
    },
    {
     "name": "stderr",
     "output_type": "stream",
     "text": [
      "PLMS Sampler: 100%|██████████| 250/250 [00:12<00:00, 20.13it/s]\n"
     ]
    },
    {
     "name": "stdout",
     "output_type": "stream",
     "text": [
      "rendering 5 examples in 250 steps.\n",
      "Data shape for PLMS sampling is (5, 3, 64, 64)\n",
      "Running PLMS Sampling with 250 timesteps\n"
     ]
    },
    {
     "name": "stderr",
     "output_type": "stream",
     "text": [
      "PLMS Sampler: 100%|██████████| 250/250 [00:12<00:00, 20.11it/s]\n"
     ]
    },
    {
     "name": "stdout",
     "output_type": "stream",
     "text": [
      "rendering 5 examples in 250 steps.\n",
      "Data shape for PLMS sampling is (5, 3, 64, 64)\n",
      "Running PLMS Sampling with 250 timesteps\n"
     ]
    },
    {
     "name": "stderr",
     "output_type": "stream",
     "text": [
      "PLMS Sampler: 100%|██████████| 250/250 [00:12<00:00, 20.12it/s]\n"
     ]
    },
    {
     "name": "stdout",
     "output_type": "stream",
     "text": [
      "rendering 5 examples in 250 steps.\n",
      "Data shape for PLMS sampling is (5, 3, 64, 64)\n",
      "Running PLMS Sampling with 250 timesteps\n"
     ]
    },
    {
     "name": "stderr",
     "output_type": "stream",
     "text": [
      "PLMS Sampler: 100%|██████████| 250/250 [00:12<00:00, 20.12it/s]\n"
     ]
    },
    {
     "name": "stdout",
     "output_type": "stream",
     "text": [
      "rendering 5 examples in 250 steps.\n",
      "Data shape for PLMS sampling is (5, 3, 64, 64)\n",
      "Running PLMS Sampling with 250 timesteps\n"
     ]
    },
    {
     "name": "stderr",
     "output_type": "stream",
     "text": [
      "PLMS Sampler: 100%|██████████| 250/250 [00:12<00:00, 20.12it/s]\n"
     ]
    },
    {
     "name": "stdout",
     "output_type": "stream",
     "text": [
      "rendering 5 examples in 250 steps.\n",
      "Data shape for PLMS sampling is (5, 3, 64, 64)\n",
      "Running PLMS Sampling with 250 timesteps\n"
     ]
    },
    {
     "name": "stderr",
     "output_type": "stream",
     "text": [
      "PLMS Sampler: 100%|██████████| 250/250 [00:12<00:00, 20.12it/s]\n"
     ]
    },
    {
     "name": "stdout",
     "output_type": "stream",
     "text": [
      "rendering 5 examples in 250 steps.\n",
      "Data shape for PLMS sampling is (5, 3, 64, 64)\n",
      "Running PLMS Sampling with 250 timesteps\n"
     ]
    },
    {
     "name": "stderr",
     "output_type": "stream",
     "text": [
      "PLMS Sampler: 100%|██████████| 250/250 [00:13<00:00, 19.17it/s]\n"
     ]
    },
    {
     "name": "stdout",
     "output_type": "stream",
     "text": [
      "rendering 5 examples in 250 steps.\n",
      "Data shape for PLMS sampling is (5, 3, 64, 64)\n",
      "Running PLMS Sampling with 250 timesteps\n"
     ]
    },
    {
     "name": "stderr",
     "output_type": "stream",
     "text": [
      "PLMS Sampler: 100%|██████████| 250/250 [00:12<00:00, 20.18it/s]\n"
     ]
    },
    {
     "name": "stdout",
     "output_type": "stream",
     "text": [
      "rendering 5 examples in 250 steps.\n",
      "Data shape for PLMS sampling is (5, 3, 64, 64)\n",
      "Running PLMS Sampling with 250 timesteps\n"
     ]
    },
    {
     "name": "stderr",
     "output_type": "stream",
     "text": [
      "PLMS Sampler: 100%|██████████| 250/250 [00:12<00:00, 20.19it/s]\n"
     ]
    },
    {
     "name": "stdout",
     "output_type": "stream",
     "text": [
      "rendering 5 examples in 250 steps.\n",
      "Data shape for PLMS sampling is (5, 3, 64, 64)\n",
      "Running PLMS Sampling with 250 timesteps\n"
     ]
    },
    {
     "name": "stderr",
     "output_type": "stream",
     "text": [
      "PLMS Sampler: 100%|██████████| 250/250 [00:12<00:00, 20.19it/s]\n"
     ]
    },
    {
     "name": "stdout",
     "output_type": "stream",
     "text": [
      "rendering 5 examples in 250 steps.\n",
      "Data shape for PLMS sampling is (5, 3, 64, 64)\n",
      "Running PLMS Sampling with 250 timesteps\n"
     ]
    },
    {
     "name": "stderr",
     "output_type": "stream",
     "text": [
      "PLMS Sampler: 100%|██████████| 250/250 [00:12<00:00, 20.18it/s]\n"
     ]
    },
    {
     "name": "stdout",
     "output_type": "stream",
     "text": [
      "rendering 5 examples in 250 steps.\n",
      "Data shape for PLMS sampling is (5, 3, 64, 64)\n",
      "Running PLMS Sampling with 250 timesteps\n"
     ]
    },
    {
     "name": "stderr",
     "output_type": "stream",
     "text": [
      "PLMS Sampler: 100%|██████████| 250/250 [00:12<00:00, 20.16it/s]\n"
     ]
    },
    {
     "name": "stdout",
     "output_type": "stream",
     "text": [
      "rendering 5 examples in 250 steps.\n",
      "Data shape for PLMS sampling is (5, 3, 64, 64)\n",
      "Running PLMS Sampling with 250 timesteps\n"
     ]
    },
    {
     "name": "stderr",
     "output_type": "stream",
     "text": [
      "PLMS Sampler: 100%|██████████| 250/250 [00:12<00:00, 20.19it/s]\n"
     ]
    },
    {
     "name": "stdout",
     "output_type": "stream",
     "text": [
      "rendering 5 examples in 250 steps.\n",
      "Data shape for PLMS sampling is (5, 3, 64, 64)\n",
      "Running PLMS Sampling with 250 timesteps\n"
     ]
    },
    {
     "name": "stderr",
     "output_type": "stream",
     "text": [
      "PLMS Sampler: 100%|██████████| 250/250 [00:12<00:00, 20.17it/s]\n"
     ]
    },
    {
     "name": "stdout",
     "output_type": "stream",
     "text": [
      "rendering 5 examples in 250 steps.\n",
      "Data shape for PLMS sampling is (5, 3, 64, 64)\n",
      "Running PLMS Sampling with 250 timesteps\n"
     ]
    },
    {
     "name": "stderr",
     "output_type": "stream",
     "text": [
      "PLMS Sampler: 100%|██████████| 250/250 [00:12<00:00, 20.18it/s]\n"
     ]
    },
    {
     "name": "stdout",
     "output_type": "stream",
     "text": [
      "rendering 5 examples in 250 steps.\n",
      "Data shape for PLMS sampling is (5, 3, 64, 64)\n",
      "Running PLMS Sampling with 250 timesteps\n"
     ]
    },
    {
     "name": "stderr",
     "output_type": "stream",
     "text": [
      "PLMS Sampler: 100%|██████████| 250/250 [00:12<00:00, 20.18it/s]\n"
     ]
    },
    {
     "name": "stdout",
     "output_type": "stream",
     "text": [
      "rendering 5 examples in 250 steps.\n",
      "Data shape for PLMS sampling is (5, 3, 64, 64)\n",
      "Running PLMS Sampling with 250 timesteps\n"
     ]
    },
    {
     "name": "stderr",
     "output_type": "stream",
     "text": [
      "PLMS Sampler: 100%|██████████| 250/250 [00:12<00:00, 20.18it/s]\n"
     ]
    },
    {
     "name": "stdout",
     "output_type": "stream",
     "text": [
      "rendering 5 examples in 250 steps.\n",
      "Data shape for PLMS sampling is (5, 3, 64, 64)\n",
      "Running PLMS Sampling with 250 timesteps\n"
     ]
    },
    {
     "name": "stderr",
     "output_type": "stream",
     "text": [
      "PLMS Sampler: 100%|██████████| 250/250 [00:12<00:00, 20.18it/s]\n"
     ]
    },
    {
     "name": "stdout",
     "output_type": "stream",
     "text": [
      "rendering 5 examples in 250 steps.\n",
      "Data shape for PLMS sampling is (5, 3, 64, 64)\n",
      "Running PLMS Sampling with 250 timesteps\n"
     ]
    },
    {
     "name": "stderr",
     "output_type": "stream",
     "text": [
      "PLMS Sampler: 100%|██████████| 250/250 [00:12<00:00, 20.16it/s]\n"
     ]
    },
    {
     "name": "stdout",
     "output_type": "stream",
     "text": [
      "rendering 5 examples in 250 steps.\n",
      "Data shape for PLMS sampling is (5, 3, 64, 64)\n",
      "Running PLMS Sampling with 250 timesteps\n"
     ]
    },
    {
     "name": "stderr",
     "output_type": "stream",
     "text": [
      "PLMS Sampler: 100%|██████████| 250/250 [00:12<00:00, 20.16it/s]\n"
     ]
    },
    {
     "name": "stdout",
     "output_type": "stream",
     "text": [
      "rendering 5 examples in 250 steps.\n",
      "Data shape for PLMS sampling is (5, 3, 64, 64)\n",
      "Running PLMS Sampling with 250 timesteps\n"
     ]
    },
    {
     "name": "stderr",
     "output_type": "stream",
     "text": [
      "PLMS Sampler: 100%|██████████| 250/250 [00:12<00:00, 20.16it/s]\n"
     ]
    },
    {
     "name": "stdout",
     "output_type": "stream",
     "text": [
      "rendering 5 examples in 250 steps.\n",
      "Data shape for PLMS sampling is (5, 3, 64, 64)\n",
      "Running PLMS Sampling with 250 timesteps\n"
     ]
    },
    {
     "name": "stderr",
     "output_type": "stream",
     "text": [
      "PLMS Sampler: 100%|██████████| 250/250 [00:12<00:00, 20.16it/s]\n"
     ]
    },
    {
     "name": "stdout",
     "output_type": "stream",
     "text": [
      "rendering 5 examples in 250 steps.\n",
      "Data shape for PLMS sampling is (5, 3, 64, 64)\n",
      "Running PLMS Sampling with 250 timesteps\n"
     ]
    },
    {
     "name": "stderr",
     "output_type": "stream",
     "text": [
      "PLMS Sampler: 100%|██████████| 250/250 [00:12<00:00, 20.17it/s]\n"
     ]
    },
    {
     "name": "stdout",
     "output_type": "stream",
     "text": [
      "rendering 5 examples in 250 steps.\n",
      "Data shape for PLMS sampling is (5, 3, 64, 64)\n",
      "Running PLMS Sampling with 250 timesteps\n"
     ]
    },
    {
     "name": "stderr",
     "output_type": "stream",
     "text": [
      "PLMS Sampler: 100%|██████████| 250/250 [00:12<00:00, 20.17it/s]\n"
     ]
    },
    {
     "name": "stdout",
     "output_type": "stream",
     "text": [
      "rendering 5 examples in 250 steps.\n",
      "Data shape for PLMS sampling is (5, 3, 64, 64)\n",
      "Running PLMS Sampling with 250 timesteps\n"
     ]
    },
    {
     "name": "stderr",
     "output_type": "stream",
     "text": [
      "PLMS Sampler: 100%|██████████| 250/250 [00:12<00:00, 20.17it/s]\n"
     ]
    },
    {
     "name": "stdout",
     "output_type": "stream",
     "text": [
      "rendering 5 examples in 250 steps.\n",
      "Data shape for PLMS sampling is (5, 3, 64, 64)\n",
      "Running PLMS Sampling with 250 timesteps\n"
     ]
    },
    {
     "name": "stderr",
     "output_type": "stream",
     "text": [
      "PLMS Sampler: 100%|██████████| 250/250 [00:12<00:00, 20.19it/s]\n"
     ]
    },
    {
     "name": "stdout",
     "output_type": "stream",
     "text": [
      "rendering 5 examples in 250 steps.\n",
      "Data shape for PLMS sampling is (5, 3, 64, 64)\n",
      "Running PLMS Sampling with 250 timesteps\n"
     ]
    },
    {
     "name": "stderr",
     "output_type": "stream",
     "text": [
      "PLMS Sampler: 100%|██████████| 250/250 [00:12<00:00, 20.15it/s]\n"
     ]
    },
    {
     "name": "stdout",
     "output_type": "stream",
     "text": [
      "rendering 5 examples in 250 steps.\n",
      "Data shape for PLMS sampling is (5, 3, 64, 64)\n",
      "Running PLMS Sampling with 250 timesteps\n"
     ]
    },
    {
     "name": "stderr",
     "output_type": "stream",
     "text": [
      "PLMS Sampler: 100%|██████████| 250/250 [00:12<00:00, 20.17it/s]\n"
     ]
    },
    {
     "name": "stdout",
     "output_type": "stream",
     "text": [
      "rendering 5 examples in 250 steps.\n",
      "Data shape for PLMS sampling is (5, 3, 64, 64)\n",
      "Running PLMS Sampling with 250 timesteps\n"
     ]
    },
    {
     "name": "stderr",
     "output_type": "stream",
     "text": [
      "PLMS Sampler: 100%|██████████| 250/250 [00:12<00:00, 20.18it/s]\n"
     ]
    },
    {
     "name": "stdout",
     "output_type": "stream",
     "text": [
      "rendering 5 examples in 250 steps.\n",
      "Data shape for PLMS sampling is (5, 3, 64, 64)\n",
      "Running PLMS Sampling with 250 timesteps\n"
     ]
    },
    {
     "name": "stderr",
     "output_type": "stream",
     "text": [
      "PLMS Sampler: 100%|██████████| 250/250 [00:12<00:00, 20.15it/s]\n"
     ]
    },
    {
     "name": "stdout",
     "output_type": "stream",
     "text": [
      "rendering 5 examples in 250 steps.\n",
      "Data shape for PLMS sampling is (5, 3, 64, 64)\n",
      "Running PLMS Sampling with 250 timesteps\n"
     ]
    },
    {
     "name": "stderr",
     "output_type": "stream",
     "text": [
      "PLMS Sampler: 100%|██████████| 250/250 [00:13<00:00, 18.07it/s]\n"
     ]
    },
    {
     "name": "stdout",
     "output_type": "stream",
     "text": [
      "rendering 5 examples in 250 steps.\n",
      "Data shape for PLMS sampling is (5, 3, 64, 64)\n",
      "Running PLMS Sampling with 250 timesteps\n"
     ]
    },
    {
     "name": "stderr",
     "output_type": "stream",
     "text": [
      "PLMS Sampler: 100%|██████████| 250/250 [00:12<00:00, 20.14it/s]\n"
     ]
    },
    {
     "name": "stdout",
     "output_type": "stream",
     "text": [
      "rendering 5 examples in 250 steps.\n",
      "Data shape for PLMS sampling is (5, 3, 64, 64)\n",
      "Running PLMS Sampling with 250 timesteps\n"
     ]
    },
    {
     "name": "stderr",
     "output_type": "stream",
     "text": [
      "PLMS Sampler: 100%|██████████| 250/250 [00:12<00:00, 20.13it/s]\n"
     ]
    },
    {
     "name": "stdout",
     "output_type": "stream",
     "text": [
      "rendering 5 examples in 250 steps.\n",
      "Data shape for PLMS sampling is (5, 3, 64, 64)\n",
      "Running PLMS Sampling with 250 timesteps\n"
     ]
    },
    {
     "name": "stderr",
     "output_type": "stream",
     "text": [
      "PLMS Sampler: 100%|██████████| 250/250 [00:12<00:00, 20.14it/s]\n"
     ]
    },
    {
     "name": "stdout",
     "output_type": "stream",
     "text": [
      "rendering 5 examples in 250 steps.\n",
      "Data shape for PLMS sampling is (5, 3, 64, 64)\n",
      "Running PLMS Sampling with 250 timesteps\n"
     ]
    },
    {
     "name": "stderr",
     "output_type": "stream",
     "text": [
      "PLMS Sampler: 100%|██████████| 250/250 [00:12<00:00, 20.13it/s]\n"
     ]
    },
    {
     "name": "stdout",
     "output_type": "stream",
     "text": [
      "rendering 5 examples in 250 steps.\n",
      "Data shape for PLMS sampling is (5, 3, 64, 64)\n",
      "Running PLMS Sampling with 250 timesteps\n"
     ]
    },
    {
     "name": "stderr",
     "output_type": "stream",
     "text": [
      "PLMS Sampler: 100%|██████████| 250/250 [00:12<00:00, 20.12it/s]\n"
     ]
    },
    {
     "name": "stdout",
     "output_type": "stream",
     "text": [
      "rendering 5 examples in 250 steps.\n",
      "Data shape for PLMS sampling is (5, 3, 64, 64)\n",
      "Running PLMS Sampling with 250 timesteps\n"
     ]
    },
    {
     "name": "stderr",
     "output_type": "stream",
     "text": [
      "PLMS Sampler: 100%|██████████| 250/250 [00:12<00:00, 20.13it/s]\n"
     ]
    },
    {
     "name": "stdout",
     "output_type": "stream",
     "text": [
      "rendering 5 examples in 250 steps.\n",
      "Data shape for PLMS sampling is (5, 3, 64, 64)\n",
      "Running PLMS Sampling with 250 timesteps\n"
     ]
    },
    {
     "name": "stderr",
     "output_type": "stream",
     "text": [
      "PLMS Sampler: 100%|██████████| 250/250 [00:12<00:00, 20.13it/s]\n"
     ]
    },
    {
     "name": "stdout",
     "output_type": "stream",
     "text": [
      "rendering 5 examples in 250 steps.\n",
      "Data shape for PLMS sampling is (5, 3, 64, 64)\n",
      "Running PLMS Sampling with 250 timesteps\n"
     ]
    },
    {
     "name": "stderr",
     "output_type": "stream",
     "text": [
      "PLMS Sampler: 100%|██████████| 250/250 [00:12<00:00, 20.12it/s]\n"
     ]
    },
    {
     "name": "stdout",
     "output_type": "stream",
     "text": [
      "rendering 5 examples in 250 steps.\n",
      "Data shape for PLMS sampling is (5, 3, 64, 64)\n",
      "Running PLMS Sampling with 250 timesteps\n"
     ]
    },
    {
     "name": "stderr",
     "output_type": "stream",
     "text": [
      "PLMS Sampler: 100%|██████████| 250/250 [00:12<00:00, 20.13it/s]\n"
     ]
    },
    {
     "name": "stdout",
     "output_type": "stream",
     "text": [
      "rendering 5 examples in 250 steps.\n",
      "Data shape for PLMS sampling is (5, 3, 64, 64)\n",
      "Running PLMS Sampling with 250 timesteps\n"
     ]
    },
    {
     "name": "stderr",
     "output_type": "stream",
     "text": [
      "PLMS Sampler: 100%|██████████| 250/250 [00:12<00:00, 20.13it/s]\n"
     ]
    },
    {
     "name": "stdout",
     "output_type": "stream",
     "text": [
      "rendering 5 examples in 250 steps.\n",
      "Data shape for PLMS sampling is (5, 3, 64, 64)\n",
      "Running PLMS Sampling with 250 timesteps\n"
     ]
    },
    {
     "name": "stderr",
     "output_type": "stream",
     "text": [
      "PLMS Sampler: 100%|██████████| 250/250 [00:12<00:00, 20.12it/s]\n"
     ]
    },
    {
     "name": "stdout",
     "output_type": "stream",
     "text": [
      "rendering 5 examples in 250 steps.\n",
      "Data shape for PLMS sampling is (5, 3, 64, 64)\n",
      "Running PLMS Sampling with 250 timesteps\n"
     ]
    },
    {
     "name": "stderr",
     "output_type": "stream",
     "text": [
      "PLMS Sampler: 100%|██████████| 250/250 [00:12<00:00, 20.10it/s]\n"
     ]
    },
    {
     "name": "stdout",
     "output_type": "stream",
     "text": [
      "rendering 5 examples in 250 steps.\n",
      "Data shape for PLMS sampling is (5, 3, 64, 64)\n",
      "Running PLMS Sampling with 250 timesteps\n"
     ]
    },
    {
     "name": "stderr",
     "output_type": "stream",
     "text": [
      "PLMS Sampler: 100%|██████████| 250/250 [00:12<00:00, 20.13it/s]\n"
     ]
    },
    {
     "name": "stdout",
     "output_type": "stream",
     "text": [
      "rendering 5 examples in 250 steps.\n",
      "Data shape for PLMS sampling is (5, 3, 64, 64)\n",
      "Running PLMS Sampling with 250 timesteps\n"
     ]
    },
    {
     "name": "stderr",
     "output_type": "stream",
     "text": [
      "PLMS Sampler: 100%|██████████| 250/250 [00:12<00:00, 20.13it/s]\n"
     ]
    },
    {
     "name": "stdout",
     "output_type": "stream",
     "text": [
      "rendering 5 examples in 250 steps.\n",
      "Data shape for PLMS sampling is (5, 3, 64, 64)\n",
      "Running PLMS Sampling with 250 timesteps\n"
     ]
    },
    {
     "name": "stderr",
     "output_type": "stream",
     "text": [
      "PLMS Sampler: 100%|██████████| 250/250 [00:12<00:00, 20.13it/s]\n"
     ]
    },
    {
     "name": "stdout",
     "output_type": "stream",
     "text": [
      "rendering 5 examples in 250 steps.\n",
      "Data shape for PLMS sampling is (5, 3, 64, 64)\n",
      "Running PLMS Sampling with 250 timesteps\n"
     ]
    },
    {
     "name": "stderr",
     "output_type": "stream",
     "text": [
      "PLMS Sampler: 100%|██████████| 250/250 [00:12<00:00, 20.14it/s]\n"
     ]
    },
    {
     "name": "stdout",
     "output_type": "stream",
     "text": [
      "rendering 5 examples in 250 steps.\n",
      "Data shape for PLMS sampling is (5, 3, 64, 64)\n",
      "Running PLMS Sampling with 250 timesteps\n"
     ]
    },
    {
     "name": "stderr",
     "output_type": "stream",
     "text": [
      "PLMS Sampler: 100%|██████████| 250/250 [00:12<00:00, 20.13it/s]\n"
     ]
    },
    {
     "name": "stdout",
     "output_type": "stream",
     "text": [
      "rendering 5 examples in 250 steps.\n",
      "Data shape for PLMS sampling is (5, 3, 64, 64)\n",
      "Running PLMS Sampling with 250 timesteps\n"
     ]
    },
    {
     "name": "stderr",
     "output_type": "stream",
     "text": [
      "PLMS Sampler: 100%|██████████| 250/250 [00:12<00:00, 20.12it/s]\n"
     ]
    },
    {
     "name": "stdout",
     "output_type": "stream",
     "text": [
      "rendering 5 examples in 250 steps.\n",
      "Data shape for PLMS sampling is (5, 3, 64, 64)\n",
      "Running PLMS Sampling with 250 timesteps\n"
     ]
    },
    {
     "name": "stderr",
     "output_type": "stream",
     "text": [
      "PLMS Sampler: 100%|██████████| 250/250 [00:12<00:00, 20.13it/s]\n"
     ]
    },
    {
     "name": "stdout",
     "output_type": "stream",
     "text": [
      "rendering 5 examples in 250 steps.\n",
      "Data shape for PLMS sampling is (5, 3, 64, 64)\n",
      "Running PLMS Sampling with 250 timesteps\n"
     ]
    },
    {
     "name": "stderr",
     "output_type": "stream",
     "text": [
      "PLMS Sampler: 100%|██████████| 250/250 [00:12<00:00, 20.10it/s]\n"
     ]
    },
    {
     "name": "stdout",
     "output_type": "stream",
     "text": [
      "rendering 5 examples in 250 steps.\n",
      "Data shape for PLMS sampling is (5, 3, 64, 64)\n",
      "Running PLMS Sampling with 250 timesteps\n"
     ]
    },
    {
     "name": "stderr",
     "output_type": "stream",
     "text": [
      "PLMS Sampler: 100%|██████████| 250/250 [00:12<00:00, 20.14it/s]\n"
     ]
    },
    {
     "name": "stdout",
     "output_type": "stream",
     "text": [
      "rendering 5 examples in 250 steps.\n",
      "Data shape for PLMS sampling is (5, 3, 64, 64)\n",
      "Running PLMS Sampling with 250 timesteps\n"
     ]
    },
    {
     "name": "stderr",
     "output_type": "stream",
     "text": [
      "PLMS Sampler: 100%|██████████| 250/250 [00:12<00:00, 20.18it/s]\n"
     ]
    },
    {
     "name": "stdout",
     "output_type": "stream",
     "text": [
      "rendering 5 examples in 250 steps.\n",
      "Data shape for PLMS sampling is (5, 3, 64, 64)\n",
      "Running PLMS Sampling with 250 timesteps\n"
     ]
    },
    {
     "name": "stderr",
     "output_type": "stream",
     "text": [
      "PLMS Sampler: 100%|██████████| 250/250 [00:12<00:00, 20.17it/s]\n"
     ]
    },
    {
     "name": "stdout",
     "output_type": "stream",
     "text": [
      "rendering 5 examples in 250 steps.\n",
      "Data shape for PLMS sampling is (5, 3, 64, 64)\n",
      "Running PLMS Sampling with 250 timesteps\n"
     ]
    },
    {
     "name": "stderr",
     "output_type": "stream",
     "text": [
      "PLMS Sampler: 100%|██████████| 250/250 [00:12<00:00, 20.18it/s]\n"
     ]
    },
    {
     "name": "stdout",
     "output_type": "stream",
     "text": [
      "rendering 5 examples in 250 steps.\n",
      "Data shape for PLMS sampling is (5, 3, 64, 64)\n",
      "Running PLMS Sampling with 250 timesteps\n"
     ]
    },
    {
     "name": "stderr",
     "output_type": "stream",
     "text": [
      "PLMS Sampler: 100%|██████████| 250/250 [00:12<00:00, 20.15it/s]\n"
     ]
    },
    {
     "name": "stdout",
     "output_type": "stream",
     "text": [
      "rendering 5 examples in 250 steps.\n",
      "Data shape for PLMS sampling is (5, 3, 64, 64)\n",
      "Running PLMS Sampling with 250 timesteps\n"
     ]
    },
    {
     "name": "stderr",
     "output_type": "stream",
     "text": [
      "PLMS Sampler: 100%|██████████| 250/250 [00:12<00:00, 20.18it/s]\n"
     ]
    },
    {
     "name": "stdout",
     "output_type": "stream",
     "text": [
      "rendering 5 examples in 250 steps.\n",
      "Data shape for PLMS sampling is (5, 3, 64, 64)\n",
      "Running PLMS Sampling with 250 timesteps\n"
     ]
    },
    {
     "name": "stderr",
     "output_type": "stream",
     "text": [
      "PLMS Sampler: 100%|██████████| 250/250 [00:12<00:00, 20.18it/s]\n"
     ]
    },
    {
     "name": "stdout",
     "output_type": "stream",
     "text": [
      "rendering 5 examples in 250 steps.\n",
      "Data shape for PLMS sampling is (5, 3, 64, 64)\n",
      "Running PLMS Sampling with 250 timesteps\n"
     ]
    },
    {
     "name": "stderr",
     "output_type": "stream",
     "text": [
      "PLMS Sampler: 100%|██████████| 250/250 [00:12<00:00, 20.18it/s]\n"
     ]
    },
    {
     "name": "stdout",
     "output_type": "stream",
     "text": [
      "rendering 5 examples in 250 steps.\n",
      "Data shape for PLMS sampling is (5, 3, 64, 64)\n",
      "Running PLMS Sampling with 250 timesteps\n"
     ]
    },
    {
     "name": "stderr",
     "output_type": "stream",
     "text": [
      "PLMS Sampler: 100%|██████████| 250/250 [00:12<00:00, 20.17it/s]\n"
     ]
    },
    {
     "name": "stdout",
     "output_type": "stream",
     "text": [
      "rendering 5 examples in 250 steps.\n",
      "Data shape for PLMS sampling is (5, 3, 64, 64)\n",
      "Running PLMS Sampling with 250 timesteps\n"
     ]
    },
    {
     "name": "stderr",
     "output_type": "stream",
     "text": [
      "PLMS Sampler: 100%|██████████| 250/250 [00:12<00:00, 20.17it/s]\n"
     ]
    },
    {
     "name": "stdout",
     "output_type": "stream",
     "text": [
      "rendering 5 examples in 250 steps.\n",
      "Data shape for PLMS sampling is (5, 3, 64, 64)\n",
      "Running PLMS Sampling with 250 timesteps\n"
     ]
    },
    {
     "name": "stderr",
     "output_type": "stream",
     "text": [
      "PLMS Sampler: 100%|██████████| 250/250 [00:12<00:00, 20.16it/s]\n"
     ]
    },
    {
     "name": "stdout",
     "output_type": "stream",
     "text": [
      "rendering 5 examples in 250 steps.\n",
      "Data shape for PLMS sampling is (5, 3, 64, 64)\n",
      "Running PLMS Sampling with 250 timesteps\n"
     ]
    },
    {
     "name": "stderr",
     "output_type": "stream",
     "text": [
      "PLMS Sampler: 100%|██████████| 250/250 [00:12<00:00, 20.17it/s]\n"
     ]
    },
    {
     "name": "stdout",
     "output_type": "stream",
     "text": [
      "rendering 5 examples in 250 steps.\n",
      "Data shape for PLMS sampling is (5, 3, 64, 64)\n",
      "Running PLMS Sampling with 250 timesteps\n"
     ]
    },
    {
     "name": "stderr",
     "output_type": "stream",
     "text": [
      "PLMS Sampler: 100%|██████████| 250/250 [00:12<00:00, 20.17it/s]\n"
     ]
    },
    {
     "name": "stdout",
     "output_type": "stream",
     "text": [
      "rendering 5 examples in 250 steps.\n",
      "Data shape for PLMS sampling is (5, 3, 64, 64)\n",
      "Running PLMS Sampling with 250 timesteps\n"
     ]
    },
    {
     "name": "stderr",
     "output_type": "stream",
     "text": [
      "PLMS Sampler: 100%|██████████| 250/250 [00:12<00:00, 20.17it/s]\n"
     ]
    },
    {
     "name": "stdout",
     "output_type": "stream",
     "text": [
      "rendering 5 examples in 250 steps.\n",
      "Data shape for PLMS sampling is (5, 3, 64, 64)\n",
      "Running PLMS Sampling with 250 timesteps\n"
     ]
    },
    {
     "name": "stderr",
     "output_type": "stream",
     "text": [
      "PLMS Sampler: 100%|██████████| 250/250 [00:12<00:00, 20.17it/s]\n"
     ]
    },
    {
     "name": "stdout",
     "output_type": "stream",
     "text": [
      "rendering 5 examples in 250 steps.\n",
      "Data shape for PLMS sampling is (5, 3, 64, 64)\n",
      "Running PLMS Sampling with 250 timesteps\n"
     ]
    },
    {
     "name": "stderr",
     "output_type": "stream",
     "text": [
      "PLMS Sampler: 100%|██████████| 250/250 [00:12<00:00, 20.18it/s]\n"
     ]
    },
    {
     "name": "stdout",
     "output_type": "stream",
     "text": [
      "rendering 5 examples in 250 steps.\n",
      "Data shape for PLMS sampling is (5, 3, 64, 64)\n",
      "Running PLMS Sampling with 250 timesteps\n"
     ]
    },
    {
     "name": "stderr",
     "output_type": "stream",
     "text": [
      "PLMS Sampler: 100%|██████████| 250/250 [00:12<00:00, 20.19it/s]\n"
     ]
    },
    {
     "name": "stdout",
     "output_type": "stream",
     "text": [
      "rendering 5 examples in 250 steps.\n",
      "Data shape for PLMS sampling is (5, 3, 64, 64)\n",
      "Running PLMS Sampling with 250 timesteps\n"
     ]
    },
    {
     "name": "stderr",
     "output_type": "stream",
     "text": [
      "PLMS Sampler: 100%|██████████| 250/250 [00:12<00:00, 20.18it/s]\n"
     ]
    },
    {
     "name": "stdout",
     "output_type": "stream",
     "text": [
      "rendering 5 examples in 250 steps.\n",
      "Data shape for PLMS sampling is (5, 3, 64, 64)\n",
      "Running PLMS Sampling with 250 timesteps\n"
     ]
    },
    {
     "name": "stderr",
     "output_type": "stream",
     "text": [
      "PLMS Sampler: 100%|██████████| 250/250 [00:12<00:00, 20.18it/s]\n"
     ]
    },
    {
     "name": "stdout",
     "output_type": "stream",
     "text": [
      "rendering 5 examples in 250 steps.\n",
      "Data shape for PLMS sampling is (5, 3, 64, 64)\n",
      "Running PLMS Sampling with 250 timesteps\n"
     ]
    },
    {
     "name": "stderr",
     "output_type": "stream",
     "text": [
      "PLMS Sampler: 100%|██████████| 250/250 [00:12<00:00, 20.17it/s]\n"
     ]
    },
    {
     "name": "stdout",
     "output_type": "stream",
     "text": [
      "rendering 5 examples in 250 steps.\n",
      "Data shape for PLMS sampling is (5, 3, 64, 64)\n",
      "Running PLMS Sampling with 250 timesteps\n"
     ]
    },
    {
     "name": "stderr",
     "output_type": "stream",
     "text": [
      "PLMS Sampler: 100%|██████████| 250/250 [00:12<00:00, 20.18it/s]\n"
     ]
    },
    {
     "name": "stdout",
     "output_type": "stream",
     "text": [
      "rendering 5 examples in 250 steps.\n",
      "Data shape for PLMS sampling is (5, 3, 64, 64)\n",
      "Running PLMS Sampling with 250 timesteps\n"
     ]
    },
    {
     "name": "stderr",
     "output_type": "stream",
     "text": [
      "PLMS Sampler: 100%|██████████| 250/250 [00:12<00:00, 20.18it/s]\n"
     ]
    },
    {
     "name": "stdout",
     "output_type": "stream",
     "text": [
      "rendering 5 examples in 250 steps.\n",
      "Data shape for PLMS sampling is (5, 3, 64, 64)\n",
      "Running PLMS Sampling with 250 timesteps\n"
     ]
    },
    {
     "name": "stderr",
     "output_type": "stream",
     "text": [
      "PLMS Sampler: 100%|██████████| 250/250 [00:12<00:00, 20.18it/s]\n"
     ]
    },
    {
     "name": "stdout",
     "output_type": "stream",
     "text": [
      "rendering 5 examples in 250 steps.\n",
      "Data shape for PLMS sampling is (5, 3, 64, 64)\n",
      "Running PLMS Sampling with 250 timesteps\n"
     ]
    },
    {
     "name": "stderr",
     "output_type": "stream",
     "text": [
      "PLMS Sampler: 100%|██████████| 250/250 [00:12<00:00, 20.18it/s]\n"
     ]
    },
    {
     "name": "stdout",
     "output_type": "stream",
     "text": [
      "rendering 5 examples in 250 steps.\n",
      "Data shape for PLMS sampling is (5, 3, 64, 64)\n",
      "Running PLMS Sampling with 250 timesteps\n"
     ]
    },
    {
     "name": "stderr",
     "output_type": "stream",
     "text": [
      "PLMS Sampler: 100%|██████████| 250/250 [00:12<00:00, 20.18it/s]\n"
     ]
    },
    {
     "name": "stdout",
     "output_type": "stream",
     "text": [
      "rendering 5 examples in 250 steps.\n",
      "Data shape for PLMS sampling is (5, 3, 64, 64)\n",
      "Running PLMS Sampling with 250 timesteps\n"
     ]
    },
    {
     "name": "stderr",
     "output_type": "stream",
     "text": [
      "PLMS Sampler: 100%|██████████| 250/250 [00:12<00:00, 20.17it/s]\n"
     ]
    },
    {
     "name": "stdout",
     "output_type": "stream",
     "text": [
      "rendering 5 examples in 250 steps.\n",
      "Data shape for PLMS sampling is (5, 3, 64, 64)\n",
      "Running PLMS Sampling with 250 timesteps\n"
     ]
    },
    {
     "name": "stderr",
     "output_type": "stream",
     "text": [
      "PLMS Sampler: 100%|██████████| 250/250 [00:12<00:00, 20.17it/s]\n"
     ]
    },
    {
     "name": "stdout",
     "output_type": "stream",
     "text": [
      "rendering 5 examples in 250 steps.\n",
      "Data shape for PLMS sampling is (5, 3, 64, 64)\n",
      "Running PLMS Sampling with 250 timesteps\n"
     ]
    },
    {
     "name": "stderr",
     "output_type": "stream",
     "text": [
      "PLMS Sampler: 100%|██████████| 250/250 [00:12<00:00, 20.18it/s]\n"
     ]
    },
    {
     "name": "stdout",
     "output_type": "stream",
     "text": [
      "rendering 5 examples in 250 steps.\n",
      "Data shape for PLMS sampling is (5, 3, 64, 64)\n",
      "Running PLMS Sampling with 250 timesteps\n"
     ]
    },
    {
     "name": "stderr",
     "output_type": "stream",
     "text": [
      "PLMS Sampler: 100%|██████████| 250/250 [00:12<00:00, 20.17it/s]\n"
     ]
    },
    {
     "name": "stdout",
     "output_type": "stream",
     "text": [
      "rendering 5 examples in 250 steps.\n",
      "Data shape for PLMS sampling is (5, 3, 64, 64)\n",
      "Running PLMS Sampling with 250 timesteps\n"
     ]
    },
    {
     "name": "stderr",
     "output_type": "stream",
     "text": [
      "PLMS Sampler: 100%|██████████| 250/250 [00:12<00:00, 20.18it/s]\n"
     ]
    },
    {
     "name": "stdout",
     "output_type": "stream",
     "text": [
      "rendering 5 examples in 250 steps.\n",
      "Data shape for PLMS sampling is (5, 3, 64, 64)\n",
      "Running PLMS Sampling with 250 timesteps\n"
     ]
    },
    {
     "name": "stderr",
     "output_type": "stream",
     "text": [
      "PLMS Sampler: 100%|██████████| 250/250 [00:12<00:00, 20.18it/s]\n"
     ]
    },
    {
     "name": "stdout",
     "output_type": "stream",
     "text": [
      "rendering 5 examples in 250 steps.\n",
      "Data shape for PLMS sampling is (5, 3, 64, 64)\n",
      "Running PLMS Sampling with 250 timesteps\n"
     ]
    },
    {
     "name": "stderr",
     "output_type": "stream",
     "text": [
      "PLMS Sampler: 100%|██████████| 250/250 [00:12<00:00, 20.16it/s]\n"
     ]
    },
    {
     "name": "stdout",
     "output_type": "stream",
     "text": [
      "rendering 5 examples in 250 steps.\n",
      "Data shape for PLMS sampling is (5, 3, 64, 64)\n",
      "Running PLMS Sampling with 250 timesteps\n"
     ]
    },
    {
     "name": "stderr",
     "output_type": "stream",
     "text": [
      "PLMS Sampler: 100%|██████████| 250/250 [00:12<00:00, 20.18it/s]\n"
     ]
    },
    {
     "name": "stdout",
     "output_type": "stream",
     "text": [
      "rendering 5 examples in 250 steps.\n",
      "Data shape for PLMS sampling is (5, 3, 64, 64)\n",
      "Running PLMS Sampling with 250 timesteps\n"
     ]
    },
    {
     "name": "stderr",
     "output_type": "stream",
     "text": [
      "PLMS Sampler: 100%|██████████| 250/250 [00:12<00:00, 20.17it/s]\n"
     ]
    },
    {
     "name": "stdout",
     "output_type": "stream",
     "text": [
      "rendering 5 examples in 250 steps.\n",
      "Data shape for PLMS sampling is (5, 3, 64, 64)\n",
      "Running PLMS Sampling with 250 timesteps\n"
     ]
    },
    {
     "name": "stderr",
     "output_type": "stream",
     "text": [
      "PLMS Sampler: 100%|██████████| 250/250 [00:12<00:00, 20.17it/s]\n"
     ]
    },
    {
     "name": "stdout",
     "output_type": "stream",
     "text": [
      "rendering 5 examples in 250 steps.\n",
      "Data shape for PLMS sampling is (5, 3, 64, 64)\n",
      "Running PLMS Sampling with 250 timesteps\n"
     ]
    },
    {
     "name": "stderr",
     "output_type": "stream",
     "text": [
      "PLMS Sampler: 100%|██████████| 250/250 [00:12<00:00, 20.18it/s]\n"
     ]
    },
    {
     "name": "stdout",
     "output_type": "stream",
     "text": [
      "rendering 5 examples in 250 steps.\n",
      "Data shape for PLMS sampling is (5, 3, 64, 64)\n",
      "Running PLMS Sampling with 250 timesteps\n"
     ]
    },
    {
     "name": "stderr",
     "output_type": "stream",
     "text": [
      "PLMS Sampler: 100%|██████████| 250/250 [00:12<00:00, 20.15it/s]\n"
     ]
    },
    {
     "name": "stdout",
     "output_type": "stream",
     "text": [
      "rendering 5 examples in 250 steps.\n",
      "Data shape for PLMS sampling is (5, 3, 64, 64)\n",
      "Running PLMS Sampling with 250 timesteps\n"
     ]
    },
    {
     "name": "stderr",
     "output_type": "stream",
     "text": [
      "PLMS Sampler: 100%|██████████| 250/250 [00:12<00:00, 20.18it/s]\n"
     ]
    },
    {
     "name": "stdout",
     "output_type": "stream",
     "text": [
      "rendering 5 examples in 250 steps.\n",
      "Data shape for PLMS sampling is (5, 3, 64, 64)\n",
      "Running PLMS Sampling with 250 timesteps\n"
     ]
    },
    {
     "name": "stderr",
     "output_type": "stream",
     "text": [
      "PLMS Sampler: 100%|██████████| 250/250 [00:12<00:00, 20.18it/s]\n"
     ]
    },
    {
     "name": "stdout",
     "output_type": "stream",
     "text": [
      "rendering 5 examples in 250 steps.\n",
      "Data shape for PLMS sampling is (5, 3, 64, 64)\n",
      "Running PLMS Sampling with 250 timesteps\n"
     ]
    },
    {
     "name": "stderr",
     "output_type": "stream",
     "text": [
      "PLMS Sampler: 100%|██████████| 250/250 [00:12<00:00, 20.17it/s]\n"
     ]
    },
    {
     "name": "stdout",
     "output_type": "stream",
     "text": [
      "rendering 5 examples in 250 steps.\n",
      "Data shape for PLMS sampling is (5, 3, 64, 64)\n",
      "Running PLMS Sampling with 250 timesteps\n"
     ]
    },
    {
     "name": "stderr",
     "output_type": "stream",
     "text": [
      "PLMS Sampler: 100%|██████████| 250/250 [00:12<00:00, 20.17it/s]\n"
     ]
    },
    {
     "name": "stdout",
     "output_type": "stream",
     "text": [
      "rendering 5 examples in 250 steps.\n",
      "Data shape for PLMS sampling is (5, 3, 64, 64)\n",
      "Running PLMS Sampling with 250 timesteps\n"
     ]
    },
    {
     "name": "stderr",
     "output_type": "stream",
     "text": [
      "PLMS Sampler: 100%|██████████| 250/250 [00:12<00:00, 20.17it/s]\n"
     ]
    },
    {
     "name": "stdout",
     "output_type": "stream",
     "text": [
      "rendering 5 examples in 250 steps.\n",
      "Data shape for PLMS sampling is (5, 3, 64, 64)\n",
      "Running PLMS Sampling with 250 timesteps\n"
     ]
    },
    {
     "name": "stderr",
     "output_type": "stream",
     "text": [
      "PLMS Sampler: 100%|██████████| 250/250 [00:12<00:00, 20.19it/s]\n"
     ]
    },
    {
     "name": "stdout",
     "output_type": "stream",
     "text": [
      "rendering 5 examples in 250 steps.\n",
      "Data shape for PLMS sampling is (5, 3, 64, 64)\n",
      "Running PLMS Sampling with 250 timesteps\n"
     ]
    },
    {
     "name": "stderr",
     "output_type": "stream",
     "text": [
      "PLMS Sampler: 100%|██████████| 250/250 [00:12<00:00, 20.18it/s]\n"
     ]
    },
    {
     "name": "stdout",
     "output_type": "stream",
     "text": [
      "rendering 5 examples in 250 steps.\n",
      "Data shape for PLMS sampling is (5, 3, 64, 64)\n",
      "Running PLMS Sampling with 250 timesteps\n"
     ]
    },
    {
     "name": "stderr",
     "output_type": "stream",
     "text": [
      "PLMS Sampler: 100%|██████████| 250/250 [00:12<00:00, 20.19it/s]\n"
     ]
    },
    {
     "name": "stdout",
     "output_type": "stream",
     "text": [
      "rendering 5 examples in 250 steps.\n",
      "Data shape for PLMS sampling is (5, 3, 64, 64)\n",
      "Running PLMS Sampling with 250 timesteps\n"
     ]
    },
    {
     "name": "stderr",
     "output_type": "stream",
     "text": [
      "PLMS Sampler: 100%|██████████| 250/250 [00:12<00:00, 20.18it/s]\n"
     ]
    },
    {
     "name": "stdout",
     "output_type": "stream",
     "text": [
      "rendering 5 examples in 250 steps.\n",
      "Data shape for PLMS sampling is (5, 3, 64, 64)\n",
      "Running PLMS Sampling with 250 timesteps\n"
     ]
    },
    {
     "name": "stderr",
     "output_type": "stream",
     "text": [
      "PLMS Sampler: 100%|██████████| 250/250 [00:12<00:00, 20.18it/s]\n"
     ]
    },
    {
     "name": "stdout",
     "output_type": "stream",
     "text": [
      "rendering 5 examples in 250 steps.\n",
      "Data shape for PLMS sampling is (5, 3, 64, 64)\n",
      "Running PLMS Sampling with 250 timesteps\n"
     ]
    },
    {
     "name": "stderr",
     "output_type": "stream",
     "text": [
      "PLMS Sampler: 100%|██████████| 250/250 [00:12<00:00, 20.17it/s]\n"
     ]
    },
    {
     "name": "stdout",
     "output_type": "stream",
     "text": [
      "rendering 5 examples in 250 steps.\n",
      "Data shape for PLMS sampling is (5, 3, 64, 64)\n",
      "Running PLMS Sampling with 250 timesteps\n"
     ]
    },
    {
     "name": "stderr",
     "output_type": "stream",
     "text": [
      "PLMS Sampler: 100%|██████████| 250/250 [00:12<00:00, 20.18it/s]\n"
     ]
    },
    {
     "name": "stdout",
     "output_type": "stream",
     "text": [
      "rendering 5 examples in 250 steps.\n",
      "Data shape for PLMS sampling is (5, 3, 64, 64)\n",
      "Running PLMS Sampling with 250 timesteps\n"
     ]
    },
    {
     "name": "stderr",
     "output_type": "stream",
     "text": [
      "PLMS Sampler: 100%|██████████| 250/250 [00:12<00:00, 20.19it/s]\n"
     ]
    },
    {
     "name": "stdout",
     "output_type": "stream",
     "text": [
      "rendering 5 examples in 250 steps.\n",
      "Data shape for PLMS sampling is (5, 3, 64, 64)\n",
      "Running PLMS Sampling with 250 timesteps\n"
     ]
    },
    {
     "name": "stderr",
     "output_type": "stream",
     "text": [
      "PLMS Sampler: 100%|██████████| 250/250 [00:12<00:00, 20.19it/s]\n"
     ]
    },
    {
     "name": "stdout",
     "output_type": "stream",
     "text": [
      "rendering 5 examples in 250 steps.\n",
      "Data shape for PLMS sampling is (5, 3, 64, 64)\n",
      "Running PLMS Sampling with 250 timesteps\n"
     ]
    },
    {
     "name": "stderr",
     "output_type": "stream",
     "text": [
      "PLMS Sampler: 100%|██████████| 250/250 [00:12<00:00, 20.18it/s]\n"
     ]
    },
    {
     "name": "stdout",
     "output_type": "stream",
     "text": [
      "rendering 5 examples in 250 steps.\n",
      "Data shape for PLMS sampling is (5, 3, 64, 64)\n",
      "Running PLMS Sampling with 250 timesteps\n"
     ]
    },
    {
     "name": "stderr",
     "output_type": "stream",
     "text": [
      "PLMS Sampler: 100%|██████████| 250/250 [00:12<00:00, 20.19it/s]\n"
     ]
    },
    {
     "name": "stdout",
     "output_type": "stream",
     "text": [
      "rendering 5 examples in 250 steps.\n",
      "Data shape for PLMS sampling is (5, 3, 64, 64)\n",
      "Running PLMS Sampling with 250 timesteps\n"
     ]
    },
    {
     "name": "stderr",
     "output_type": "stream",
     "text": [
      "PLMS Sampler: 100%|██████████| 250/250 [00:12<00:00, 20.18it/s]\n"
     ]
    },
    {
     "name": "stdout",
     "output_type": "stream",
     "text": [
      "rendering 5 examples in 250 steps.\n",
      "Data shape for PLMS sampling is (5, 3, 64, 64)\n",
      "Running PLMS Sampling with 250 timesteps\n"
     ]
    },
    {
     "name": "stderr",
     "output_type": "stream",
     "text": [
      "PLMS Sampler: 100%|██████████| 250/250 [00:12<00:00, 20.19it/s]\n"
     ]
    },
    {
     "name": "stdout",
     "output_type": "stream",
     "text": [
      "rendering 5 examples in 250 steps.\n",
      "Data shape for PLMS sampling is (5, 3, 64, 64)\n",
      "Running PLMS Sampling with 250 timesteps\n"
     ]
    },
    {
     "name": "stderr",
     "output_type": "stream",
     "text": [
      "PLMS Sampler: 100%|██████████| 250/250 [00:12<00:00, 20.19it/s]\n"
     ]
    },
    {
     "name": "stdout",
     "output_type": "stream",
     "text": [
      "rendering 5 examples in 250 steps.\n",
      "Data shape for PLMS sampling is (5, 3, 64, 64)\n",
      "Running PLMS Sampling with 250 timesteps\n"
     ]
    },
    {
     "name": "stderr",
     "output_type": "stream",
     "text": [
      "PLMS Sampler: 100%|██████████| 250/250 [00:12<00:00, 20.16it/s]\n"
     ]
    },
    {
     "name": "stdout",
     "output_type": "stream",
     "text": [
      "rendering 5 examples in 250 steps.\n",
      "Data shape for PLMS sampling is (5, 3, 64, 64)\n",
      "Running PLMS Sampling with 250 timesteps\n"
     ]
    },
    {
     "name": "stderr",
     "output_type": "stream",
     "text": [
      "PLMS Sampler: 100%|██████████| 250/250 [00:12<00:00, 20.18it/s]\n"
     ]
    },
    {
     "name": "stdout",
     "output_type": "stream",
     "text": [
      "rendering 5 examples in 250 steps.\n",
      "Data shape for PLMS sampling is (5, 3, 64, 64)\n",
      "Running PLMS Sampling with 250 timesteps\n"
     ]
    },
    {
     "name": "stderr",
     "output_type": "stream",
     "text": [
      "PLMS Sampler: 100%|██████████| 250/250 [00:12<00:00, 20.17it/s]\n"
     ]
    },
    {
     "name": "stdout",
     "output_type": "stream",
     "text": [
      "rendering 5 examples in 250 steps.\n",
      "Data shape for PLMS sampling is (5, 3, 64, 64)\n",
      "Running PLMS Sampling with 250 timesteps\n"
     ]
    },
    {
     "name": "stderr",
     "output_type": "stream",
     "text": [
      "PLMS Sampler: 100%|██████████| 250/250 [00:12<00:00, 20.19it/s]\n"
     ]
    },
    {
     "name": "stdout",
     "output_type": "stream",
     "text": [
      "rendering 5 examples in 250 steps.\n",
      "Data shape for PLMS sampling is (5, 3, 64, 64)\n",
      "Running PLMS Sampling with 250 timesteps\n"
     ]
    },
    {
     "name": "stderr",
     "output_type": "stream",
     "text": [
      "PLMS Sampler: 100%|██████████| 250/250 [00:12<00:00, 20.17it/s]\n"
     ]
    },
    {
     "name": "stdout",
     "output_type": "stream",
     "text": [
      "rendering 5 examples in 250 steps.\n",
      "Data shape for PLMS sampling is (5, 3, 64, 64)\n",
      "Running PLMS Sampling with 250 timesteps\n"
     ]
    },
    {
     "name": "stderr",
     "output_type": "stream",
     "text": [
      "PLMS Sampler: 100%|██████████| 250/250 [00:12<00:00, 20.17it/s]\n"
     ]
    },
    {
     "name": "stdout",
     "output_type": "stream",
     "text": [
      "rendering 5 examples in 250 steps.\n",
      "Data shape for PLMS sampling is (5, 3, 64, 64)\n",
      "Running PLMS Sampling with 250 timesteps\n"
     ]
    },
    {
     "name": "stderr",
     "output_type": "stream",
     "text": [
      "PLMS Sampler: 100%|██████████| 250/250 [00:12<00:00, 20.18it/s]\n"
     ]
    },
    {
     "name": "stdout",
     "output_type": "stream",
     "text": [
      "rendering 5 examples in 250 steps.\n",
      "Data shape for PLMS sampling is (5, 3, 64, 64)\n",
      "Running PLMS Sampling with 250 timesteps\n"
     ]
    },
    {
     "name": "stderr",
     "output_type": "stream",
     "text": [
      "PLMS Sampler: 100%|██████████| 250/250 [00:12<00:00, 20.17it/s]\n"
     ]
    },
    {
     "name": "stdout",
     "output_type": "stream",
     "text": [
      "rendering 5 examples in 250 steps.\n",
      "Data shape for PLMS sampling is (5, 3, 64, 64)\n",
      "Running PLMS Sampling with 250 timesteps\n"
     ]
    },
    {
     "name": "stderr",
     "output_type": "stream",
     "text": [
      "PLMS Sampler: 100%|██████████| 250/250 [00:12<00:00, 20.17it/s]\n"
     ]
    },
    {
     "name": "stdout",
     "output_type": "stream",
     "text": [
      "rendering 5 examples in 250 steps.\n",
      "Data shape for PLMS sampling is (5, 3, 64, 64)\n",
      "Running PLMS Sampling with 250 timesteps\n"
     ]
    },
    {
     "name": "stderr",
     "output_type": "stream",
     "text": [
      "PLMS Sampler: 100%|██████████| 250/250 [00:12<00:00, 20.17it/s]\n"
     ]
    },
    {
     "name": "stdout",
     "output_type": "stream",
     "text": [
      "rendering 5 examples in 250 steps.\n",
      "Data shape for PLMS sampling is (5, 3, 64, 64)\n",
      "Running PLMS Sampling with 250 timesteps\n"
     ]
    },
    {
     "name": "stderr",
     "output_type": "stream",
     "text": [
      "PLMS Sampler: 100%|██████████| 250/250 [00:12<00:00, 20.18it/s]\n"
     ]
    },
    {
     "name": "stdout",
     "output_type": "stream",
     "text": [
      "rendering 5 examples in 250 steps.\n",
      "Data shape for PLMS sampling is (5, 3, 64, 64)\n",
      "Running PLMS Sampling with 250 timesteps\n"
     ]
    },
    {
     "name": "stderr",
     "output_type": "stream",
     "text": [
      "PLMS Sampler: 100%|██████████| 250/250 [00:12<00:00, 20.19it/s]\n"
     ]
    },
    {
     "name": "stdout",
     "output_type": "stream",
     "text": [
      "rendering 5 examples in 250 steps.\n",
      "Data shape for PLMS sampling is (5, 3, 64, 64)\n",
      "Running PLMS Sampling with 250 timesteps\n"
     ]
    },
    {
     "name": "stderr",
     "output_type": "stream",
     "text": [
      "PLMS Sampler: 100%|██████████| 250/250 [00:12<00:00, 20.18it/s]\n"
     ]
    },
    {
     "name": "stdout",
     "output_type": "stream",
     "text": [
      "rendering 5 examples in 250 steps.\n",
      "Data shape for PLMS sampling is (5, 3, 64, 64)\n",
      "Running PLMS Sampling with 250 timesteps\n"
     ]
    },
    {
     "name": "stderr",
     "output_type": "stream",
     "text": [
      "PLMS Sampler: 100%|██████████| 250/250 [00:12<00:00, 20.16it/s]\n"
     ]
    },
    {
     "name": "stdout",
     "output_type": "stream",
     "text": [
      "rendering 5 examples in 250 steps.\n",
      "Data shape for PLMS sampling is (5, 3, 64, 64)\n",
      "Running PLMS Sampling with 250 timesteps\n"
     ]
    },
    {
     "name": "stderr",
     "output_type": "stream",
     "text": [
      "PLMS Sampler: 100%|██████████| 250/250 [00:12<00:00, 20.16it/s]\n"
     ]
    },
    {
     "name": "stdout",
     "output_type": "stream",
     "text": [
      "rendering 5 examples in 250 steps.\n",
      "Data shape for PLMS sampling is (5, 3, 64, 64)\n",
      "Running PLMS Sampling with 250 timesteps\n"
     ]
    },
    {
     "name": "stderr",
     "output_type": "stream",
     "text": [
      "PLMS Sampler: 100%|██████████| 250/250 [00:12<00:00, 20.19it/s]\n"
     ]
    },
    {
     "name": "stdout",
     "output_type": "stream",
     "text": [
      "rendering 5 examples in 250 steps.\n",
      "Data shape for PLMS sampling is (5, 3, 64, 64)\n",
      "Running PLMS Sampling with 250 timesteps\n"
     ]
    },
    {
     "name": "stderr",
     "output_type": "stream",
     "text": [
      "PLMS Sampler: 100%|██████████| 250/250 [00:12<00:00, 20.18it/s]\n"
     ]
    },
    {
     "name": "stdout",
     "output_type": "stream",
     "text": [
      "rendering 5 examples in 250 steps.\n",
      "Data shape for PLMS sampling is (5, 3, 64, 64)\n",
      "Running PLMS Sampling with 250 timesteps\n"
     ]
    },
    {
     "name": "stderr",
     "output_type": "stream",
     "text": [
      "PLMS Sampler: 100%|██████████| 250/250 [00:12<00:00, 20.19it/s]\n"
     ]
    },
    {
     "name": "stdout",
     "output_type": "stream",
     "text": [
      "rendering 5 examples in 250 steps.\n",
      "Data shape for PLMS sampling is (5, 3, 64, 64)\n",
      "Running PLMS Sampling with 250 timesteps\n"
     ]
    },
    {
     "name": "stderr",
     "output_type": "stream",
     "text": [
      "PLMS Sampler: 100%|██████████| 250/250 [00:12<00:00, 20.18it/s]\n"
     ]
    },
    {
     "name": "stdout",
     "output_type": "stream",
     "text": [
      "rendering 5 examples in 250 steps.\n",
      "Data shape for PLMS sampling is (5, 3, 64, 64)\n",
      "Running PLMS Sampling with 250 timesteps\n"
     ]
    },
    {
     "name": "stderr",
     "output_type": "stream",
     "text": [
      "PLMS Sampler: 100%|██████████| 250/250 [00:12<00:00, 20.17it/s]\n"
     ]
    },
    {
     "name": "stdout",
     "output_type": "stream",
     "text": [
      "rendering 5 examples in 250 steps.\n",
      "Data shape for PLMS sampling is (5, 3, 64, 64)\n",
      "Running PLMS Sampling with 250 timesteps\n"
     ]
    },
    {
     "name": "stderr",
     "output_type": "stream",
     "text": [
      "PLMS Sampler: 100%|██████████| 250/250 [00:12<00:00, 20.18it/s]\n"
     ]
    },
    {
     "name": "stdout",
     "output_type": "stream",
     "text": [
      "rendering 5 examples in 250 steps.\n",
      "Data shape for PLMS sampling is (5, 3, 64, 64)\n",
      "Running PLMS Sampling with 250 timesteps\n"
     ]
    },
    {
     "name": "stderr",
     "output_type": "stream",
     "text": [
      "PLMS Sampler: 100%|██████████| 250/250 [00:12<00:00, 20.18it/s]\n"
     ]
    },
    {
     "name": "stdout",
     "output_type": "stream",
     "text": [
      "rendering 5 examples in 250 steps.\n",
      "Data shape for PLMS sampling is (5, 3, 64, 64)\n",
      "Running PLMS Sampling with 250 timesteps\n"
     ]
    },
    {
     "name": "stderr",
     "output_type": "stream",
     "text": [
      "PLMS Sampler: 100%|██████████| 250/250 [00:12<00:00, 20.18it/s]\n"
     ]
    },
    {
     "name": "stdout",
     "output_type": "stream",
     "text": [
      "rendering 5 examples in 250 steps.\n",
      "Data shape for PLMS sampling is (5, 3, 64, 64)\n",
      "Running PLMS Sampling with 250 timesteps\n"
     ]
    },
    {
     "name": "stderr",
     "output_type": "stream",
     "text": [
      "PLMS Sampler: 100%|██████████| 250/250 [00:12<00:00, 20.19it/s]\n"
     ]
    },
    {
     "name": "stdout",
     "output_type": "stream",
     "text": [
      "rendering 5 examples in 250 steps.\n",
      "Data shape for PLMS sampling is (5, 3, 64, 64)\n",
      "Running PLMS Sampling with 250 timesteps\n"
     ]
    },
    {
     "name": "stderr",
     "output_type": "stream",
     "text": [
      "PLMS Sampler: 100%|██████████| 250/250 [00:12<00:00, 20.19it/s]\n"
     ]
    },
    {
     "name": "stdout",
     "output_type": "stream",
     "text": [
      "rendering 5 examples in 250 steps.\n",
      "Data shape for PLMS sampling is (5, 3, 64, 64)\n",
      "Running PLMS Sampling with 250 timesteps\n"
     ]
    },
    {
     "name": "stderr",
     "output_type": "stream",
     "text": [
      "PLMS Sampler: 100%|██████████| 250/250 [00:13<00:00, 18.40it/s]\n"
     ]
    },
    {
     "name": "stdout",
     "output_type": "stream",
     "text": [
      "rendering 5 examples in 250 steps.\n",
      "Data shape for PLMS sampling is (5, 3, 64, 64)\n",
      "Running PLMS Sampling with 250 timesteps\n"
     ]
    },
    {
     "name": "stderr",
     "output_type": "stream",
     "text": [
      "PLMS Sampler: 100%|██████████| 250/250 [00:12<00:00, 20.12it/s]\n"
     ]
    },
    {
     "name": "stdout",
     "output_type": "stream",
     "text": [
      "rendering 5 examples in 250 steps.\n",
      "Data shape for PLMS sampling is (5, 3, 64, 64)\n",
      "Running PLMS Sampling with 250 timesteps\n"
     ]
    },
    {
     "name": "stderr",
     "output_type": "stream",
     "text": [
      "PLMS Sampler: 100%|██████████| 250/250 [00:12<00:00, 20.19it/s]\n"
     ]
    },
    {
     "name": "stdout",
     "output_type": "stream",
     "text": [
      "rendering 5 examples in 250 steps.\n",
      "Data shape for PLMS sampling is (5, 3, 64, 64)\n",
      "Running PLMS Sampling with 250 timesteps\n"
     ]
    },
    {
     "name": "stderr",
     "output_type": "stream",
     "text": [
      "PLMS Sampler: 100%|██████████| 250/250 [00:12<00:00, 19.85it/s]\n"
     ]
    },
    {
     "name": "stdout",
     "output_type": "stream",
     "text": [
      "rendering 5 examples in 250 steps.\n",
      "Data shape for PLMS sampling is (5, 3, 64, 64)\n",
      "Running PLMS Sampling with 250 timesteps\n"
     ]
    },
    {
     "name": "stderr",
     "output_type": "stream",
     "text": [
      "PLMS Sampler: 100%|██████████| 250/250 [00:12<00:00, 20.09it/s]\n"
     ]
    },
    {
     "name": "stdout",
     "output_type": "stream",
     "text": [
      "rendering 5 examples in 250 steps.\n",
      "Data shape for PLMS sampling is (5, 3, 64, 64)\n",
      "Running PLMS Sampling with 250 timesteps\n"
     ]
    },
    {
     "name": "stderr",
     "output_type": "stream",
     "text": [
      "PLMS Sampler: 100%|██████████| 250/250 [00:12<00:00, 20.19it/s]\n"
     ]
    },
    {
     "name": "stdout",
     "output_type": "stream",
     "text": [
      "rendering 5 examples in 250 steps.\n",
      "Data shape for PLMS sampling is (5, 3, 64, 64)\n",
      "Running PLMS Sampling with 250 timesteps\n"
     ]
    },
    {
     "name": "stderr",
     "output_type": "stream",
     "text": [
      "PLMS Sampler: 100%|██████████| 250/250 [00:12<00:00, 20.19it/s]\n"
     ]
    },
    {
     "name": "stdout",
     "output_type": "stream",
     "text": [
      "rendering 5 examples in 250 steps.\n",
      "Data shape for PLMS sampling is (5, 3, 64, 64)\n",
      "Running PLMS Sampling with 250 timesteps\n"
     ]
    },
    {
     "name": "stderr",
     "output_type": "stream",
     "text": [
      "PLMS Sampler: 100%|██████████| 250/250 [00:12<00:00, 19.88it/s]\n"
     ]
    },
    {
     "name": "stdout",
     "output_type": "stream",
     "text": [
      "rendering 5 examples in 250 steps.\n",
      "Data shape for PLMS sampling is (5, 3, 64, 64)\n",
      "Running PLMS Sampling with 250 timesteps\n"
     ]
    },
    {
     "name": "stderr",
     "output_type": "stream",
     "text": [
      "PLMS Sampler: 100%|██████████| 250/250 [00:12<00:00, 20.18it/s]\n"
     ]
    },
    {
     "name": "stdout",
     "output_type": "stream",
     "text": [
      "rendering 5 examples in 250 steps.\n",
      "Data shape for PLMS sampling is (5, 3, 64, 64)\n",
      "Running PLMS Sampling with 250 timesteps\n"
     ]
    },
    {
     "name": "stderr",
     "output_type": "stream",
     "text": [
      "PLMS Sampler: 100%|██████████| 250/250 [00:15<00:00, 16.19it/s]\n"
     ]
    },
    {
     "name": "stdout",
     "output_type": "stream",
     "text": [
      "rendering 5 examples in 250 steps.\n",
      "Data shape for PLMS sampling is (5, 3, 64, 64)\n",
      "Running PLMS Sampling with 250 timesteps\n"
     ]
    },
    {
     "name": "stderr",
     "output_type": "stream",
     "text": [
      "PLMS Sampler: 100%|██████████| 250/250 [00:13<00:00, 18.00it/s]\n"
     ]
    },
    {
     "name": "stdout",
     "output_type": "stream",
     "text": [
      "rendering 5 examples in 250 steps.\n",
      "Data shape for PLMS sampling is (5, 3, 64, 64)\n",
      "Running PLMS Sampling with 250 timesteps\n"
     ]
    },
    {
     "name": "stderr",
     "output_type": "stream",
     "text": [
      "PLMS Sampler: 100%|██████████| 250/250 [00:12<00:00, 20.20it/s]\n"
     ]
    },
    {
     "name": "stdout",
     "output_type": "stream",
     "text": [
      "rendering 5 examples in 250 steps.\n",
      "Data shape for PLMS sampling is (5, 3, 64, 64)\n",
      "Running PLMS Sampling with 250 timesteps\n"
     ]
    },
    {
     "name": "stderr",
     "output_type": "stream",
     "text": [
      "PLMS Sampler: 100%|██████████| 250/250 [00:12<00:00, 20.19it/s]\n"
     ]
    },
    {
     "name": "stdout",
     "output_type": "stream",
     "text": [
      "rendering 5 examples in 250 steps.\n",
      "Data shape for PLMS sampling is (5, 3, 64, 64)\n",
      "Running PLMS Sampling with 250 timesteps\n"
     ]
    },
    {
     "name": "stderr",
     "output_type": "stream",
     "text": [
      "PLMS Sampler: 100%|██████████| 250/250 [00:12<00:00, 20.19it/s]\n"
     ]
    },
    {
     "name": "stdout",
     "output_type": "stream",
     "text": [
      "rendering 5 examples in 250 steps.\n",
      "Data shape for PLMS sampling is (5, 3, 64, 64)\n",
      "Running PLMS Sampling with 250 timesteps\n"
     ]
    },
    {
     "name": "stderr",
     "output_type": "stream",
     "text": [
      "PLMS Sampler: 100%|██████████| 250/250 [00:12<00:00, 19.92it/s]\n"
     ]
    },
    {
     "name": "stdout",
     "output_type": "stream",
     "text": [
      "rendering 5 examples in 250 steps.\n",
      "Data shape for PLMS sampling is (5, 3, 64, 64)\n",
      "Running PLMS Sampling with 250 timesteps\n"
     ]
    },
    {
     "name": "stderr",
     "output_type": "stream",
     "text": [
      "PLMS Sampler: 100%|██████████| 250/250 [00:12<00:00, 20.14it/s]\n"
     ]
    },
    {
     "name": "stdout",
     "output_type": "stream",
     "text": [
      "rendering 5 examples in 250 steps.\n",
      "Data shape for PLMS sampling is (5, 3, 64, 64)\n",
      "Running PLMS Sampling with 250 timesteps\n"
     ]
    },
    {
     "name": "stderr",
     "output_type": "stream",
     "text": [
      "PLMS Sampler: 100%|██████████| 250/250 [00:12<00:00, 20.13it/s]\n"
     ]
    },
    {
     "name": "stdout",
     "output_type": "stream",
     "text": [
      "rendering 5 examples in 250 steps.\n",
      "Data shape for PLMS sampling is (5, 3, 64, 64)\n",
      "Running PLMS Sampling with 250 timesteps\n"
     ]
    },
    {
     "name": "stderr",
     "output_type": "stream",
     "text": [
      "PLMS Sampler: 100%|██████████| 250/250 [00:12<00:00, 20.13it/s]\n"
     ]
    },
    {
     "name": "stdout",
     "output_type": "stream",
     "text": [
      "rendering 5 examples in 250 steps.\n",
      "Data shape for PLMS sampling is (5, 3, 64, 64)\n",
      "Running PLMS Sampling with 250 timesteps\n"
     ]
    },
    {
     "name": "stderr",
     "output_type": "stream",
     "text": [
      "PLMS Sampler: 100%|██████████| 250/250 [00:12<00:00, 20.20it/s]\n"
     ]
    },
    {
     "name": "stdout",
     "output_type": "stream",
     "text": [
      "rendering 5 examples in 250 steps.\n",
      "Data shape for PLMS sampling is (5, 3, 64, 64)\n",
      "Running PLMS Sampling with 250 timesteps\n"
     ]
    },
    {
     "name": "stderr",
     "output_type": "stream",
     "text": [
      "PLMS Sampler: 100%|██████████| 250/250 [00:12<00:00, 20.19it/s]\n"
     ]
    },
    {
     "name": "stdout",
     "output_type": "stream",
     "text": [
      "rendering 5 examples in 250 steps.\n",
      "Data shape for PLMS sampling is (5, 3, 64, 64)\n",
      "Running PLMS Sampling with 250 timesteps\n"
     ]
    },
    {
     "name": "stderr",
     "output_type": "stream",
     "text": [
      "PLMS Sampler: 100%|██████████| 250/250 [00:12<00:00, 20.19it/s]\n"
     ]
    },
    {
     "name": "stdout",
     "output_type": "stream",
     "text": [
      "rendering 5 examples in 250 steps.\n",
      "Data shape for PLMS sampling is (5, 3, 64, 64)\n",
      "Running PLMS Sampling with 250 timesteps\n"
     ]
    },
    {
     "name": "stderr",
     "output_type": "stream",
     "text": [
      "PLMS Sampler: 100%|██████████| 250/250 [00:12<00:00, 20.18it/s]\n"
     ]
    },
    {
     "name": "stdout",
     "output_type": "stream",
     "text": [
      "rendering 5 examples in 250 steps.\n",
      "Data shape for PLMS sampling is (5, 3, 64, 64)\n",
      "Running PLMS Sampling with 250 timesteps\n"
     ]
    },
    {
     "name": "stderr",
     "output_type": "stream",
     "text": [
      "PLMS Sampler: 100%|██████████| 250/250 [00:12<00:00, 20.19it/s]\n"
     ]
    },
    {
     "name": "stdout",
     "output_type": "stream",
     "text": [
      "rendering 5 examples in 250 steps.\n",
      "Data shape for PLMS sampling is (5, 3, 64, 64)\n",
      "Running PLMS Sampling with 250 timesteps\n"
     ]
    },
    {
     "name": "stderr",
     "output_type": "stream",
     "text": [
      "PLMS Sampler: 100%|██████████| 250/250 [00:12<00:00, 20.18it/s]\n"
     ]
    },
    {
     "name": "stdout",
     "output_type": "stream",
     "text": [
      "rendering 5 examples in 250 steps.\n",
      "Data shape for PLMS sampling is (5, 3, 64, 64)\n",
      "Running PLMS Sampling with 250 timesteps\n"
     ]
    },
    {
     "name": "stderr",
     "output_type": "stream",
     "text": [
      "PLMS Sampler: 100%|██████████| 250/250 [00:12<00:00, 20.19it/s]\n"
     ]
    },
    {
     "name": "stdout",
     "output_type": "stream",
     "text": [
      "rendering 5 examples in 250 steps.\n",
      "Data shape for PLMS sampling is (5, 3, 64, 64)\n",
      "Running PLMS Sampling with 250 timesteps\n"
     ]
    },
    {
     "name": "stderr",
     "output_type": "stream",
     "text": [
      "PLMS Sampler: 100%|██████████| 250/250 [00:12<00:00, 20.18it/s]\n"
     ]
    },
    {
     "name": "stdout",
     "output_type": "stream",
     "text": [
      "rendering 5 examples in 250 steps.\n",
      "Data shape for PLMS sampling is (5, 3, 64, 64)\n",
      "Running PLMS Sampling with 250 timesteps\n"
     ]
    },
    {
     "name": "stderr",
     "output_type": "stream",
     "text": [
      "PLMS Sampler: 100%|██████████| 250/250 [00:12<00:00, 20.17it/s]\n"
     ]
    },
    {
     "name": "stdout",
     "output_type": "stream",
     "text": [
      "rendering 5 examples in 250 steps.\n",
      "Data shape for PLMS sampling is (5, 3, 64, 64)\n",
      "Running PLMS Sampling with 250 timesteps\n"
     ]
    },
    {
     "name": "stderr",
     "output_type": "stream",
     "text": [
      "PLMS Sampler: 100%|██████████| 250/250 [00:12<00:00, 20.16it/s]\n"
     ]
    },
    {
     "name": "stdout",
     "output_type": "stream",
     "text": [
      "rendering 5 examples in 250 steps.\n",
      "Data shape for PLMS sampling is (5, 3, 64, 64)\n",
      "Running PLMS Sampling with 250 timesteps\n"
     ]
    },
    {
     "name": "stderr",
     "output_type": "stream",
     "text": [
      "PLMS Sampler: 100%|██████████| 250/250 [00:12<00:00, 20.18it/s]\n"
     ]
    },
    {
     "name": "stdout",
     "output_type": "stream",
     "text": [
      "rendering 5 examples in 250 steps.\n",
      "Data shape for PLMS sampling is (5, 3, 64, 64)\n",
      "Running PLMS Sampling with 250 timesteps\n"
     ]
    },
    {
     "name": "stderr",
     "output_type": "stream",
     "text": [
      "PLMS Sampler: 100%|██████████| 250/250 [00:12<00:00, 20.15it/s]\n"
     ]
    },
    {
     "name": "stdout",
     "output_type": "stream",
     "text": [
      "rendering 5 examples in 250 steps.\n",
      "Data shape for PLMS sampling is (5, 3, 64, 64)\n",
      "Running PLMS Sampling with 250 timesteps\n"
     ]
    },
    {
     "name": "stderr",
     "output_type": "stream",
     "text": [
      "PLMS Sampler: 100%|██████████| 250/250 [00:12<00:00, 20.17it/s]\n"
     ]
    },
    {
     "name": "stdout",
     "output_type": "stream",
     "text": [
      "rendering 5 examples in 250 steps.\n",
      "Data shape for PLMS sampling is (5, 3, 64, 64)\n",
      "Running PLMS Sampling with 250 timesteps\n"
     ]
    },
    {
     "name": "stderr",
     "output_type": "stream",
     "text": [
      "PLMS Sampler: 100%|██████████| 250/250 [00:12<00:00, 20.18it/s]\n"
     ]
    },
    {
     "name": "stdout",
     "output_type": "stream",
     "text": [
      "rendering 5 examples in 250 steps.\n",
      "Data shape for PLMS sampling is (5, 3, 64, 64)\n",
      "Running PLMS Sampling with 250 timesteps\n"
     ]
    },
    {
     "name": "stderr",
     "output_type": "stream",
     "text": [
      "PLMS Sampler: 100%|██████████| 250/250 [00:12<00:00, 20.18it/s]\n"
     ]
    },
    {
     "name": "stdout",
     "output_type": "stream",
     "text": [
      "rendering 5 examples in 250 steps.\n",
      "Data shape for PLMS sampling is (5, 3, 64, 64)\n",
      "Running PLMS Sampling with 250 timesteps\n"
     ]
    },
    {
     "name": "stderr",
     "output_type": "stream",
     "text": [
      "PLMS Sampler: 100%|██████████| 250/250 [00:12<00:00, 20.18it/s]\n"
     ]
    },
    {
     "name": "stdout",
     "output_type": "stream",
     "text": [
      "rendering 5 examples in 250 steps.\n",
      "Data shape for PLMS sampling is (5, 3, 64, 64)\n",
      "Running PLMS Sampling with 250 timesteps\n"
     ]
    },
    {
     "name": "stderr",
     "output_type": "stream",
     "text": [
      "PLMS Sampler: 100%|██████████| 250/250 [00:12<00:00, 20.18it/s]\n"
     ]
    },
    {
     "name": "stdout",
     "output_type": "stream",
     "text": [
      "rendering 5 examples in 250 steps.\n",
      "Data shape for PLMS sampling is (5, 3, 64, 64)\n",
      "Running PLMS Sampling with 250 timesteps\n"
     ]
    },
    {
     "name": "stderr",
     "output_type": "stream",
     "text": [
      "PLMS Sampler: 100%|██████████| 250/250 [00:12<00:00, 20.17it/s]\n"
     ]
    },
    {
     "name": "stdout",
     "output_type": "stream",
     "text": [
      "rendering 5 examples in 250 steps.\n",
      "Data shape for PLMS sampling is (5, 3, 64, 64)\n",
      "Running PLMS Sampling with 250 timesteps\n"
     ]
    },
    {
     "name": "stderr",
     "output_type": "stream",
     "text": [
      "PLMS Sampler: 100%|██████████| 250/250 [00:12<00:00, 20.18it/s]\n"
     ]
    },
    {
     "name": "stdout",
     "output_type": "stream",
     "text": [
      "rendering 5 examples in 250 steps.\n",
      "Data shape for PLMS sampling is (5, 3, 64, 64)\n",
      "Running PLMS Sampling with 250 timesteps\n"
     ]
    },
    {
     "name": "stderr",
     "output_type": "stream",
     "text": []
    }
   ],
   "source": [
    "# generate images\n",
    "# generate limited train images and generate images for subjects seperately\n",
    "generate_images(generative_model, fmri_latents_dataset_train, fmri_latents_dataset_test, config)\n",
    "wandb_finish()"
   ]
  },
  {
   "cell_type": "code",
   "execution_count": null,
   "metadata": {},
   "outputs": [],
   "source": []
  }
 ],
 "metadata": {
  "kernelspec": {
   "display_name": "nsp",
   "language": "python",
   "name": "python3"
  },
  "language_info": {
   "codemirror_mode": {
    "name": "ipython",
    "version": 3
   },
   "file_extension": ".py",
   "mimetype": "text/x-python",
   "name": "python",
   "nbconvert_exporter": "python",
   "pygments_lexer": "ipython3",
   "version": "3.8.20"
  },
  "orig_nbformat": 4
 },
 "nbformat": 4,
 "nbformat_minor": 2
}
