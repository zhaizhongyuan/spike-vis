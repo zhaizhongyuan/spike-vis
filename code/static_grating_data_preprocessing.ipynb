{
 "cells": [
  {
   "cell_type": "code",
   "execution_count": 6,
   "metadata": {},
   "outputs": [],
   "source": [
    "import os\n",
    "from os.path import join, splitext\n",
    "import numpy as np\n",
    "from tqdm.notebook import tqdm"
   ]
  },
  {
   "cell_type": "code",
   "execution_count": 4,
   "metadata": {},
   "outputs": [],
   "source": [
    "data_dir = '../data/ALLEN/static_grating_orientation'\n",
    "neural_dir = 'neural'\n",
    "target_dir = 'target'"
   ]
  },
  {
   "cell_type": "code",
   "execution_count": 5,
   "metadata": {},
   "outputs": [],
   "source": [
    "neural_filenames = sorted(os.listdir(join(data_dir, neural_dir)))\n",
    "n_neuron = 0\n",
    "for neural_filename in neural_filenames:\n",
    "    neural_arr = np.load(join(data_dir, join(neural_dir, neural_filename)))\n",
    "    n_neuron += neural_arr.shape[0]\n",
    "    n_timestamps = neural_arr.shape[1]"
   ]
  },
  {
   "cell_type": "code",
   "execution_count": 7,
   "metadata": {},
   "outputs": [
    {
     "data": {
      "application/vnd.jupyter.widget-view+json": {
       "model_id": "25a5f87f921445e3a13934bcd5ad3500",
       "version_major": 2,
       "version_minor": 0
      },
      "text/plain": [
       "  0%|          | 0/31 [00:00<?, ?it/s]"
      ]
     },
     "metadata": {},
     "output_type": "display_data"
    }
   ],
   "source": [
    "# Initialize a big total neural arr\n",
    "cnt_per_target = 800\n",
    "filename = 'VISp_static_grating_neural.npy'\n",
    "total_neural_arr = np.memmap(join(data_dir, filename), dtype='float64', mode='w+', shape=(n_neuron, n_timestamps, cnt_per_target*6)) # 6 unique targets\n",
    "curr_total_n_neuron = 0\n",
    "# Loop into each smaller neural arr from each experiment\n",
    "for neural_filename in tqdm(neural_filenames):\n",
    "    # Get target filename\n",
    "    neural_arr = np.load(join(data_dir, join(neural_dir, neural_filename)))\n",
    "    target_filename = splitext(neural_filename)[0].split('_')\n",
    "    target_filename[-2] = 'orientations'\n",
    "    target_filename = '_'.join(target_filename) + '.npy'\n",
    "\n",
    "    # Get a sorted neural arr in terms of unique targets\n",
    "    target_arr = np.load(join(data_dir, join(target_dir, target_filename)))\n",
    "    uniq_targets = np.unique(target_arr)\n",
    "    sorted_neural_idx = []\n",
    "    for target in uniq_targets:\n",
    "        sorted_neural_idx.extend(np.where(target_arr == target)[0][:cnt_per_target])\n",
    "    sorted_neural_arr = neural_arr[:, :, sorted_neural_idx]\n",
    "\n",
    "    # Save this neural arr into the total neural arr\n",
    "    curr_n_neuron = sorted_neural_arr.shape[0]\n",
    "    total_neural_arr[curr_total_n_neuron:curr_total_n_neuron+curr_n_neuron, :, :] = sorted_neural_arr\n",
    "    curr_total_n_neuron += curr_n_neuron\n",
    "\n",
    "total_neural_arr.flush()"
   ]
  },
  {
   "cell_type": "code",
   "execution_count": 8,
   "metadata": {},
   "outputs": [
    {
     "data": {
      "text/plain": [
       "(1963, 250, 4800)"
      ]
     },
     "execution_count": 8,
     "metadata": {},
     "output_type": "execute_result"
    }
   ],
   "source": [
    "total_neural_arr.shape"
   ]
  },
  {
   "cell_type": "code",
   "execution_count": 9,
   "metadata": {},
   "outputs": [
    {
     "data": {
      "application/vnd.jupyter.widget-view+json": {
       "model_id": "55ffdcd13ea04232b28c9ece0b98239c",
       "version_major": 2,
       "version_minor": 0
      },
      "text/plain": [
       "  0%|          | 0/4800 [00:00<?, ?it/s]"
      ]
     },
     "metadata": {},
     "output_type": "display_data"
    }
   ],
   "source": [
    "for i in tqdm(range(total_neural_arr.shape[-1])):\n",
    "    np.save(join(data_dir, f'neural_per_exp/VISp_static_grating_neural_trial_{i}.npy'), total_neural_arr[:, :, i])"
   ]
  },
  {
   "cell_type": "code",
   "execution_count": 10,
   "metadata": {},
   "outputs": [
    {
     "data": {
      "text/plain": [
       "(1963, 250)"
      ]
     },
     "execution_count": 10,
     "metadata": {},
     "output_type": "execute_result"
    }
   ],
   "source": [
    "np.load(join(data_dir, f'neural_per_exp/VISp_static_grating_neural_trial_555.npy')).shape"
   ]
  },
  {
   "cell_type": "code",
   "execution_count": null,
   "metadata": {},
   "outputs": [],
   "source": []
  }
 ],
 "metadata": {
  "kernelspec": {
   "display_name": "nsp",
   "language": "python",
   "name": "python3"
  },
  "language_info": {
   "codemirror_mode": {
    "name": "ipython",
    "version": 3
   },
   "file_extension": ".py",
   "mimetype": "text/x-python",
   "name": "python",
   "nbconvert_exporter": "python",
   "pygments_lexer": "ipython3",
   "version": "3.10.13"
  },
  "orig_nbformat": 4
 },
 "nbformat": 4,
 "nbformat_minor": 2
}
