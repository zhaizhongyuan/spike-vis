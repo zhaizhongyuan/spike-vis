{
 "cells": [
  {
   "cell_type": "code",
   "execution_count": 8,
   "metadata": {},
   "outputs": [],
   "source": [
    "import os, sys\n",
    "import numpy as np\n",
    "import torch\n",
    "from torch.utils.data import DataLoader\n",
    "from torch.nn.parallel import DistributedDataParallel\n",
    "import argparse\n",
    "import time\n",
    "import timm.optim.optim_factory as optim_factory\n",
    "import datetime\n",
    "import matplotlib.pyplot as plt\n",
    "import wandb\n",
    "import copy\n",
    "\n",
    "from config import Config_MBM_fMRI\n",
    "from dataset import hcp_dataset\n",
    "from sc_mbm.mae_for_fmri import MAEforFMRI\n",
    "from sc_mbm.trainer import train_one_epoch\n",
    "from sc_mbm.trainer import NativeScalerWithGradNormCount as NativeScaler\n",
    "from sc_mbm.utils import save_model"
   ]
  },
  {
   "cell_type": "code",
   "execution_count": 9,
   "metadata": {},
   "outputs": [],
   "source": [
    "os.environ[\"WANDB_START_METHOD\"] = \"thread\"\n",
    "os.environ['WANDB_DIR'] = \".\"\n",
    "\n",
    "class wandb_logger:\n",
    "    def __init__(self, config):\n",
    "        wandb.init(\n",
    "                    project=\"mind-vis\",\n",
    "                    anonymous=\"allow\",\n",
    "                    group='stageA_sc-mbm',\n",
    "                    config=config,\n",
    "                    reinit=True)\n",
    "\n",
    "        self.config = config\n",
    "        self.step = None\n",
    "    \n",
    "    def log(self, name, data, step=None):\n",
    "        if step is None:\n",
    "            wandb.log({name: data})\n",
    "        else:\n",
    "            wandb.log({name: data}, step=step)\n",
    "            self.step = step\n",
    "    \n",
    "    def watch_model(self, *args, **kwargs):\n",
    "        wandb.watch(*args, **kwargs)\n",
    "\n",
    "    def log_image(self, name, fig):\n",
    "        if self.step is None:\n",
    "            wandb.log({name: wandb.Image(fig)})\n",
    "        else:\n",
    "            wandb.log({name: wandb.Image(fig)}, step=self.step)\n",
    "\n",
    "    def finish(self):\n",
    "        wandb.finish(quiet=True)"
   ]
  },
  {
   "cell_type": "code",
   "execution_count": 4,
   "metadata": {},
   "outputs": [],
   "source": [
    "def create_readme(config, path):\n",
    "    print(config.__dict__)\n",
    "    with open(os.path.join(path, 'README.md'), 'w+') as f:\n",
    "        print(config.__dict__, file=f)"
   ]
  },
  {
   "cell_type": "code",
   "execution_count": 5,
   "metadata": {},
   "outputs": [],
   "source": [
    "def fmri_transform(x, sparse_rate=0.2):\n",
    "    # x: 1, num_voxels\n",
    "    x_aug = copy.deepcopy(x)\n",
    "    idx = np.random.choice(x.shape[0], int(x.shape[0]*sparse_rate), replace=False)\n",
    "    x_aug[idx] = 0\n",
    "    return torch.FloatTensor(x_aug)"
   ]
  },
  {
   "cell_type": "code",
   "execution_count": 6,
   "metadata": {},
   "outputs": [],
   "source": [
    "config = Config_MBM_fMRI()"
   ]
  },
  {
   "cell_type": "code",
   "execution_count": 7,
   "metadata": {},
   "outputs": [
    {
     "name": "stderr",
     "output_type": "stream",
     "text": [
      "\u001b[34m\u001b[1mwandb\u001b[0m: Using wandb-core as the SDK backend.  Please refer to https://wandb.me/wandb-core for more information.\n",
      "\u001b[34m\u001b[1mwandb\u001b[0m: Currently logged in as: \u001b[33mzhaizhongyuan\u001b[0m (\u001b[33m11785-bhiksha\u001b[0m). Use \u001b[1m`wandb login --relogin`\u001b[0m to force relogin\n"
     ]
    },
    {
     "data": {
      "text/html": [
       "Tracking run with wandb version 0.18.6"
      ],
      "text/plain": [
       "<IPython.core.display.HTML object>"
      ]
     },
     "metadata": {},
     "output_type": "display_data"
    },
    {
     "data": {
      "text/html": [
       "Run data is saved locally in <code>./wandb/run-20241113_221955-8s3kwic7</code>"
      ],
      "text/plain": [
       "<IPython.core.display.HTML object>"
      ]
     },
     "metadata": {},
     "output_type": "display_data"
    },
    {
     "data": {
      "text/html": [
       "Syncing run <strong><a href='https://wandb.ai/11785-bhiksha/mind-vis/runs/8s3kwic7' target=\"_blank\">jumping-disco-6</a></strong> to <a href='https://wandb.ai/11785-bhiksha/mind-vis' target=\"_blank\">Weights & Biases</a> (<a href='https://wandb.me/developer-guide' target=\"_blank\">docs</a>)<br/>"
      ],
      "text/plain": [
       "<IPython.core.display.HTML object>"
      ]
     },
     "metadata": {},
     "output_type": "display_data"
    },
    {
     "data": {
      "text/html": [
       " View project at <a href='https://wandb.ai/11785-bhiksha/mind-vis' target=\"_blank\">https://wandb.ai/11785-bhiksha/mind-vis</a>"
      ],
      "text/plain": [
       "<IPython.core.display.HTML object>"
      ]
     },
     "metadata": {},
     "output_type": "display_data"
    },
    {
     "data": {
      "text/html": [
       " View run at <a href='https://wandb.ai/11785-bhiksha/mind-vis/runs/8s3kwic7' target=\"_blank\">https://wandb.ai/11785-bhiksha/mind-vis/runs/8s3kwic7</a>"
      ],
      "text/plain": [
       "<IPython.core.display.HTML object>"
      ]
     },
     "metadata": {},
     "output_type": "display_data"
    },
    {
     "name": "stdout",
     "output_type": "stream",
     "text": [
      "{'lr': 0.00025, 'min_lr': 0.0, 'weight_decay': 0.05, 'num_epoch': 500, 'warmup_epochs': 40, 'batch_size': 100, 'clip_grad': 0.8, 'mask_ratio': 0.75, 'patch_size': 16, 'embed_dim': 1024, 'decoder_embed_dim': 512, 'depth': 24, 'num_heads': 16, 'decoder_num_heads': 16, 'mlp_ratio': 1.0, 'root_path': '../', 'output_path': '../results/fmri_pretrain/13-11-2024-22-19-55', 'seed': 2022, 'roi': 'VC', 'aug_times': 1, 'num_sub_limit': None, 'include_hcp': True, 'include_kam': True, 'accum_iter': 1, 'use_nature_img_loss': False, 'img_recon_weight': 0.5, 'focus_range': None, 'focus_rate': 0.6, 'local_rank': 0}\n"
     ]
    }
   ],
   "source": [
    "if torch.cuda.device_count() > 1:\n",
    "    torch.cuda.set_device(config.local_rank) \n",
    "    torch.distributed.init_process_group(backend='nccl')\n",
    "output_path = os.path.join(config.root_path, 'results', 'fmri_pretrain',  '%s'%(datetime.datetime.now().strftime(\"%d-%m-%Y-%H-%M-%S\")))\n",
    "# output_path = os.path.join(config.root_path, 'results', 'fmri_pretrain')\n",
    "config.output_path = output_path\n",
    "logger = wandb_logger(config) if config.local_rank == 0 else None\n",
    "\n",
    "if config.local_rank == 0:\n",
    "    os.makedirs(output_path, exist_ok=True)\n",
    "    create_readme(config, output_path)\n",
    "\n",
    "device = torch.device(f'cuda:{config.local_rank}') if torch.cuda.is_available() else torch.device('cpu')\n",
    "torch.manual_seed(config.seed)\n",
    "np.random.seed(config.seed)"
   ]
  },
  {
   "cell_type": "code",
   "execution_count": 7,
   "metadata": {},
   "outputs": [
    {
     "data": {
      "text/plain": [
       "torch.Size([4, 10])"
      ]
     },
     "execution_count": 7,
     "metadata": {},
     "output_type": "execute_result"
    }
   ],
   "source": [
    "torch.concatenate([torch.zeros(4, 5), torch.zeros(4, 5)], dim=1).shape"
   ]
  },
  {
   "cell_type": "code",
   "execution_count": 8,
   "metadata": {},
   "outputs": [],
   "source": [
    "config.root_path = '../'"
   ]
  },
  {
   "cell_type": "code",
   "execution_count": 9,
   "metadata": {},
   "outputs": [
    {
     "name": "stdout",
     "output_type": "stream",
     "text": [
      "Dataset size: 6360\n",
      "Number of voxels: 4656\n"
     ]
    }
   ],
   "source": [
    "# create dataset and dataloader\n",
    "dataset_pretrain = hcp_dataset(path=os.path.join(config.root_path, 'data/HCP/npz'), roi=config.roi, patch_size=config.patch_size,\n",
    "            transform=fmri_transform, aug_times=config.aug_times, num_sub_limit=config.num_sub_limit, \n",
    "            include_kam=config.include_kam, include_hcp=config.include_hcp)\n",
    "\n",
    "print(f'Dataset size: {len(dataset_pretrain)}\\nNumber of voxels: {dataset_pretrain.num_voxels}')\n",
    "sampler = torch.utils.data.DistributedSampler(dataset_pretrain, rank=config.local_rank) if torch.cuda.device_count() > 1 else None \n",
    "\n",
    "dataloader_hcp = DataLoader(dataset_pretrain, batch_size=config.batch_size, sampler=sampler, \n",
    "            shuffle=(sampler is None), pin_memory=True)"
   ]
  },
  {
   "cell_type": "code",
   "execution_count": 10,
   "metadata": {},
   "outputs": [
    {
     "data": {
      "text/plain": [
       "torch.Size([3, 112, 112])"
      ]
     },
     "execution_count": 10,
     "metadata": {},
     "output_type": "execute_result"
    }
   ],
   "source": [
    "dataset_pretrain[0]['image'].shape"
   ]
  },
  {
   "cell_type": "code",
   "execution_count": 11,
   "metadata": {},
   "outputs": [
    {
     "data": {
      "text/plain": [
       "array([0.], dtype=float32)"
      ]
     },
     "execution_count": 11,
     "metadata": {},
     "output_type": "execute_result"
    }
   ],
   "source": [
    "np.unique(dataset_pretrain[0]['image'])"
   ]
  },
  {
   "cell_type": "code",
   "execution_count": 12,
   "metadata": {},
   "outputs": [
    {
     "data": {
      "text/plain": [
       "<matplotlib.image.AxesImage at 0x15544a601840>"
      ]
     },
     "execution_count": 12,
     "metadata": {},
     "output_type": "execute_result"
    },
    {
     "data": {
      "image/png": "[encoded data removed]",
      "text/plain": [
       "<Figure size 640x480 with 1 Axes>"
      ]
     },
     "metadata": {},
     "output_type": "display_data"
    }
   ],
   "source": [
    "plt.imshow(np.transpose(dataset_pretrain[0]['image'], (1, 2, 0)))"
   ]
  },
  {
   "cell_type": "code",
   "execution_count": 13,
   "metadata": {},
   "outputs": [
    {
     "data": {
      "text/plain": [
       "6360"
      ]
     },
     "execution_count": 13,
     "metadata": {},
     "output_type": "execute_result"
    }
   ],
   "source": [
    "len(dataset_pretrain)"
   ]
  },
  {
   "cell_type": "code",
   "execution_count": 14,
   "metadata": {},
   "outputs": [
    {
     "data": {
      "text/plain": [
       "torch.Size([1, 4656])"
      ]
     },
     "execution_count": 14,
     "metadata": {},
     "output_type": "execute_result"
    }
   ],
   "source": [
    "dataset_pretrain[0]['fmri'].shape"
   ]
  },
  {
   "cell_type": "code",
   "execution_count": 15,
   "metadata": {},
   "outputs": [
    {
     "data": {
      "text/plain": [
       "[<matplotlib.lines.Line2D at 0x15521152e380>]"
      ]
     },
     "execution_count": 15,
     "metadata": {},
     "output_type": "execute_result"
    },
    {
     "data": {
      "image/png": "[encoded data removed]",
      "text/plain": [
       "<Figure size 640x480 with 1 Axes>"
      ]
     },
     "metadata": {},
     "output_type": "display_data"
    }
   ],
   "source": [
    "plt.plot(np.arange(len(dataset_pretrain[0]['fmri'].flatten())), dataset_pretrain[0]['fmri'].flatten())"
   ]
  },
  {
   "cell_type": "code",
   "execution_count": 16,
   "metadata": {},
   "outputs": [
    {
     "data": {
      "text/plain": [
       "4656"
      ]
     },
     "execution_count": 16,
     "metadata": {},
     "output_type": "execute_result"
    }
   ],
   "source": [
    "len(dataset_pretrain[0]['fmri'].flatten())"
   ]
  },
  {
   "cell_type": "code",
   "execution_count": 17,
   "metadata": {},
   "outputs": [],
   "source": [
    "sampler = torch.utils.data.DistributedSampler(dataset_pretrain, rank=config.local_rank) if torch.cuda.device_count() > 1 else None \n",
    "\n",
    "dataloader_hcp = DataLoader(dataset_pretrain, batch_size=config.batch_size, sampler=sampler, \n",
    "            shuffle=(sampler is None), pin_memory=True)"
   ]
  },
  {
   "cell_type": "code",
   "execution_count": 18,
   "metadata": {},
   "outputs": [
    {
     "name": "stdout",
     "output_type": "stream",
     "text": [
      "AdamW (\n",
      "Parameter Group 0\n",
      "    amsgrad: False\n",
      "    betas: (0.9, 0.95)\n",
      "    capturable: False\n",
      "    differentiable: False\n",
      "    eps: 1e-08\n",
      "    foreach: None\n",
      "    fused: None\n",
      "    lr: 0.00025\n",
      "    maximize: False\n",
      "    weight_decay: 0.0\n",
      "\n",
      "Parameter Group 1\n",
      "    amsgrad: False\n",
      "    betas: (0.9, 0.95)\n",
      "    capturable: False\n",
      "    differentiable: False\n",
      "    eps: 1e-08\n",
      "    foreach: None\n",
      "    fused: None\n",
      "    lr: 0.00025\n",
      "    maximize: False\n",
      "    weight_decay: 0.05\n",
      ")\n"
     ]
    },
    {
     "name": "stderr",
     "output_type": "stream",
     "text": [
      "/storage/ice1/1/7/zzhai37/nsp/mind-vis/code/sc_mbm/trainer.py:13: FutureWarning: `torch.cuda.amp.GradScaler(args...)` is deprecated. Please use `torch.amp.GradScaler('cuda', args...)` instead.\n",
      "  self._scaler = torch.cuda.amp.GradScaler()\n"
     ]
    }
   ],
   "source": [
    "# create model\n",
    "config.num_voxels = dataset_pretrain.num_voxels\n",
    "model = MAEforFMRI(num_voxels=dataset_pretrain.num_voxels, patch_size=config.patch_size, embed_dim=config.embed_dim,\n",
    "                decoder_embed_dim=config.decoder_embed_dim, depth=config.depth, \n",
    "                num_heads=config.num_heads, decoder_num_heads=config.decoder_num_heads, mlp_ratio=config.mlp_ratio,\n",
    "                focus_range=config.focus_range, focus_rate=config.focus_rate, \n",
    "                img_recon_weight=config.img_recon_weight, use_nature_img_loss=config.use_nature_img_loss)   \n",
    "model.to(device)\n",
    "model_without_ddp = model\n",
    "if torch.cuda.device_count() > 1:\n",
    "    model = torch.nn.SyncBatchNorm.convert_sync_batchnorm(model)\n",
    "    model = DistributedDataParallel(model, device_ids=[config.local_rank], output_device=config.local_rank, find_unused_parameters=config.use_nature_img_loss)\n",
    "\n",
    "param_groups = optim_factory.add_weight_decay(model, config.weight_decay)\n",
    "optimizer = torch.optim.AdamW(param_groups, lr=config.lr, betas=(0.9, 0.95))\n",
    "print(optimizer)\n",
    "loss_scaler = NativeScaler()"
   ]
  },
  {
   "cell_type": "code",
   "execution_count": 1,
   "metadata": {},
   "outputs": [
    {
     "ename": "NameError",
     "evalue": "name 'logger' is not defined",
     "output_type": "error",
     "traceback": [
      "\u001b[0;31m---------------------------------------------------------------------------\u001b[0m",
      "\u001b[0;31mNameError\u001b[0m                                 Traceback (most recent call last)",
      "Cell \u001b[0;32mIn[1], line 1\u001b[0m\n\u001b[0;32m----> 1\u001b[0m \u001b[39mif\u001b[39;00m logger \u001b[39mis\u001b[39;00m \u001b[39mnot\u001b[39;00m \u001b[39mNone\u001b[39;00m:\n\u001b[1;32m      2\u001b[0m     logger\u001b[39m.\u001b[39mwatch_model(model,log\u001b[39m=\u001b[39m\u001b[39m'\u001b[39m\u001b[39mall\u001b[39m\u001b[39m'\u001b[39m, log_freq\u001b[39m=\u001b[39m\u001b[39m1000\u001b[39m)\n\u001b[1;32m      4\u001b[0m cor_list \u001b[39m=\u001b[39m []\n",
      "\u001b[0;31mNameError\u001b[0m: name 'logger' is not defined"
     ]
    }
   ],
   "source": [
    "if logger is not None:\n",
    "    logger.watch_model(model,log='all', log_freq=1000)\n",
    "\n",
    "cor_list = []\n",
    "start_time = time.time()\n",
    "print('Start Training the fmri MAE ... ...')\n",
    "img_feature_extractor = None\n",
    "preprocess = None\n",
    "if config.use_nature_img_loss:\n",
    "    from torchvision.models import resnet50, ResNet50_Weights\n",
    "    from torchvision.models.feature_extraction import create_feature_extractor\n",
    "    weights = ResNet50_Weights.DEFAULT\n",
    "    preprocess = weights.transforms()\n",
    "    m = resnet50(weights=weights)   \n",
    "    img_feature_extractor = create_feature_extractor(m, return_nodes={f'layer2': 'layer2'}).to(device).eval()\n",
    "    for param in img_feature_extractor.parameters():\n",
    "        param.requires_grad = False"
   ]
  },
  {
   "cell_type": "code",
   "execution_count": 20,
   "metadata": {},
   "outputs": [],
   "source": [
    "@torch.no_grad()\n",
    "def plot_recon_figures(model, device, dataset, output_path, num_figures = 5, config=None, logger=None, model_without_ddp=None):\n",
    "    dataloader = DataLoader(dataset, batch_size=1, shuffle=True)\n",
    "    model.eval()\n",
    "    fig, axs = plt.subplots(num_figures, 3, figsize=(30,15))\n",
    "    fig.tight_layout()\n",
    "    axs[0,0].set_title('Ground-truth')\n",
    "    axs[0,1].set_title('Masked Ground-truth')\n",
    "    axs[0,2].set_title('Reconstruction')\n",
    "\n",
    "    for ax in axs:\n",
    "        sample = next(iter(dataloader))['fmri']\n",
    "        sample = sample.to(device)\n",
    "        _, pred, mask = model(sample, mask_ratio=config.mask_ratio)\n",
    "        sample_with_mask = model_without_ddp.patchify(sample).to('cpu').numpy().reshape(-1, model_without_ddp.patch_size)\n",
    "        pred = model_without_ddp.unpatchify(pred).to('cpu').numpy().reshape(-1)\n",
    "        sample = sample.to('cpu').numpy().reshape(-1)\n",
    "        mask = mask.to('cpu').numpy().reshape(-1)\n",
    "        # cal the cor\n",
    "        cor = np.corrcoef([pred, sample])[0,1]\n",
    "\n",
    "        x_axis = np.arange(0, sample.shape[-1])\n",
    "        # groundtruth\n",
    "        ax[0].plot(x_axis, sample)\n",
    "        # groundtruth with mask\n",
    "        s = 0\n",
    "        for x, m in zip(sample_with_mask,mask):\n",
    "            if m == 0:\n",
    "                ax[1].plot(x_axis[s:s+len(x)], x, color='#1f77b4')\n",
    "            s += len(x)\n",
    "        # pred\n",
    "        ax[2].plot(x_axis, pred)\n",
    "        ax[2].set_ylabel('cor: %.4f'%cor, weight = 'bold')\n",
    "        ax[2].yaxis.set_label_position(\"right\")\n",
    "\n",
    "    fig_name = 'reconst-%s'%(datetime.datetime.now().strftime(\"%d-%m-%Y-%H-%M-%S\"))\n",
    "    fig.savefig(os.path.join(output_path, f'{fig_name}.png'))\n",
    "    if logger is not None:\n",
    "        logger.log_image('reconst', fig)\n",
    "    plt.close(fig)\n",
    "\n",
    "def update_config(args, config):\n",
    "    for attr in config.__dict__:\n",
    "        if hasattr(args, attr):\n",
    "            if getattr(args, attr) != None:\n",
    "                setattr(config, attr, getattr(args, attr))\n",
    "    return config"
   ]
  },
  {
   "cell_type": "code",
   "execution_count": 22,
   "metadata": {},
   "outputs": [],
   "source": [
    "config.num_epoch = 10"
   ]
  },
  {
   "cell_type": "code",
   "execution_count": 23,
   "metadata": {},
   "outputs": [
    {
     "name": "stderr",
     "output_type": "stream",
     "text": [
      "/storage/ice1/1/7/zzhai37/nsp/mind-vis/code/sc_mbm/trainer.py:80: FutureWarning: `torch.cuda.amp.autocast(args...)` is deprecated. Please use `torch.amp.autocast('cuda', args...)` instead.\n",
      "  with torch.cuda.amp.autocast(enabled=True):\n"
     ]
    },
    {
     "name": "stdout",
     "output_type": "stream",
     "text": [
      "[Epoch 0] loss: 1.477977312169969\n",
      "[Epoch 1] loss: 0.8830457776784897\n",
      "[Epoch 2] loss: 0.8576192958280444\n",
      "[Epoch 3] loss: 0.8501766379922628\n",
      "[Epoch 4] loss: 0.8490530531853437\n",
      "[Epoch 5] loss: 0.8474541679024696\n",
      "[Epoch 6] loss: 0.8490197267383337\n",
      "[Epoch 7] loss: 0.8458540877327323\n",
      "[Epoch 8] loss: 0.8482885481789708\n",
      "[Epoch 9] loss: 0.8482541739940643\n",
      "Training time 0:03:47\n"
     ]
    },
    {
     "data": {
      "text/html": [
       " View run <strong style=\"color:#cdcd00\">jumping-disco-6</strong> at: <a href='https://wandb.ai/11785-bhiksha/mind-vis/runs/8s3kwic7' target=\"_blank\">https://wandb.ai/11785-bhiksha/mind-vis/runs/8s3kwic7</a><br/> View project at: <a href='https://wandb.ai/11785-bhiksha/mind-vis' target=\"_blank\">https://wandb.ai/11785-bhiksha/mind-vis</a><br/>Synced 5 W&B file(s), 0 media file(s), 0 artifact file(s) and 1 other file(s)"
      ],
      "text/plain": [
       "<IPython.core.display.HTML object>"
      ]
     },
     "metadata": {},
     "output_type": "display_data"
    },
    {
     "ename": "SyntaxError",
     "evalue": "'return' outside function (1866882535.py, line 19)",
     "output_type": "error",
     "traceback": [
      "\u001b[0;36m  Cell \u001b[0;32mIn[23], line 19\u001b[0;36m\u001b[0m\n\u001b[0;31m    return\u001b[0m\n\u001b[0m    ^\u001b[0m\n\u001b[0;31mSyntaxError\u001b[0m\u001b[0;31m:\u001b[0m 'return' outside function\n"
     ]
    }
   ],
   "source": [
    "for ep in range(config.num_epoch):\n",
    "    if torch.cuda.device_count() > 1: \n",
    "        sampler.set_epoch(ep) # to shuffle the data at every epoch\n",
    "    cor = train_one_epoch(model, dataloader_hcp, optimizer, device, ep, loss_scaler, logger, config, start_time, model_without_ddp,\n",
    "                        img_feature_extractor, preprocess)\n",
    "    cor_list.append(cor)\n",
    "    if (ep % 20 == 0 or ep + 1 == config.num_epoch) and ep != 0 and config.local_rank == 0:\n",
    "        # save models\n",
    "        save_model(config, ep, model_without_ddp, optimizer, loss_scaler, os.path.join(output_path,'checkpoints'))\n",
    "        # plot figures\n",
    "        plot_recon_figures(model, device, dataset_pretrain, output_path, 5, config, logger, model_without_ddp)\n",
    "        \n",
    "total_time = time.time() - start_time\n",
    "total_time_str = str(datetime.timedelta(seconds=int(total_time)))\n",
    "print('Training time {}'.format(total_time_str))\n",
    "if logger is not None:\n",
    "    logger.log('max cor', np.max(cor_list), step=config.num_epoch-1)\n",
    "    logger.finish()"
   ]
  },
  {
   "cell_type": "code",
   "execution_count": null,
   "metadata": {},
   "outputs": [],
   "source": []
  }
 ],
 "metadata": {
  "kernelspec": {
   "display_name": "nsp",
   "language": "python",
   "name": "python3"
  },
  "language_info": {
   "codemirror_mode": {
    "name": "ipython",
    "version": 3
   },
   "file_extension": ".py",
   "mimetype": "text/x-python",
   "name": "python",
   "nbconvert_exporter": "python",
   "pygments_lexer": "ipython3",
   "version": "3.10.13"
  },
  "orig_nbformat": 4
 },
 "nbformat": 4,
 "nbformat_minor": 2
}
